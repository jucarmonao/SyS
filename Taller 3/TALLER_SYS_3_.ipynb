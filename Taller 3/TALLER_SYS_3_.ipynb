{
  "nbformat": 4,
  "nbformat_minor": 0,
  "metadata": {
    "kernelspec": {
      "display_name": "Python 3",
      "language": "python",
      "name": "python3"
    },
    "language_info": {
      "codemirror_mode": {
        "name": "ipython",
        "version": 3
      },
      "file_extension": ".py",
      "mimetype": "text/x-python",
      "name": "python",
      "nbconvert_exporter": "python",
      "pygments_lexer": "ipython3",
      "version": "3.7.4"
    },
    "colab": {
      "name": "TALLER SYS 3 .ipynb",
      "provenance": [],
      "collapsed_sections": [],
      "include_colab_link": true
    },
    "widgets": {
      "application/vnd.jupyter.widget-state+json": {
        "2b93e1addcf6402dbbb1de6d97043c5b": {
          "model_module": "@jupyter-widgets/controls",
          "model_name": "VBoxModel",
          "state": {
            "_view_name": "VBoxView",
            "_dom_classes": [
              "widget-interact"
            ],
            "_model_name": "VBoxModel",
            "_view_module": "@jupyter-widgets/controls",
            "_model_module_version": "1.5.0",
            "_view_count": null,
            "_view_module_version": "1.5.0",
            "box_style": "",
            "layout": "IPY_MODEL_c6e2a0ebaad044468b3bec3770e23b14",
            "_model_module": "@jupyter-widgets/controls",
            "children": [
              "IPY_MODEL_ef3150f3cb06495c8324b436abb9d7cd",
              "IPY_MODEL_a6af3593aaaf4e82a155c2a8d7e362da"
            ]
          }
        },
        "c6e2a0ebaad044468b3bec3770e23b14": {
          "model_module": "@jupyter-widgets/base",
          "model_name": "LayoutModel",
          "state": {
            "_view_name": "LayoutView",
            "grid_template_rows": null,
            "right": null,
            "justify_content": null,
            "_view_module": "@jupyter-widgets/base",
            "overflow": null,
            "_model_module_version": "1.2.0",
            "_view_count": null,
            "flex_flow": null,
            "width": null,
            "min_width": null,
            "border": null,
            "align_items": null,
            "bottom": null,
            "_model_module": "@jupyter-widgets/base",
            "top": null,
            "grid_column": null,
            "overflow_y": null,
            "overflow_x": null,
            "grid_auto_flow": null,
            "grid_area": null,
            "grid_template_columns": null,
            "flex": null,
            "_model_name": "LayoutModel",
            "justify_items": null,
            "grid_row": null,
            "max_height": null,
            "align_content": null,
            "visibility": null,
            "align_self": null,
            "height": null,
            "min_height": null,
            "padding": null,
            "grid_auto_rows": null,
            "grid_gap": null,
            "max_width": null,
            "order": null,
            "_view_module_version": "1.2.0",
            "grid_template_areas": null,
            "object_position": null,
            "object_fit": null,
            "grid_auto_columns": null,
            "margin": null,
            "display": null,
            "left": null
          }
        },
        "ef3150f3cb06495c8324b436abb9d7cd": {
          "model_module": "@jupyter-widgets/controls",
          "model_name": "FloatSliderModel",
          "state": {
            "_view_name": "FloatSliderView",
            "style": "IPY_MODEL_0d87d6ad315c40d3a1430fc324513495",
            "_dom_classes": [],
            "description": "c_entrada",
            "step": 0.1,
            "_model_name": "FloatSliderModel",
            "orientation": "horizontal",
            "max": 1,
            "_view_module": "@jupyter-widgets/controls",
            "_model_module_version": "1.5.0",
            "value": 0.5,
            "_view_count": null,
            "disabled": false,
            "_view_module_version": "1.5.0",
            "min": 0.1,
            "continuous_update": true,
            "readout_format": ".2f",
            "description_tooltip": null,
            "readout": true,
            "_model_module": "@jupyter-widgets/controls",
            "layout": "IPY_MODEL_bf6f9a7bf8f74e0981d9c52c020117b9"
          }
        },
        "a6af3593aaaf4e82a155c2a8d7e362da": {
          "model_module": "@jupyter-widgets/output",
          "model_name": "OutputModel",
          "state": {
            "_view_name": "OutputView",
            "msg_id": "",
            "_dom_classes": [],
            "_model_name": "OutputModel",
            "outputs": [
              {
                "output_type": "stream",
                "metadata": {
                  "tags": []
                },
                "text": "/usr/local/lib/python3.6/dist-packages/sympy/plotting/plot.py:890: MatplotlibDeprecationWarning: \nThe set_smart_bounds function was deprecated in Matplotlib 3.2 and will be removed two minor releases later.\n  self.ax.spines['left'].set_smart_bounds(True)\n/usr/local/lib/python3.6/dist-packages/sympy/plotting/plot.py:891: MatplotlibDeprecationWarning: \nThe set_smart_bounds function was deprecated in Matplotlib 3.2 and will be removed two minor releases later.\n  self.ax.spines['bottom'].set_smart_bounds(False)\n",
                "stream": "stderr"
              },
              {
                "output_type": "display_data",
                "metadata": {
                  "tags": [],
                  "needs_background": "light"
                },
                "image/png": "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\n",
                "text/plain": "<Figure size 432x288 with 1 Axes>"
              },
              {
                "output_type": "display_data",
                "metadata": {
                  "tags": [],
                  "needs_background": "light"
                },
                "image/png": "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\n",
                "text/plain": "<Figure size 432x288 with 1 Axes>"
              }
            ],
            "_view_module": "@jupyter-widgets/output",
            "_model_module_version": "1.0.0",
            "_view_count": null,
            "_view_module_version": "1.0.0",
            "layout": "IPY_MODEL_7b9997a9f8b6460381233ebc745efdfe",
            "_model_module": "@jupyter-widgets/output"
          }
        },
        "0d87d6ad315c40d3a1430fc324513495": {
          "model_module": "@jupyter-widgets/controls",
          "model_name": "SliderStyleModel",
          "state": {
            "_view_name": "StyleView",
            "handle_color": null,
            "_model_name": "SliderStyleModel",
            "description_width": "",
            "_view_module": "@jupyter-widgets/base",
            "_model_module_version": "1.5.0",
            "_view_count": null,
            "_view_module_version": "1.2.0",
            "_model_module": "@jupyter-widgets/controls"
          }
        },
        "bf6f9a7bf8f74e0981d9c52c020117b9": {
          "model_module": "@jupyter-widgets/base",
          "model_name": "LayoutModel",
          "state": {
            "_view_name": "LayoutView",
            "grid_template_rows": null,
            "right": null,
            "justify_content": null,
            "_view_module": "@jupyter-widgets/base",
            "overflow": null,
            "_model_module_version": "1.2.0",
            "_view_count": null,
            "flex_flow": null,
            "width": null,
            "min_width": null,
            "border": null,
            "align_items": null,
            "bottom": null,
            "_model_module": "@jupyter-widgets/base",
            "top": null,
            "grid_column": null,
            "overflow_y": null,
            "overflow_x": null,
            "grid_auto_flow": null,
            "grid_area": null,
            "grid_template_columns": null,
            "flex": null,
            "_model_name": "LayoutModel",
            "justify_items": null,
            "grid_row": null,
            "max_height": null,
            "align_content": null,
            "visibility": null,
            "align_self": null,
            "height": null,
            "min_height": null,
            "padding": null,
            "grid_auto_rows": null,
            "grid_gap": null,
            "max_width": null,
            "order": null,
            "_view_module_version": "1.2.0",
            "grid_template_areas": null,
            "object_position": null,
            "object_fit": null,
            "grid_auto_columns": null,
            "margin": null,
            "display": null,
            "left": null
          }
        },
        "7b9997a9f8b6460381233ebc745efdfe": {
          "model_module": "@jupyter-widgets/base",
          "model_name": "LayoutModel",
          "state": {
            "_view_name": "LayoutView",
            "grid_template_rows": null,
            "right": null,
            "justify_content": null,
            "_view_module": "@jupyter-widgets/base",
            "overflow": null,
            "_model_module_version": "1.2.0",
            "_view_count": null,
            "flex_flow": null,
            "width": null,
            "min_width": null,
            "border": null,
            "align_items": null,
            "bottom": null,
            "_model_module": "@jupyter-widgets/base",
            "top": null,
            "grid_column": null,
            "overflow_y": null,
            "overflow_x": null,
            "grid_auto_flow": null,
            "grid_area": null,
            "grid_template_columns": null,
            "flex": null,
            "_model_name": "LayoutModel",
            "justify_items": null,
            "grid_row": null,
            "max_height": null,
            "align_content": null,
            "visibility": null,
            "align_self": null,
            "height": null,
            "min_height": null,
            "padding": null,
            "grid_auto_rows": null,
            "grid_gap": null,
            "max_width": null,
            "order": null,
            "_view_module_version": "1.2.0",
            "grid_template_areas": null,
            "object_position": null,
            "object_fit": null,
            "grid_auto_columns": null,
            "margin": null,
            "display": null,
            "left": null
          }
        },
        "43a4f9aacc00460dbba9f6f596737da6": {
          "model_module": "@jupyter-widgets/controls",
          "model_name": "VBoxModel",
          "state": {
            "_view_name": "VBoxView",
            "_dom_classes": [
              "widget-interact"
            ],
            "_model_name": "VBoxModel",
            "_view_module": "@jupyter-widgets/controls",
            "_model_module_version": "1.5.0",
            "_view_count": null,
            "_view_module_version": "1.5.0",
            "box_style": "",
            "layout": "IPY_MODEL_b7f5cd4813f94ad8b1c48dc4c72c4a33",
            "_model_module": "@jupyter-widgets/controls",
            "children": [
              "IPY_MODEL_50c1730898b143bd8d39325728ab4099",
              "IPY_MODEL_58e1a4bb89484a20b399384af54a69b7",
              "IPY_MODEL_7ca5ba31477e4c8da901ddaca5e42621",
              "IPY_MODEL_7a06f6c23bef4aaa862c37e6c5a967c5",
              "IPY_MODEL_953e027973344b97bb15465f884f4a75"
            ]
          }
        },
        "b7f5cd4813f94ad8b1c48dc4c72c4a33": {
          "model_module": "@jupyter-widgets/base",
          "model_name": "LayoutModel",
          "state": {
            "_view_name": "LayoutView",
            "grid_template_rows": null,
            "right": null,
            "justify_content": null,
            "_view_module": "@jupyter-widgets/base",
            "overflow": null,
            "_model_module_version": "1.2.0",
            "_view_count": null,
            "flex_flow": null,
            "width": null,
            "min_width": null,
            "border": null,
            "align_items": null,
            "bottom": null,
            "_model_module": "@jupyter-widgets/base",
            "top": null,
            "grid_column": null,
            "overflow_y": null,
            "overflow_x": null,
            "grid_auto_flow": null,
            "grid_area": null,
            "grid_template_columns": null,
            "flex": null,
            "_model_name": "LayoutModel",
            "justify_items": null,
            "grid_row": null,
            "max_height": null,
            "align_content": null,
            "visibility": null,
            "align_self": null,
            "height": null,
            "min_height": null,
            "padding": null,
            "grid_auto_rows": null,
            "grid_gap": null,
            "max_width": null,
            "order": null,
            "_view_module_version": "1.2.0",
            "grid_template_areas": null,
            "object_position": null,
            "object_fit": null,
            "grid_auto_columns": null,
            "margin": null,
            "display": null,
            "left": null
          }
        },
        "50c1730898b143bd8d39325728ab4099": {
          "model_module": "@jupyter-widgets/controls",
          "model_name": "IntSliderModel",
          "state": {
            "_view_name": "IntSliderView",
            "style": "IPY_MODEL_b9a33e7653e44e2bbeb0358bda6a0d96",
            "_dom_classes": [],
            "description": "m1",
            "step": 1,
            "_model_name": "IntSliderModel",
            "orientation": "horizontal",
            "max": 5,
            "_view_module": "@jupyter-widgets/controls",
            "_model_module_version": "1.5.0",
            "value": 2,
            "_view_count": null,
            "disabled": false,
            "_view_module_version": "1.5.0",
            "min": 0,
            "continuous_update": true,
            "readout_format": "d",
            "description_tooltip": null,
            "readout": true,
            "_model_module": "@jupyter-widgets/controls",
            "layout": "IPY_MODEL_3fdf39df45ec4cb190abec4ee5b58d14"
          }
        },
        "58e1a4bb89484a20b399384af54a69b7": {
          "model_module": "@jupyter-widgets/controls",
          "model_name": "IntSliderModel",
          "state": {
            "_view_name": "IntSliderView",
            "style": "IPY_MODEL_3469984fb1db432882336aa1bb900add",
            "_dom_classes": [],
            "description": "r",
            "step": 1,
            "_model_name": "IntSliderModel",
            "orientation": "horizontal",
            "max": 5,
            "_view_module": "@jupyter-widgets/controls",
            "_model_module_version": "1.5.0",
            "value": 2,
            "_view_count": null,
            "disabled": false,
            "_view_module_version": "1.5.0",
            "min": 0,
            "continuous_update": true,
            "readout_format": "d",
            "description_tooltip": null,
            "readout": true,
            "_model_module": "@jupyter-widgets/controls",
            "layout": "IPY_MODEL_9b72c2903a6c4b2b9ae8c668e12e7aa5"
          }
        },
        "7ca5ba31477e4c8da901ddaca5e42621": {
          "model_module": "@jupyter-widgets/controls",
          "model_name": "IntSliderModel",
          "state": {
            "_view_name": "IntSliderView",
            "style": "IPY_MODEL_58e67503b8af42bd9ad5b696ba255db0",
            "_dom_classes": [],
            "description": "w1",
            "step": 1,
            "_model_name": "IntSliderModel",
            "orientation": "horizontal",
            "max": 10,
            "_view_module": "@jupyter-widgets/controls",
            "_model_module_version": "1.5.0",
            "value": 5,
            "_view_count": null,
            "disabled": false,
            "_view_module_version": "1.5.0",
            "min": 0,
            "continuous_update": true,
            "readout_format": "d",
            "description_tooltip": null,
            "readout": true,
            "_model_module": "@jupyter-widgets/controls",
            "layout": "IPY_MODEL_09fe5e33111b4a54b1aa13a977d028b4"
          }
        },
        "7a06f6c23bef4aaa862c37e6c5a967c5": {
          "model_module": "@jupyter-widgets/controls",
          "model_name": "IntSliderModel",
          "state": {
            "_view_name": "IntSliderView",
            "style": "IPY_MODEL_af1b1bfa7a964ffb9091fc70be6282b7",
            "_dom_classes": [],
            "description": "w2",
            "step": 1,
            "_model_name": "IntSliderModel",
            "orientation": "horizontal",
            "max": 10,
            "_view_module": "@jupyter-widgets/controls",
            "_model_module_version": "1.5.0",
            "value": 5,
            "_view_count": null,
            "disabled": false,
            "_view_module_version": "1.5.0",
            "min": 0,
            "continuous_update": true,
            "readout_format": "d",
            "description_tooltip": null,
            "readout": true,
            "_model_module": "@jupyter-widgets/controls",
            "layout": "IPY_MODEL_7cc4754f972f47169589042bb19830df"
          }
        },
        "953e027973344b97bb15465f884f4a75": {
          "model_module": "@jupyter-widgets/output",
          "model_name": "OutputModel",
          "state": {
            "_view_name": "OutputView",
            "msg_id": "",
            "_dom_classes": [],
            "_model_name": "OutputModel",
            "outputs": [
              {
                "output_type": "stream",
                "metadata": {
                  "tags": []
                },
                "text": "/usr/local/lib/python3.6/dist-packages/sympy/plotting/plot.py:890: MatplotlibDeprecationWarning: \nThe set_smart_bounds function was deprecated in Matplotlib 3.2 and will be removed two minor releases later.\n  self.ax.spines['left'].set_smart_bounds(True)\n/usr/local/lib/python3.6/dist-packages/sympy/plotting/plot.py:891: MatplotlibDeprecationWarning: \nThe set_smart_bounds function was deprecated in Matplotlib 3.2 and will be removed two minor releases later.\n  self.ax.spines['bottom'].set_smart_bounds(False)\n",
                "stream": "stderr"
              },
              {
                "output_type": "display_data",
                "metadata": {
                  "tags": [],
                  "needs_background": "light"
                },
                "image/png": "iVBORw0KGgoAAAANSUhEUgAAAW4AAADyCAYAAABtcS8DAAAABHNCSVQICAgIfAhkiAAAAAlwSFlzAAALEgAACxIB0t1+/AAAADh0RVh0U29mdHdhcmUAbWF0cGxvdGxpYiB2ZXJzaW9uMy4yLjIsIGh0dHA6Ly9tYXRwbG90bGliLm9yZy+WH4yJAAAgAElEQVR4nO29edhdVZUnvE4CiWFyIAOBQIIkQsxLkTKvlHQrTlFpqI4Vy4+i7FaroApF6mmtpr8kGm3QLiRUMVgDatEVv0KqP2JhC7ESCBAEbC0kvEiYAiFAwhBCiCRISMxA2P3Huefc4ew1/fa5lzfddz1PHnjP3mu45+yz91q/tfY+WQiB+tSnPvWpT/sPjXijDehTn/rUpz75qD9x96lPferTfkb9ibtPfepTn/Yz6k/cfepTn/q0n1F/4u5Tn/rUp/2M+hN3n/rUpz7tZ9SfuPvUpz71aT+j/sTdp2FLWZZ9L8uyF7Mse7jl2kVZlm3Msmx149/pb6SNferTG0H9ibtPw5n+kYhOi1y/MoQws/Hvph7b1Kc+veHUn7j7BFGWZddkWTaqmzpCCD8loq3d1NGnPu2PVOfEHV58ZVeYsmB5+KdfPB2IqPz3/9/zTJiyYHnY/MqutuvFvz/9/lA47Vs/jbYRUfjgZXeG/3Td/ZXrO3a/FqYsWB7+/q4n267vez2EKQuWh7+5fR0r87cuuiVc9ONHKtfvXPtimLJgefjlM9sqbSsefiFMWbA8PPL8ryttT7z4apiyYHn48QPPV9rueCyXeX9E5k0PbQpTFiwPa1/YHrXzhK/dHL5506PRtl1794UpC5aH79z5ZLT9xMhv/OnjW8KUBcvDfU9vrfT/5k2PhhO+dnP0+vSvrWi7tnDhws+8613v2r1hw4awd9/rYcqC5eFvb18XHnzwwXD22Wc3f/ta/rcTUfjajQ+H3/7GrZXr7754Zfjyjx4K69evXz9jxowZxfULL7zwwslTjv2rKQuWhw/+2V+Gbdva5T7w7MthyoLlYd63rgmDg4NhcHAwzJgxo9J++6Ob2/iuuO3xMGXBcna8cHza2P78tfeFj155V+X639/1ZJiyYHnYuee1KN/X/+WRcOKFt1Sun3zxyvDlHz3I2rnhVzvClAXLw49++Vzb9Qefi9tPRGHRzY+FdyysPvfi3ymX3B7m/fCByvV7N2wNUxYsD/9r3ZYo33/4h1+ET37nX6NtJ1+8Miz4n9XfcdbVd4czv3s3a8t/uf6B8G8uuT3atnXHnjBlwfJwzb9uqLT9873PhikLlofntu1su/6ff7A6vO8vf8Lq+/Tie8LvXfXzaNsnvv3z8OnF90TbvnrjQ+Fd/+029rd3PEM31epxFxZkGdPOmBgCUcYxdciuQ5+F4rz5xYx4W6WzX7TfyPIp7YF79sF3b0II7G/r1PEXf/EX9PWvf51mz55NN990MxERLV68mP74j/+YPvCBDygWt8vl70vVyPPOO48eW7uWiIgOO/QQuuCCC6KcH/vYaTQ0NERDQ0M0ZsyYikTvo4DHNvH3VCVgXCO/L1BQB1l8vDR0Se+DcJ29l8pcps4VEWMLmTFebZ6Q1Em84FM3UVegks4HqQ+iIP5Ijb2iT1NH/ICyTK6xLuLDNSyqXB/L4sNPGv5nEf1tjI5TTz2VTjvtNPq9uXOJiGj27A/TfffdR5/5zGeitrA6jdeIiCZMmEAjRowkIqLBwXfTqlWrVPvjOtFF1Hc/g7B4Fu2e67o+2bmIylXmbfX9Yzro97janlEmL0yGidI11hJmV2mu0N7b1LP96vW4NWOFyck6ILVrFn0FyTpj+kRxKnkmKEsnyyTFezWRa+xqVr30hS98gU488UQ65JBD6MEHHyQiorvvvpt27typsdp0Mm2bNm0q/3/No2toYGDAJZcbM7qd2FjjHQRFoWCTZRx2ytcmUfX9i9phcEiYPtLChL5mqGesetxCmzTHsAtaDa54dzzuyqDJSfQMlSVfXEU79WWyvlJpXJXKy3mlHF+q18zaobyMsZdGC2utoMVJJ51Ejz32GC1atIimvWMaEREdffQx9J73vIcef/zxiC28nVwE85Of/IROOeUUWrt2LU2aNIkWL15M8+bNo3fNehcREa1/6im68sor2/m0e9LsGG/nJhqGz/IOip6Zgb9dXyZOFpo8CXJkdSozDdeqTcLcc5cWBFP06hhr+jskyJL4RKnpTuABaeztxN1Um3fBd7IjoIU+25IW0ylDHoKsLkAsZR9ggiZSJmLW44mHr50//nOf+1yl3/ve9146973H0Omnn05PPPEEK6/TRo4++MEP0aVXfant2jnnnEO7X9tHx391BX3605+miRMnuuUSVe+LHWKJkxvyMEz50WcBYNEan5TbkOSmzT1c5JMZFhLmeuM3IIuTrA+FROJ8cM6jhbqEcceJTVSYXFK/HYDDbWqXvVYMYmH7GLwHl4cBhJOeyeJDH/oQ3XHHHbFeggQG6wRwf3Ri09rRe6Plb3goQfA6xd/AJ+EkuUj4XoqqMXmXe9ySUqGtfB8E+CKSo0A9fBSa0eRaqCcYd7kSSp6hcBOyLP4SqxOi0iEOeRS2+sSZIBYQ5eY9jIZOhk/G9XxYr2WgFXYeffTRqrymHbIsi764XHkl7JzYdC9ImRBZOxIiLQGSU3mN/YiMjoU0gXGeZcZ7z5bKGFYfgB3zc5NO8sIr8O3vGLel1EiBuBV9SEiZAOs4X0TL2sont6QVn19kCt7qBOW3IRN0WAkZ4N38qp43KuT4bJAH3wYEWnKb6unFr4nvH/d8tOS/bArzHmkudxrFdKL3U3728m8YXlUlWruUgFNrM/0KvS9hu76Ih19zYoS7VunjvG7pE72dzBtszfR7cwa8Jdbf5k/61QEHxdv5aBKlOJSglMuV/Tr5BJ5gyNGg8JTzvtjiHpk3jsfX66hpclvtsV73UG/quJX+eXJEkKcswhwAgYRj6GQoJkZMZVMGxRyvBwtWfqD021LIh3DLPEkYt9JPm4D90aSc+PNi6hppm2IQyMCxP6rCh+SKdIeLh2Zyft9kCpcKJmHcaVQzxo2bI2Lc7APWYQRUJ+uRArJEG5R2i045kvHLjffHkmVouVXy89MmFadzwfFp+rj8je33+cd9k7fjb2dCvdqHv4Z4lhJUieRmdH0cj+E5AAsvkYRxpztC3TlkqhKmyVishZDsrljvqrjc6CQdh1jSSBsAHq9G34gRhztMUAk4kXoxbiRRZrEjl+3jS01ucQrR0F6fhCPjUwG5kTHTJpvli+kyYOcpsFYU4xbmCQAKUW0wtGvUo6oSnQ9Kjijwiep1cTXLDFnutThmAM/L9HyB3TvxKh0Mb0ZLpnKdmFwizS7fy2+u43Y6S12Z8A2hfQXRASCydrnMhC/JBDYeWTH8OC/fh9dnmESdkXmTrQ40O049ruPm8EPpoKFGHy/GneiZyO2+JFxSHTfJA0BLnLiSVEK75TcgoXHO57ufog0afKT8EC+faeEVJzBHfoL06KecuGuCyCRZlnavx2pyuNjremSPnDXDygJ/t6Vdo56cx62/TBavznbN0y5O+BHm1I1C0QlKE2dJbAptXq8t2r/mRbXdDL97VUtyssJn899Zp0SY8BHHgutj9+LsE1QIBscpek2PiLzJV+vCxPEijAkOt/y+sxCnotBAXarj9q9q2gYcjz6ifIAj2WJTCCtAHvHBbJl8MbjB+3JgCZyiPQ179PCll2lpzByfz91Dx0upz49yyYli1dOLX9PGWNwOuV331OM+tz7OtEXG8y7hsyiatMw7wGqJqOenA/IEnZWQ4uopfbz3FZ/wZR7VG8iEreGCfAljrF6TbUjB/hE8s+5xZCF9bPsE26YL4FkwUImaYFQswZP13HUOelIMMVC8jtvX38KXt/ugIKLh7HFX/i6wJx7j1uVFkiNFO+o9xXRZyrSEtvgCo+tF1yANE6xien68tWxXndFobK9S3O+yPAe/x1MeqO8u64vzmaJJqV3g8/K0kgfSQZOMuh36gVFVDpnERduwgFQhMoNNXYA8Eh3uundOYquoWo6khVzctZSV1DnApYx2Zx/tmoe8pYnNtvg1aRJNGWx1QgLyV4Zs9tRdVSJN+PEoxrAwMeugKVHsgCtNxQGyNsYGTB6anLRQ/HfiEwUyrofv6YDO8FyZt/M+4EQqkVTN4N3c060ywpR8aAwqQSoE9IVXChctE1T8OegwkWATm9lUzXHx2caZIJa9d5wTlAYFSefRcMR774bcjXORzZ+75HDoY83z0RXLQsjv1FT4xPr2NJ+7pxg3z6gkR7SXGAnlgORk8lkl0aqStCycloRlXzoBeuIoJTnpLnuT7JBsENpaeTk4z8un2SRVT2jk1ZW3FZCOTRaRFcrzQ5XiT2SfuzyeJcFa9VqMNb1smLme6FRq1FuPWwonhccMbXk3Zaf5NsnDj8IJgqeeuktKJMFDkapK+N8XW1wa7YwJKO6oUcp9g3FbJ58lGYpABtKCZoHAPO9gLDKrKAWadYjTH2mhizYqk0hamPDBPcww7jg1BzuOTXrPKEBXUhirltWpNqFnMGhYfqfSbkAlJlKSflWdUpjJq0E3VKRsxMjbmcWTcUrg8dI1DB/AuE2eukMeNSZuzeHSdEq8nfclsQoJKbio43UaJqcDKvK4VRhMHJRyHVct8rg+YrgFTuYlO+gNccNNIu9mCkl/Wx9nTqTJh+cVvJVIJQThnhBJeca+67ktWBvXnpoM5J4D8oFi9dNl4qJdYNwRNul+gpE54gRZ7LFQT08HlFZfZANA2c54wOIAB1fSXDbvcncjlEPqqHn7lZcpqr/xQmi1BchECmDcSsJDaoSSc5Z+bqzTVHbq99SL517llUefao7XIVH6sONTe3FJWih0u6KfLhN0IQuhxjhsTwfkvBJ+cNf/sdJufLxXnpTB0F6QaSr7YrB8Hev0Y/HOAoiGfuw55PrwkJkvJZR5EQ9YoiDoytv9obapyfncRThOyQdIGLd37BvmbV4e8O7aAiZsokXnEgv1BuM24GdyckTzEv2JJngl1cwBa4y91SitMn0bcGQbUjBu5LawpiueEMvWNQxY7ictanXmRKSdspL8lLCeSPFiAShBz4f57Sj7OMPeFBgFq+NOp54cMlVQijfjxebylVvz2IRQNIqT6YM3aqdkQ2LYxHko6MKEeBdpx7r6k3cpiR/0vqATDZFyT53vRGq+COHxRidtfSS5HMQJRlrS+fTo6Y55H1kfy1fLFB2n3pzHbbBfugnaw0Sy7ykPMsqX3CsSwloksmEsk0wTLeDwXz7p026LX7bIl6KPnRCLho5IRIXq4nwtPZir3DgT1cmaDNk770eiU6or2A0qDIynyUvJTWmdYvddPrRLUcWaoHnqaWBJT04HLEg6DEmWF7+efLaGc6JBxwxa6lf2URchgZdlsutKCQpQDxgvBzQuoSiu7lgIc3kYZMDfF12fZBfiXKFVP9rNYXfMJry3tZSuGklTxdpSg401T9ycx9Zo5ZenpN8CONxqssJbK9wsRaoP4zaVA5JvkUEnRGL0WPg04n3YhOSk00lAKnfa2gWskyt70wjdJEQRnSnPnevDRXVtfdjr/FwBfXLQoLOQ7+mvK8Oc0WGVnCzImxjRkpM5VBLh68KEIScefbJMNiSEzEWjdG880UpgdFkWs9Z+UX01YrlJiR/NI3Xy2Z6ff9Lk74ucnNQnDPtzb9WJUKYYFH//9C3v8i5r31yRcUkiha/kFaiLDnePz+MWBqk4cLQkAOMBo18m19rRjR/eyciEcWvtDqwz1j+/JtvjTUBZdBIR3XvvEI0fP54GBgbKa1u3bqVP/v7vExHRVVddRdu2bYvbpIbb4GTEwoBxqvvcaTtU4sC4g34/EOgQ8fK5iddK3o+upEQ+RNJzV4QmOp09OqukASMICZy6B45tR1tkkpK8I0OCzRsZ2AaO2qWqE8D/JS/PQtAAZ2URTZ48hVasWNF2fdGiRfS+U08lIqLjjz+eFi1aVOGTCM2LaIlbXp8/lyJdJ1ISewp8gUyKKaWEojoA40Q3/aBRSkp0x24UGm4bcFD8kEgL1bDJL2VR8z6w5JUbhIK4yCKlwocj5HxsS2DI3c+xY8fS2972trbrS5cupT/4gz8gIqLf+Z3foRtvvJGxyafTelyqN+mHlvXlNhk6cbwOWWhtdBJ0xvKkHQ6nzxV2WRxPKyF13Hl7msvdFajE/XURNazl+AQP2CJX0IXsLCTiIA/dU5dILJXMsMgj+iIqpWt6aMy3IZN+zJ7NmzfT+AkTiIjosMMOpc2bN7fbkFDW1lAqErJxB0oMSl61oEv9eQwmhy0SDe9exPCld5SH5Xh5cjv3PsCbbMRiAwWWcV73UG+2vCv9tZKpog97jcG4u0VS3Tha+ofWdXoxQW0zCAbLCPpMriXGNyLL2Od8x5130uDgIA0ODtKWLVvK61zS1jJGxfaaq1i4PlryjnsnkAOf2uQCvKJTIWHcsikiadG397nHeNrlYtamFlb06NNlOg4o3UItk86Gr2z5mgUns10rbRC9TYFPtEG3Uz9Hwgcjob8j1yXwOq9z+iZMmECbX8i97F//+hUaP358uw0NIz7wgQ/Q0NAQDQ0N0bhx4yK2cvdFnoC9J19qpa5u7F/TV/azP3c0yZgyHnK58evo5hwLf+y+dAPjruPzehL1pBywIGk3m/hjgB9qgkoETy81oWjVV1AaHm8fJIgN5YuLJLZq6lPQnDlz6Af//M9ERHTPPb+gj3/849F+/DnJjA1GI7yTDZecTPsYsg9eIsaGkick7pwEFnvJzpRTKInhl3I+3Shz1RiHl8edkogBZRPFHyTuAQN4JDXtdydxEh8ut0Dp1ROxwY0d+m8ahIDLfe/QEJ1yyim0du1amjRpEi1evJgWLFhAd911FxERPfbYY7RgwQKfOrDqIqWsD/HMJH3i/WagIItcjvzLRyHTHylrny4zTbKORSblG56oI1bHGSYHJEuIkGfTh8ZD5Pfgm/pkkm+gz9bUw4bQAaIlY7xDJAnPiy6ghvvC8M2aNUj/8DebKm3X//B6Ovni2+k/ffGLlaoTuD4aYyvJnXiHMW7FDrv4Co+3lwbHIZ6qlmzX5CJzT9I5812EQSXq6SFTaFUJEYI18Su3BatGvFiuT3dXX+VjwexAtl1rleENey19Uj5sIPYBnr3U7s+wFHzyHgVkjFpeec9GIX0DnKaLb/OOTQt0oZGHXY0mUZQbdMSs1KVjXTsSOKqXoHwsmEk1p5fZ+fgkL1aCSjw2Rfm0exMhdBIWfxtrhc7r5RM1OmGzNlYGSkD5miZxkEe99wXForWwHoEM9AgMWZiYl93AmXP79jVobYVFiDWp58NI1JOqkmY7cz1oUIk8qHheH36oc5YGOWyw6vMNtk5uTme1CsI/mFS4wxIxOaMtdOFtmqS/4HF7fHypdnKE1h1z38Zs6RClJI+bva68t7F8iiVZqEGHHudJgWZwjDtxZlaoR3Xc+QUp02/xyivXFHwJ2oDj9//cfdr0Jb743O8ssU7HoqZ5XsiOtpTfB0FdqjZ/ck7XiixMKPZvm2gq81PCcyWS8ygIsUlSlU9ud+d0LNU9oFOGeuoW6s0hU9qkrJQjuVdR5lqpTzanYZOgL1p5USxOmD70SXoxQcR70qoBUwZhkscNJnsl+VJUGOPTMVK5l3dxsk5MHkgnKIK9m1o0G6R2U3IyIQCM/hb03ZNsSIDzLNTbOm6EifwvWdkOvLzNSSo2A3cBUxf6274tGC+5Uituoj8PTxQWtnj0aXzaJBqVpToJnA028r5z3B6FFOwf2aCi6dM9XSzOcdfTMxi1xlfyZ/FkPVrOmRJVoElbC/Xkm5Na4i4VguA8YOTgf9ML5cW2LBiwpA+xpfQQnZgsMNhSNitJp+6lHDakRQd1wTO2MlCe3Lt71SRi+QuZ9qgRInlrwks+RTTk4JE8ptThHXW4dY1WWaXMxDlGo558usyS3BInJzZTnOoB+zzEZIjFWedsXZWRQeJ6fxs26vWufJv4AruhLglXtL0WlX7WqhLPhCjpT3C5RYybka/dT9uxFHFCoBKxjluKKGpO9NugLskevg3dJ2Khnn5IgTNWS4qhdaRI3bGG5xLJOLBXX9kHDP85rwY6P5pZQLOWdi+lhKKYHyTL1Tdt+RYnSzINmcAkyMP6STurXLWOW9XGk4ywxCJlgyevGOt1ZNB8SOrZ/SnUm0+XKf3z5KTSx3itVSe2pqV7wB7JqUlUHtOT5XuqHZCKn6o+383DEz+KHUy5nD7+ZPvFj4QwZW8aecdLQyEjS2ZEFlhpX0Oh01sWl2+Tx8kLv+hVOthzL2TzckWxKvW2jlvwLupOEqR/HFV6IHFMneMz6UsI/z3nQaREBikeMCIzpZ4X/tCw4ql77qelD2sl+GI3FyY7pKOOT+VH8l96UcRyDSlRmNNW22FfnCyepxsb8VqpN3XcIPzQ5MdwxZSqkri8VEw9ck3obwqJARw0b+eglNi1YlFiZJkWJp6iz1daeCVZmh1Yzk/t567jNtUPx6EEiZAFRtu5nPeJ82nkqfAg0j1gIlsEb7HDYo9GKGuiw92r0wFtiR+xj3CVP5ch9fbEyRvGW6xIWqGFl8PzseBuTGrdxbj9URWXvNNICrWldks0Gefjf73lffHUcUv9iXTcWfJIOUyd05k6V7A6i7ki0l8jtE6dlVdDXUmPPhack5QsFJOTmj6HDRoVbN4JODP1wbBOiTQPxfMs1ESauHzKxL9w8fyGNQkXZTTZxC32Pj59opG9We+EqB2VilRPwJuV1JulwBbM+6A+d2Wu8DpBKXCdtGB3k3r6sWD+7GEDPopgx9rzjw4cSwgbu5aIqRuvVfRypZJcfxV35MNz9X2K8qL3k+/v/Y6hhRflM7XXGIlYgy9P2WLqJOPFejUHSJxIVVt8sKrFb+KPrcWw/9yetLvepaoSe3hO1LipUqgGeJUSD5ostCU1+bb4c0xzudVwlOHzYJb6JGPyuRleAytHCW4k6kVW+LR7IzfXFi012wqIrFOYbAcS8aYkj6V23UGQSa70qHLLcB22YO9XyUm9dIYnZDcUKq/sIyQLvYX1Tagk5v1akjjYQqH+SucbnFSeCHiWXB90ToYhMiuOz1wXkCCs2iYx38DKdejS+mjePadRT07iqzkHlbASwQi7VKbYwtGwSk6W5FztLYTsUOLPSZAHDmsD39S9ulzS4Zv4QPV7ClpyuRvZ9xR8EXkx9EjE50FZoAv8Cyq+sL/Q55FVcEmteokdp1P7fXFdKRUglqoUzYZ2fUo70FLDdNgbjLts517eIH8smEvIaJ6XiocJbeID82J6IMZtGYHshgVmgoIWpjJHwfAlesBoriEuy9jPUW1D1JzQkdJUboKy6KvKsiUnWfHMgo1sskJ3OKZg3JLcpoSYUjxHIS1MoiXOecJDPdo52fDYhKoEccXX9NUZaqMVAFnxGwVy2mnpk6l2GRS09edhIJVXaOM9YMln0SYGvyeLbhIrdTpsyOXhKHdUtPowGgtMZ54JxJtNKlVrHDotM7em0wEz6QuWpsxng0mpgXr6zUmJD8myJ7+EXYRFrLKkTiasz+nVJOTzIErJNWAevg1W8kQims5GD/aq17HQ9KXVcduuWXTqEa3/M2KWbfIyrBO3DEUDCpviurqYL1KoJ6cDliR4QUkfUvDYwJtR6iJKwHOdpWpo+WGbSsEMH07K1FQX0YS6EPo9CXaBAXMGpdyaw3gOgrBMwHUulppDitVxG775GmWU23UvP/Y+yDwpeY+4g5/m/bLjxWmHl2qeuDlcTmpt9AFwKzxxUEitF0dlcXXD24lm0hkHo82m9r/9XkJqAkfr44Bj8+sJiR8tAasRkjDEDu7iZNn4vKV2KROm10nSnl+qg4DkmRAoT4VwQdjVQr3BuIEbXekj6WNDbSZ8NU2kMT6Zp5dYfFMmk7jVYCRnstciM+6tKzITJlIkFC0nNnclkt+GnE97Djx5I1ciPtJCI9CYrCafPh7cEQXn/Fh1CtG5tIB6N1CV9gBzzDCs48baORywoPxhOCcaS6gtJSsEzLkbH2CQSE9O8nZUFtGO9oo84Z6gCT+1D1ep4SzNE0Tp/dQFpnj2TDvLh4XoyZEB63HH3yM1UgGiHKwCx/DlI7HN58jov1vQpUJBivAE6vHpgNKLKGBsusa4XKY35OUY7NHOkfB615YJ3zt4EC+1+fz8tsAvBrjwlnK5RUYtC9P1ttlgmYABO0lgE8sBgQkqf/0kz4nhM0Fkfs8zxdFBq2NQH/D/CIybffENnMjqpE6SCSMAgRK8WC2RMQkHbcCRKe6lM4f+g96htQ9y33hZuTQva4rnRaR7kZVr6nNnJmABCmi1Q8knVuVq1ghjrE7P0vr7JPJg3KrtGIKitg/TOm5fiKSFakhIgu9W0wktrHdDLIany3/lPZTtnf1FeQCeJ/HqGDfvIWrezJe//GWaOXMmDQ4OtjNK+uRmlTwRjIW8u3jR5GTSc5VVykk4J1/q+yeNm169tynyrHRAsoQWglc1Qx8sU6xNNPVi1VxiJeU0u0KuqBOIy6J2KvpTJj0vVqj+LiJa+JWF9OlTT4jrkxIqEZ2WD1qLzUKSqvY6boVX0gBXlThktcn0vrdl6Wn8qGdLxYnn3W1unGOen6JLMYZtSv1WQG/P42b6qxMi41U22+PX2IdsgC68noJ0vdUmjjwTqYkXfEERXyDNX/MLriNj702ccYlpS6SNhszxCV+DrbgIBh+b6PyERHfFJWRDjEZ1l/8SgRM+ZEU79eh0wExshzcACIRu4EC+qqL18XqbVZskfuyFRE4j1DF+6d55F179xixatIhmzZpFV199tdq3tAOsLtD6IRGFRJK8uj9pZ8Jbo+NaZ4w7JPjCi1YwwRVvSXXcfn1Wqhcqafy302DLIE2BStBvUnr1FcTamuGDslvfvfPgaSFnEGTwCy+vX9EpQgKyN/PNb15Mpxx5IH3kIx+hE044gU499dRy7N199y/ou39+JhERbdmypaKPn4C538gwJPw+rZ39QowsMm6WNPZI+wJVHPPQ7iVXxiuZZEouK9Ahu8gAC6jWB0qg1+By9+ZY1260y88AACAASURBVAaxyIUhOekNPSR4xTK5IptaeO9WZGPJtAEn7+nm9cxDZm8UHJDcxgjL7x8/fjzNnTuXVq1a1Xb9Pe95Dw0NDdHQ0BCNGzdOtRVN+pXtAsQSjx4wyEMjfaHAIg65Dt912eQUIR8oKPjBNTauT1Qm8NVcdtpJPfpYcNGB47Os+BG+hJCL65O8GILYnDxAZBgpDs80MFm7KHiwpeB5yFd3du7cWf7/jh076NZbb6WBgYEGnzIhavY44SBLqaRcO+8fw5YopYLFJ3iNKfXWbgjJwie2+Yw1FQcIbUhkXsfHgmuFSgrybLe1ElTIzy4UFn1+PraqROFhbTC8Gmo04gRlJTw2xUnANprE6aWXXiIiogULFtCIZ39Jn/rUp+i0007r4JU9Nu+xpykVTHVi3OjphxpPyu/nT8/z53ws+nRevzMAlfUlTMCpVSU1Y9yKxwZkYImogR1H+EA4oEUsexGZDNUHCXo9iIfBV5X4B1vzCzjx9hSMnY/SeL5JkyYR0VN06aWX0pyTjuzgs5G/8qnwZG1yNHlle40LWhtvp52SDSycE5fVZFSgQzVxHofICpuiKgmDVfmFUNaX98EmaJZruGLc3KCRyvO0onqPvvwaBkskH/MYrdaQEjSiy43rLOSzE1QcF4+iscZbAg9wNmLCcgo5L3OdrSqx2c72Ehe1yASl6BFhR+G+wMlQYAHSxljex/k+lHXcvEx0rkA3/CB2pFZoaVTvxO0IvzvZ1BcHCLksxfoIszc0bG0XFEJ8euK2E5OVSV7w8NHm/pYjGp0YQ37eiXTaKasjIuw4h1w475Hy2hr9HHBlSpln3s5fT3lWUYJhTjR/o/H5PfUaHO7eHOtakFQrKU9OzHcVS33cSsq9hNgkmbo12K3Pwk/1DVStxpkXKS1yOvHJZ4Uv5d6hkAeQqItHMQqEhLaFOKTT5I1HZ3oEEI/QRELuVQFdgNiyNFcguYZcn+86kQU2TqMeHTKlD1I5xGH4EnfQoS8+zCe0wUkQZqByYazmySZBJUIb4tFANbIaHq/w63OR3ZOV7LC0R5+FQaZVVlu7EtXJvBgsGZWlzhW68wRtLuOuJ+TR2Al/+GLcfg9KD3H9WZyU8jWsqoQ5J6HucLGVH+TzeCUlD5ScVOxgVu3UT89p5M5lJJRKImWnfGUE7qnncgEmposegTLzgGG8wKW+TvzbNA6YLnVvzPFQTz8WnFJUH+VTeJBILuk8bo3PORlZH77Hw8C29BfAk/Kiorg0xyNqU36LnC3k+Zxj0eJwQHYKssXnUGD4nkhLqSpRVMmc4iTNJwuTygF9ZjT0YXMT7LQkTuw9PWSKI23Lbd5H0Be9hidj8j5xLFDli2KIEgZsWCigMLbAOn1ej1iiBUUw2HNFYSWNeAgp0ZN1TsBopKV66tpzj10LxsiIs0nwSKP3xeRx++0gatwf1oEUxrYok0syYnNMHRtwasa4MUCew1YL4hNwij2AK1+u+CIbN1Ixz5KI+X2GpULDPDt1Iht+rMMMPpeZT2LI+hJCVa+lXDWKPpEq7UgkYli4qnbKlmrFAYgdagQavVbkKDCohP0Ga5egC9QpG57Hunb+bfHYgIEjtUtQCX4QlGgG9KKlZLVzfmygsjyAM5D0+xR4Lc4C4p8kRRo2ch8HyzglsJ2Kc4CE9rZIkiev54meKqjZkduCtaERBSsvYYxaqEdnlWij1BJS+5Ary71BPWD0vrshJMCzKnkZnRqGKOH+aC4i5/V7JikvqWaHfwJmohELxg0nWuM+qaiPsUt7NmKJnaKL5VPyTBKElAI1uEpd1aqghJxIghOoUY8xbjD8oZpDykT8iV+B41+oRrFxTV/JK8BIld8jegmMfll9UtgnwTNQFYtxOvdASER6Is57B1LK3iRd7HNX5OqRUSxCY/CjQiZQVdLsxJmhw2dsF9FTE2QKulhxiVG2Rr2p41ZfCgyDkFc7edNOo4tgk1OfIo8oPpDBsdSmExkkyLNCj7WV9HE6TdU9gIevYs5unTYPmG0XIxGLfobXMTmkvCdau//3NaI72MnzQYfNnFb94yX13ZaoO+dxO1daLTnJ8XJhIW+BgcpQTRo4vtDXVsUimSSFscxAZT1Zv8ttCV85SqlWcH/UwKGvCiH5w+/2dj6BAyAeCo4teeP+0N40PvUuFeKgEnSys9ihRe6e/nofbJYZflUlCg4oIRfaKioRH5L5V1GvF95uh39SSQ6bGI9biWLjoS/Fsc6UybdFOEv4wutLirVzOp0Lhs8CsdRZbWN1cLxQkHwevsKL8knleQkuKZ/Y9Y8XtI47JdKyUI9OB9QTAMixkunVGjWATW06fbhie5/INcPD1V8O+W+tf5s9Tl35NRxK4F8KX/ht0WdeQJ3QEycbiTA5WVE7aoRKOHvQSNICn6RMa553yXKbpEPlRD42F2ZQqlBPMO6yXVidLNl5jrwvhiXRGe1jGKn+RJ1phVF0Rq5pnoKDR6utTc2QI16+1kc1iZ2Aud+IvfgpVQkpyT3Xl3pCkMvoFIeE39egRMrCQo/vsvY7gEQpCwXmcg9LjJsL01BPKSPMI0WSiXrNuNDG6LR5JvaESsWeKP7fDO7b+lvkVS4WMlVr2BbvhJi3+a4TGTz8BM8rl88J5i9LSTiO4HPD1XciBpFZPHk8yonpY2UZxhpysBcfaWHPgcgCIdUb0bdSb87j1tiACVaTn3quNHf8pWgHEDolb8BhkpOafNfgFvTnfGkvddxGQ1WQZBM4prybrCyTiNzFEP5VOKTkZGFXhyjgHdLarPcKWSxR7DgTesn6/O9QzsdcB5LEHurt6YBoVpDhVaEZoHwNTcQ0dfaWvBOQnKBRDkRKWGC9LyKKAzYxUt+zT03Aej99lYJxyxUnsvw6sepWmzzXTVAlGp0z90fLGXDaUvJo0n6PVOrJWSXSzSl3sglykW85crAFCde1Pjpf/FjXZqv/BSbCQkNNvmcnYFO/H3dMGaNI5j15AnZiqCnRiKYvHkkqCst+dju1Q968ewEq/Tyrc8pMyohstqHvH98Gmrl/YNwi9ll4CADGllxVAowbaIBbkpqgJ8TVyjbbPS8wI0M3A5atbYwQ9SHlXWxCDcc6RX0Bm4AlbWKbhnEz15EIoOndx7nLpHbFBt2bTgjOmdpx8PlJdmhlypzHLXLZqCdnlTTbedxYKwesM/uOPgxbxYgPK0s5/ztvY7bZAyt+qjcaI9sRAr6hnJKcLPtxspWowg2xSMrIP0Fxz7tTngeLt0SSYqsTKpGkpixouUz+/sRTKSYXgbcH2CvSYDTo5ak3ddyg96u1aUcq6jinfzBrSRwYQwSDJ87j5g7EQjZiWDL9GnUD467VwzdDED65RBxEBs5QRijIlZQO3fFim/I7+hnuFQL/EQnvA5ijSMK4uUikBpe7px53nMf48IU2qYTNq1MqXexK9YvQP/XMXiLnC8zJMLxMuS5+0hf5mOtoxl6i0iN1TsDavVEVcs1IJCmLjPLqi5wfAtRtaJVvk2spHbboNOuzyIQwbgyyslKXMO74oJEmCyUYYzbEyHaoawIwIJHklwlgSVjZXVl09U7Xo7/Sh7sLbFhriJjE2cgXbVkxXu9kmif+IvqBnE6uX+MD5arPuD5HRoYqZdlwYYHK5G7QK9D2G4ybuW7B1xCopGxnrnnDZa2PCV/zloWJkYGisCFTWtNcLw+weaPNFuO1Sh/nxNaNskQreWFALjnZbPflRHImgzyHnchztcrO5XNyMVhOzGMw70OhEdIntKH15sO0jjt+XTrFTk8qxXj9NrT1AfjqPlPF0kccpwqz9zxuKZyUvEqNkAGeNEEr9lQnYPnB61UJvgnY6uFXZekbkzidolyDTFYXi+Uy0YkJ42YwZzVv5YsOUk6FROuxh18dt5LNhUvelH7sjUiHiNvFpU7A0WtCNKKrE5Ix2EQTtSYlcdeFBTQFAUsp60NIhy54QjHZWL+koxzYRcCan/LDMynJSaQNdZzgr8MnTk5dOo+7nbpWVaKs3DpGGgmdlBVfGjUcPJPyjb1WmzzmBKZDCoyQhDsCOjWx5577OZo6dSotWrTILDfV4/T6COxu1IScJnK+iyS3mxFhjFd8H2rIpzCccXUJz0EjbrHcbzDusj3hLrg9k26srsBCoMlOwR6b/QSdJgmt9giLGZAsROu4Jb59+/YREdE3vvENWrNmDV133XW0Zs0aUZ7FViK/J2R58XHP0pcTyfVZocd2Hu1jHVG+BCgrl8tfS4EOkcUZ/1q773rZvj9g3NwOKqKW5KQycOKbd7CwtynXz4tikxqhh9x4v/IuwlaaV5Iy2ADMkrsnax7JJ+mJE4+gUaNG0VlnnUVLly41y42RuY4bmMS8EFkuT7gvIievsyE43t+4ILh0+Uxo2GFzEiT+ut4HXReJD4O7L3XUcWepX2IoaMaMGWEvHUBPb91JU8cfQmMOHFm27XntdVq7eTtNeusYeutBo9r4Xg+BHnn+FTrisDfRuENHR2U///Jv6OXf7KV3Tjys7fqru16j9S/toOPGHUwHjTqgrW39r3bQ6yHQceMOqciT7AlE9PDGX9OEw95E41vs2bJlC+0bdSj96tXdNHDUm6N2PvbCdjp49Eg6+q0HtV3f/MouenH7bjoxwifZsvu11+nxzdvp6LceRG856MCozg0v7aC9+wJNG9/+O3fueY2e3LKDphx+MB36pua9Ke73xDe/icYeMrr8bePGjaN1L75KB47MaMrhB7fJ2rH7NXrqVzvo2LEH0yGj2+9zrmsfPbnlVZpy+EF06Jva7Xzt9UCPbnqFjnzLGDr84FEVXk7nM1t30q69++gdEw6t8Gx+aRu9uGtE+dteeukl2rFjBx1zzDFElD+/g0fuo13bNuf3cfdumjlzJhERvbh9N21+ZRcNHPnmthdo+669tOGlnTR13CE0ZtTIik6Ob9fefbTuxVdp8tsOosPGVJ/RQxt/TeMPHU0TDntT2/Xinr597MF0cOSePrnlVRqRZXTs2Pb78uzWnbRzzz46/ojmfSmeHxHRlu276YVXdtGMIw+jER0zBGfL45u305sOHEnHvK193BbEPYvynhz15ugk1bTlzTSipcPefa/TYy9sp0lvGUNv7RgT23buoee2/YaOn3AojTpgROX3rXvxVRo1MqPJHeOlIO6+PbftN7R9116a3jGHbNuxh557+Td0whGH0oEjq37smk2v0FvGHEhHvmVMpW3Tr3fR1h17aMaRh1XannjxVTpgREZTxlbtfPqlHbSn5Z297777HgkhDER/EEchhFr+zZo1K9z80PNh8vxl4ZGNvw6t9MxLO8Lk+cvCP9/7TOikV3ftDZPnLwvfvfOJSltBX7vxoXDS12+pXL9r7Yth8vxlYWjDS5W2//DffxE+8e2fR+Vt+NWrYfL8ZeGHQ89W2l7b93qYPH9Z+OuVj7ddnzVrVrh4+Zpw/FdvYu38t4tuD3/+g/sr16+4dW2YPH9ZlEe6N0+8uD1Mnr8s3Hj/c6zOc/5xVfh33/pp5frQhpfC5PnLwl1rX2y7vr1xv//+rub9njVrVgghhNP/+qfhnH9cVZH1iyd/FSbPXxZ+tm5L1Ib7n9kWJs9fFn7y6OZK25btu8Lk+cvC9/91fZSX03n+/7gvfPCyO6I8l/1/P8z1PZbr+/73vx/OP//8sn3qV5aHS29+tPz7oIMOKv//b29/PEyevyzseW1fm8yVa14Ik+cvC6uf2RbV+Tcr43xrnv91mDx/Wbj5oeejfJPnLwuX37q2cv1fn8jv6c+fiN/T37vqZ+E//sMvKte/tOT+8L5Lf9J2rXh+IYTwnTufCJPnLws7du+t8E5ZsCxcfstjlesfvvzOcN4/DUXtCCGE8/5pKMy+/M7K9W/dlt+T1/a9HuUrbNm5+7W2689t2xkmz18WfrCqOub/533Phsnzl4X1W16N/r5/962fhnP+8V7W1t//9s/DH159d+X6vOsfCL9z8crK9SWrng6T5y8Lz23bGZU38+u3hK/d+FC07es/fiTM+K8rom1z/vZ/hc8svifa1vnOEtFQcM63PS0HRHnUBBzXrtWnAtgjslPOEtPgcY8vdIfgoSJ8ZRN+ePJVZGXaxo0bn9vV+Pu5556jo446KkmfHSqxyy3ui7dqRiMZXmrId2wUClwCVeErSIUPO7il8aLVVasVRZkTBkz53RqGz7YPu3JApd14zS87nsRBJosmnBvDyfSFwDsB17FZRLqv/oocf0JMYDUO0ZhOnvOE6dOJiGjzC5tpz549tGTJEpozZ06LND2Z5HUGuOupFVOc4G5Uv4i8ouPELQLK+1D0Y28er8syucdFCrkysBBAdna43I1MqQB1bRP3ueeeW/4/u7tM9EqkG86dgJf28z1VHsXvgwZNSr0cyZNY7mHYM+IxUcVv0wcbNkiJBG9d1BenkSNzDHrhwq/Q9OnT6cwzz6QZM2aw+saOHVuRUT3uVksWxvkkW1OrfawbWFrfPSRhb3t+/okUKuONeNxtv88U3dmTkynlh9ozdCQnr1ZEVajWiZv3SgweUEL04B0gyERz7rnnGutdfVl7uWxLV+gJ3TnJ5cQdmHM1jDLjkABWmmcJYBd/73v05JNP0sKFC0XmIrFFZLgvWlRV+dvi3ddYThaBAtonNlaVuFEN8cZTIkJBbEV26+/T+GL3x6uvwmeYvzzy8vbQ+v9v3MTdSp7Qqg44IGqDYWtwvE5WnjKkVnYXo2JH3gcL1VhMr4hkOqMfZUpE8NiUBU2aKL2TaBuvMYw3CTPI8zyD/JphQYteM4JP7BzNORZ+rLfpdMV50z6Wi0XTXIUe6HDDkE3ezt2XdOoJxi16bEoImreR+BzjA5wnNJmmLwT+NtQLaPJjCw2CMumJochCaJDLLRaoN5MyoWs6WRgQtQf9kapO+7NIGdcW4qNQ3nGywCn+Nr+jphEf1aei2DIlTdxZlv0/WZY9kmXZ60NDQ+X155/fSGPGjKGZM2fSzJkz6Stf/rIuS2zjQzyREqpKKAS6/vrracaMGTRixAgqfl/xoC+55BKaOnUqHX/88XTLLbeIKm0eKWgnMZGMU9ZFF11Ejz76KN3xk5/QzJkz6aabbmrlatjoDuwdPdrJhgHrClesWEEPP/xwuTWenYCtdrEYt/0ZxPRb+3RemzJlCp144ok0c+ZMGhwcVJ0SLjJQzfGC+BTHqzW2v//ud4mIaM7Hf6+8tnXrVvrIRz5C06ZNo6eeeor27t3rtlWHLsyiSvJG52effTaNHz+ebr/99vLaRRddRFmWbcyybHXj3+mypTmletwPE9EniOinRO2D97jjjqPVq1fT6tWr6ZJFl1DeXiXzVzSENu64VHSaKcQNDAzQj370Izr11FNzvgbjmjVraMmSJfTII4/QihUr6Atf+ALt27dPhGfYsCnRneGhkqJDnC923w8fO5Y+9OEP0erVq+n005vjRyvRKvsx9mlUd46ikLdv3z46//zzadq0aeXW+C1btjT62BJ/mk6LNy1WMwAJ387J+Y477qDVq1fT0NCQqFOAuN2eqibTQjHWD3zg/ZVrixYtog9/+MO0bt06OuSQQ2nt2scFmfoZRZoNlT7I84tc/qM/+iNasWJFrP3KEMLMxr+bqpxVSpq4QwiPhhDWdl53JXAMg5urnKhzG25VNtH06dPp+OOPr8hdunQpnXXWWTR69Gg69thjaerUqbRq1SohFO0ONEMkL1C5vb47gX6JXiO+Bpyxw4QBy0mjVatW0dSpU2n06NHl1vjH1laGq00f4slSgXHXCCGRMqkr8mGs1yGr0q+jo/Q+vHP6OysGLV26lD772c8SEdFb3voW2vT88yy/t45bbXdCtJ22tNKpp55Kb3vb22ShRuoaxr1+/Xr67d/+bXr/+99P96y6p9Je8jT+i+DDWrt3smiVJz38jRs30tFHH11enzRpEm3cuLEhm8HzWF1pE1Sd57hsfWkrrVx5G5199tm0bdu2CJNdVqt9GnnrhPXnl8uLPaft27cr1viSUakRk39B6/w7o49+9KM0a9Ysuvrqq9uuV3i5+wzmDEJQ3lslVJPvZ7Nx8+bNNHHiRCIiOuCAA2jX7l2CTskeX/+mJbrjab1etrfflD/LsuzBLMu+l2XZW3WLDBN3lmUrsyx7OPLv4xzP+PHj6ZlnnqH777+frrjiCvqz88+PGZtfKzPvQFZbxIVtx7rOnj2bBgYG2v69vm8fPf44E44pKwwABbJ9TPkpxbVqva2zZ8+mWbPeRUREf/2tb5W/d+nSpXTeeefRtHe8g2bPnk0TJ06kCy64oKmiSBip95Nv42Er30Jn1uesBkA8Tq09JW+R99En2p/97Gf0y1/+km6++Wa66qqraMOGDbKdjEOivn+OBGPZ5rBB4/H0iYrvAsatG6v/mvPOO4+I6DgimklEm4jocpWJiKqn23RQCGG2RRBR80eOGnUgHX54fiDNrFmzaPLkyfScwoNmirl26zKwcuXKSutxX7mJpr3j7VWuBttRRx1Fzz77bHm92HKdPb3bZaN03dNHhkqatHLlStr92j46/qsr6Itf+hKd/8G/65DzGI0YkdGf/umf0u/+7u9GZXj1W95EZKOGJi+E+HM69NAJRHt4Xv+kYogoal3Q2h2SYqv/+PHjae7cubRm40YiGhe3SnrH+CZ3aaG1n9XjnjBhAm3atIkmTpxIe/e+RqNHxw+jy7niEaimT86h8W1oHq0wccKECRRC2Jfryf47ES1TWImoS3Xc27ZuK89Mfuqpp2j9+vVElLbSIh4pGgJqsM2cOXNoyZIltHv3blq/fj2tW7eOTj755IbSiB2yGY0+frijtNWhkwv7Nm3aVLbfcMMNNDBQPazMClHEiK/jZoUJYaji+Tf+++53v5vWrVtHu3fvLrfGT5v2jq7Uqsd39hb2cGi1TJqdO3bsKKGfHTt20K233to8x8Ux2ZoiQoeNnbZWMW6JsorgOXPm0DXXXENERC+//DIdeeSRok4PHp9yvK5aimsIOYr3rkFzKS/4UCm1HHBulmXPEdEpZ5xxBl1ySV49cu/QEP3Wb/0WzZw5kz75yU/SX156aW5vRIapVlmBPbwHzluhixtuuIEmTZpEd999N51xxhl04403EhHRjBkz6Mwzz6R3vvOddNppp9FVV11FI0eOFO1kv8unm6LiiNJ95cPtdq558+bRU089RbfcegvdcccddOWVV7boaJfJ6Yrbx7dJfWzYOE+Bcjz07/7u72jdunXl1vhx48ZhO+EYOCE1YnIvaC1tmzdvpve+97100kkn0cknn0xnnHEGTZ06taHTnhANQWjU+ATSc1PVHldccQURET399NM0adIkWrx4MS1YsIBuu+02mjZtGr26YwedcMLxFT4LIY5FzieQw7n4wz/8QzrllFPo1e3b6fHHH6fFixfTvHnzKMuyh7Ise5CIPkhEfy6pK0iFSiQKIdxARDcUfy5dvZG+uGQ1fexjH6Uv/MdPlP22bN9NC++tQhJELR4AgpWp9sntEnwRiGju3Lk0d+7c8vpFP36Ebrg/T0IuXLiwstUaHeBcH9sGHKW9ksyK97v22mvpw5ffSSdMPImu+lR73b30IQyLbIkQNES3o2nI6aefTgMDA2Ud/l/d8licJ3GhiJHobKALWsu1t7/97fTAAw+0tV9xG18q1zAqrkv1POOiLL+jk1WaJC+44D/T5669j1aturft3Pui9nn2FXfR6FE8VMLa6oBPrKRCuB1/X3fddUREdP7/+CWt3bydzjnn/XTOOefQtddee6JXd0++OVmSUFaCQCUFxW8gX1Otvvhs9l2fZqTQ33W9tYsaxvthFqnCpw79HkI+0dVgZAmF5dxVHgZZWmTg0SfxaIx17jgs26SKJ22DipCbwvMb0l4Kng/GqsHSvtR3pktnlXT8LSQALMlJvloj0aMBynz0evOILLCO20IspsdMGlrYJ09ENmzZrE+RicAImk7kuRLp3qVY6ipMUDLF76g2qXsnqNpP3FPky4lAHHMmwqNzUSYXmYN87tAtQj09q0TigT5WqtqDLttcslBj88M9yOLRKRfBmHmvxI//Wkj8LeDEJm/AYSZ9wjBnTl/qRiHvvg+bQ+KzQ4G45Wdh8OI946b0uCUuIDzXas7hemzwpUjzt7v2sWAOapB4FKFOXuQhWXh1Mx0YRFsf58xWtDAJ0Ton5qRyRKA+X2tTIxgVe7Qn7kqd2gsc9UiliNAw4bNdpChFlolivUgkieR81ES4qJGPQPM2aeH1Pyu0AKIGh7tmj5ut1/R7Ru38/lAtuT4aSBZyUImkSw5rDfeG4y0N8S2iKQue7FhKnmzkmnAvW/uw+lAPir0ed9ksQwh5xt4duK3yvBMN/FwVL1aTL1XpYG4MH4F6U09NPiVXJNoCgOpG6gnGXZBc6+qX12z3TU7oDkDLDrM4Xxph3lCcVwpF+clC9kqSvAt2AcEHvTyZMrNNAgRBxDyDRK8L8VgRSCCQ4ZuTSG6A3XGrw1FstKIu5n64MtcnyGSvYw7p3j17aMPTG2jmzJl0xBFHUMfpgKNYxhbq7XncMZ6iDzA5aQMADeUkySiig3yU1ISfKZ5pp1YtcaWVoMmmYHi956jUdn0YQS8wMnGVfdLyGJ36LHBB9DrAk/NhOSbd4eIvpsFvDqcEmnd0uZLsUaNH0+TJU2j16tX0+c9/nqj9dEBhX2+TevKVd0sySPvIp/wgbdeaOgVhDVuk6IC3I57xh4v7DX3Qs8rrhEpS6pURXF2fuPzMloXVPaa6AOWlfJWca0+pTDOdPtkhH93XEBEVsUeQj44pBObcrzBuYLJQoNhGkw8KsbYjuLPsmWB8RPjLk2PBkUWmMRQrH8UFvD9rdQA62SKQQK5P+i0MrEN4XiGe1NTDZWgxFOEQvjGHSjiMm/eckTGvluYp40YuKsCcHb4kl5NVQDPxdmQh/zmsfAAAIABJREFUbLWF5RueddxZ9G804UDkD0kkLx1d8W232uep26oLMNxOaudfJn5y8sIIrbwcISFsStKSsyl1k5HkySKeM9dHj2BkkJt3nvzPKYT6IRbLp8tk8r0rKfs9EKjVqlOjmqtKGEo01FuLnKvEQYhMlK1AOgAEQZS2AtcV/npOcYv2k2QLHg3yfEngk3jV++yEN1LqqiV1kuePYss4xo21FcS/EzEnQZOlD2xnOqzRjLncMiRSBygSp55g3AWJVSUJ9b7eLeqWc7rj8kQ2cIHhybQBhwsNBW+PE65WJHBVJYp9GnHLZ8L+KXepqD5haO0xuMpng6WP9tuwCQqbDNGF1VTHDcgt2lwfJxb0qPoAqK5sN+iVqGaMGwh7DTggN1i1PStJHpuC97J8rK6UhUlqq/fkxJiy4lIS5uwsJUypb0+p4pDQIK//ZPlIiHdbv2Uc8RMNZ0OCN25YgVzncSdizjw0qEykrL6EKZYxpg4/vLeHTEVI9QzVRr8HpVeVsJwKn78aJXkDjjMZI7Wji1Uq8S+/dr95Ere8u2yw9eE80rGHjKKRI7AbiCQF8y+2+xcuaK+A8T3q7GepQkIrsbyQTwrUhWLcRM17ctFFF1EI4TLdinbqCcYteWzFJWRyUCc2eIIWvARJHogTEuGTu/Zyexc17QO8cV2CQIWQ+4wvvI12wCNHJ7xfvbpHnmid17U2ySZseZSSjCGpkio6kSo2wYUFCVi1rs83hpFNfJ3UozpugzdjyAZ7bpB0vKPBGOjhE3Gelw/K8OjjdKo8romoCF81iMKvryndx4PqwyEweZKKPQR0MS77QNUvutwqj2HnJDfKDL+jk1ODOLU+2jGzviR7Y2w7oTxeXsEotAn6rFTvxA0Ya8kSQ0kOVSo/AFK8aqT4nyglkcVs+hHlMR4UkKPIdemhL8vrnEgvuugi+tSnPkVERJ/97B/RTTfd5NKpTcDeU+lM3hPk4Qt2KE1eT0/ExYU2PfKRF3wR4wYnNq+tiY9Pke2fX6yU9AUcjiqbPhr/TYVKuLpRLxaIhkUqH1KNIk4yOuUqeVydr3RxRC8GOzz9rIzc75/7iU/Qv7xCdM0119CsyW918XL6UqCsXJ9vUJlKxYSJjbUjaFCQH5oq5Lr5wAk/78Rd1pk95Ycaj/zqotmwNGiGqGenAwo8hh/AbeDRvFQdu+N4hS9FqyGlT1fJJyZjZBjJW0uKYp1e+IHTb+GVvtatEw4/eaM42Htv6WW/qrcRSeOakZcASVmIl89DQaCvw773SC6l2afmd74Gl7srW959E0ORRBMmJ9Wjtk9OFvJ6qa06vZNN6kvB88t2cBh+PKKxha/yAu1bmCRZ//LjfyEiom9efDFt27Yt2mfNmkdpcHCQBgcHacuWLR36IjaYQmZsQYD1MXxyslN57rFrQT/1EuHj5wFpLMhkgWeQXZ68PhwGlOXivES9Sk4KtZnaZN/e1+fRp9RmsqsogAXmbf6nbF0E4i8Vb5OM0/sXQRyfj9Ps2bPpuuuuo20vv0wDAwPlv6VLl9J5551Hi7/3PSIiGjv2cLrggguiOqdPn05DQ0M0NDRE48aN62j3h7gQ/m94fOwjBnOBQQC58XnG71TlbbJG0UmAXW5RJatP7iO3xxcKLIK2Uq0YNzLZWfqUGLnDFu7LMBadHPyAY+O4h6F10iAFPnqIXfN76Z3WILydNq5cuZIuXPowLX3geVr98MOV/mtefpGIiD7+8Y/TvHPO5DQydmBglpbA8y5eKR4+CpUQyXkmiVC+GK9lLCBVHpJdMAwo8GiPsJv7H3pyyFRByHccifQb4MYeVUzPH/4VbbVucJBZSrnegaodoctdQxauFGw/1rRp06byx9111100MDDg0qlOwM5FNiVBJfVJcYI4Yse1AiOg+xOaDpcdXy55wLxJliuMt0V+iGZjax+O3O9fDRN6vR438GI3oRL913hWbku7d9ei6ukAHpKtxl1ukyEoxiZHRIGe8NfWR2iLY7nxSGLevHk0tPE3RCf/Md03NETX/vWVjE1efYKBijxdX2zCwJ+7WCmo4M78JOqfnrqR1LQkJ2X++P6NOh0qK6/sPKaB3D0+ZCpyrUxOSvI0rCzmJmLhT4MVtgXNXnu/qWm1J9oswCcoHMDpSjmjJUbXXnstffvb3yYiossuv5wmTpwYtQOpgNHskb6RiOiS+kgHJWknB0oQIMcjkZRkNJ1V4vCAC21oUhCFv2VMXXNcfPLqQFCGTTmgKTnZIR/dkWjpg2DcCDZu+d3q5BdLjqjVBXastwmVMLijqKng5ds8OHx+XcldKHcVOSUOv58pGHfkms7mx7hDwDeZSHY4HLhOnhR/ND5O/XOTRpBDKVpjp558LNgyQVo34Fj06XL0pCWSvKu7qsT6eKXQkPVpgIUJ8cx0jJuRZZnYJLls8Sn2I0MAcimm6iX/YihDJXybtEDWPQF3yo/KBZjQd7doc6rL+USNHKyKRQxW6vGny7Dbg67cKo7EqvTbItmUsttLtqZhj/Nl9Sai1IFmgQSQ6AiEO7QIj8PUNUJhEWRBY/to40+BL9CkJ8LHbXm3JALRZKE36pW25afi0DA0Y6DuHOvaYbFUlZB62EqrfMGEDp06OaKtFp3CATccT+Lqm+uskvYbIdBDnTB9GHAuEk2WJUykouflvDNdw7gFHkWe4Ha4deVcDJ/MpifvupATcW/kAyGrVvLDo+kud0+PdY3yGKASbgNPN0L7pi0AJpYQUkpwh0R8NFIwx/Bc/gWWvFEYflDIjXGjgZQg0wbpYJhlnXXcGQlYgEE25zxBeRTlnjTl6zYUlFn6AM4A5sjIpD5DwEGwUo/ruCUeoU1buYWEWtQO8MVPScLxmf40zzLX6cfTfCe22QgJDaX7peKZwESqTsBe2AmczLU+6Pc/vQtI2YbypeSmhAUNrQrioJK8LbYQ8pQCZ6QsPBaq+VhXbrDFPebWa8gnkNRVFAjtNV71wKeYLNkMVp+FT4G44zxOD7dsB14mFDtOgbqwrdaKUBVG8mL4hvvCWsLr0r1gznOWCYHWoH0NRXRt6MM0xnUqPxKBNtTqJdBBsFCPzirhyfrNSSLnyi3gzfqAY7gMGW2hFeApOGXcTt6AEye2LEwqB9TsFEND3/VkfSwz9gLzMJIkS3873d+cFNoanFgdN+qNS6a0a4jwCmONLT213NP4dS+mbp1bvZPwsPO4dRzJH9JLbakndyFhElJhYfNoME8IqSX1hsXaB1zTyQt14YbwZX1pkJVoEYhxo3zucR3034/ua4j1S95pKy4yfi9f68EuhBqEi44XA/WmjjsBb27r67QDx8ni3rrqAUpVJQmrLJaMUTxL4zWT/gTwH61JVtWBToKMjUdkSTZ0CSMVoxQQW0X2IISQiH8DGLdGUm5EAqy4CNRC/i97pbvcPa7jjlxr/BerBxV4MjzUrj+Jg4V3ps+6sbzN9gqPVDIl6EJ3LNZdFtYNCMWyOKKYJYZwc8k03TNGqko0Qj8sksuX/47L8y/0OT9jAxpBCzKBdUm1x0pdwriz6N9RLy8UGLeM48r6olfZ/nCy0AJ5OD2z1NBXqw7zbF7SbGcjGEG/3kdqScgpAMkmIj/8lvrFbuQF1j6k4E2mybXfgh3gQt5sF2SDkQOR8OidzkAKxo1CPVaq2eP2j8KSw/BjKtIBD7+V+AEuwQZKohCwI4W4ul6vB5jzMPW8xoHmTYrlOnmPNClc5vSB6KIeTUoTfgzDxzD1lEiSiP/96GSIlAN2ZVJu4fdMpCm5jRSMO5V6gnGXJJZM+al5siCX3MJeUvwAe3/UkFoHrJX2ec5G14jHfzEoqKDob0jIi2iQBvpCiRgpowuluj/qS6SPFZEPiECb1UhxsETaaav58nwLk58Kwe3hW58f6ApAXAX1rKqkDm/UA0Ok4ktIMirniw0aiz7ARS54vYk45wtcToTgTITi1SkLJfrVId5TZ2QlQl3ImRxa4tI/Qcn4vfrhAqCNa9cqmKyLhbXN9PyYTnXmPLzUs/O4tVdXhiDiyzCSDG2XK7dX5emYqzckS6244SAFdMMBMrhtGLc0QXmTcDj2jU7Auafue1Hr/qpKzmhJTvIQICi2VgzYEhWknK5XV97AGpUiidthlZyEqkoa15JWbicWaKsjBV1uj6zWPmAyjY1kBF08lCUw6c0gxq24j4A+iRWZgEUbEjBSTV83MFJkApYS3JZDnVxOQotshGTnSdAH6uJovzrWtaD4jigZNzYlOTpuhjw5GV4o7jqH6akSfYNUsiHXp2tEPxYc18d5v432JMyWb/N6+WhJmMyjeLLKs/DCgKjX2HwW8Q7yhMG8gwGDAHXy54p0jFsH0Fx4dWLEK1m032zA0YyRdgdaEnv8YOYGJDe4ZcLruH3fu7PaBG1yECcNXxK1edYMcz+74BnnbQmQCIeRGkYpd9mbRC27oB531AFSlHF2avqA2n4zlMBVsgg+MJqjQDYS5fowmZC8GlDunpzHXVyCd3Ux1zV56rDyTigJnh7v3acvy/HwV84deA6Otw4ztEKGe33RunHtnuJJKkFsFCMVZKV6+MK9QSYaFHO3OBW1lgOa3gk7Xl3HJIps7hlWHwuu83jRaF+HbBlXlfVI8INaf+t8gS02aQuClxeNKNDwFUnS2Ko1wIUC8tT9sso+NdqZ/C3VTrjR8P4hUV1uByiX0pw8pCIM+UITWi01fDFubpIWrmkQBFF1kKFeSSnXWelhCd35F5zRJUo0kIBbSuRJUmlQlWKKSt66+RSMG52AtZI5joejVM+Svzc+nSVUCdiDevcoDFLolEhKpHr6u4g1CpvYLdQdqCRCmZY0QHBcgTXLeK/Z9hFXuy6tzYZxY546l6wqb6sjGuE2pyAnx1n7pJyBgYai9XrAOsF2CpCOlL8R3xdnnijXKeHfGF/Oy/NA3yhtELQ4S3MTa4cgDoygrdS7nZOKFwsdVpO4bHkrPVImKK8N7X2kl0O2QzqfwqsL9XbQkQovvMBEiU4GTbl+HkSf6pEGKZ9i11PtZ8+JxGyy6mw6IpwsHZbzbIIr9UkytWiEw89BKMhCva3jFmrsLLirt6SHNQecgDmPtDQj446DxZ6S5+H6NtQ47TR4eap9TK807FjSx1+HMG5mQkw+ZEpsRSMDO195yBuY9zC9t8q4ismDMW4JroxW6djzAR47pCeUOmaIenQ6IFHjGaHhgxMDLVlAx4wr68t5pLBRsUcgPBlThJYd8sRQU5Ln0x+zxaNPkt8NjJtrT418vB/CgOu4Ve9P0Bn55ZYcE2dP3Xhzbkd8PFuJjZYT8mHIvdH4hldVibjKcDzp8r1bptUB59Tf1ifWRXyB8RU/5y/0dmDcJVTCyHZgeujAbe/ku54Z5CJYLhQV8uKMGLfk4kt8ApsAJSAThngvhQnY8vs9+y8sGD6qT/LwXXJ4cWbeVOrp6YDROa2ESgBPVrk7ukcgTJrAAM+ybnlKehvL7xisQVGGTqR6crm9w/XXX0/f+c53iIhoaGiore2SSy6hL37xi0RE9LOf/ZzRx3+JKJAQESrkf1FTwmVu/MnJO+kZSlUlGvGQlp5/8USDmj4iLbL1YdwWm9B3t4YtGiz1DOPWjhc1heMuHFdYtQ0ut7TIiIwxPo2NIctLhUYyCA6IYvWSvtj1gYEBOvMPzqxcX7NmDS1ZsoQuu+wyIiL6xje+Qfv27av0Q6CS0h7Bk43KSsbiMUgL1xfXj1SO6K+R/AvEjVBgxCSwxiEyQW6S4yfyKYIN1Ns6bmEltODD1UEn8AhtnXIRXo4QbDxnxFf8KHuRdBKHaycPo1/TrabYfC/w9OnTaezhYyv9li5dSmeddRYdcOCBRER0zDHH0KpVq+I21TwBq9GIzF7Vp7SrHqITerLolBXiMiv33AAdImeu5G2MDc7+bX3Uclg7hKsaZKTensctrGqWBFyFV8NxBXtUApMxnq3krXwoaQPdkyAKFLqI+XHRj5Y0arZv3LiRjj766PLaEUdMoI0bN1bt0N4X8H2KL4ES3CYIM/QRPVJOHjFfMWL0JUV1xgGRkh9w6+QUBj900a33dtidVSLVDuum6j08tccS3qyX+UhfaweweMJwMs/C46qVFRdJvj/r5AHY9+zZs2lgYIB27NxJ37/mGhoYGKCBgQFaunSpaqOFnnpqPQ0ODtLg4CBt2bKl3Z64lbJA1AMmdAJmZCW8SYin2rQn4pBIyoQmy+KIJvfyL+DwbbxGQSby7ibm3zQ6IJE/Sp5wxXNWguecBdM3/ZzX0cFkgNThHvoGHI7sCRyrh+Dx1leuXElERO/8ryvoU5/9LH31dy9VrTzqqKPo2WefpXcO5H9vfuEFOuqoo6L2HnvssXRLI7E5ODgYFxi1k0v6xT3Z1ASUPIn5vXk9CefXJToksrpcp9PhIvLlRDr5+Y8iSPeTWZgkXQZbPNc91MNyQGbLe9nOy0WTTWzmPSGE1bzqOkvqTIuaih/7oh+oBE20ABvgsXreOXPm0JIlS2jv3teIiGjDhg108sknMzb5FvXuJhljzwDETQ2pEk/uxlxVAoSE0vnfLE/x3J0RTJPfx1fHJIokNodVHbdE7P0xJCfLrh44INK/0se9ImJJON0OX/LOogP5dJmWwNGrSjz+PW/HDTfcQJdd/ldERDTn3/97+tjHPkZERDNmzKAzzzyT/t9584iI6MILL6SRI0ey9sbtwF4Y5D3rBsZd8rHlgPJhWNxBbVqZK99menPNcu1jzacNiUT06jPlvXVe91CtUAlSK2kqR9KSHE7oyhTCsuGdwgdg4xyfxU4WRiraBZ6KvqC99DyfbKMvKpg7dy49e9gAXXHb47Rx4/N0wMimf7Fw4UKacfpG+tIPVtP73/9+wFYuySiT5MlK+ojqxrgxfW3MrXqMjlPc4dYcmXYdFj719xmcMc+7W14S7yfw7oKQlZV6Vw7I3FBTOSDoyVqABk4f8jC0yhmfFbZ2baB7qkq4/tZwEgk7+d2wfh4rwRNwDPJI9O69ddwWqETWx+gS4Qf+/UNht1wufxHF/r1HBKecG6JDgMz8MtwwbolQIL+VPPWSnnDRYwvcJmrEMERJJ7YZqnsk2yPwCW0InydR1i4Pvzuohy+2O69zOq2/KmUDUienaWyySWKLPvs8IfKYb07kEgBVeqhnHwvmyPQDmGepsoIYd0yXSR/TJ7Ue1OIVVF6OgpedpO2ebjNhhI02cYIFIKmUnIGKAQsJbSmJyvFoJEMeSFJTGS9MLsTyzdeYLom0RKOMcQtyFQfJk+i3zFQs8gR6zsPudECkPE+bYPI2hZgB4D0wyNJHtlP44jqIaWqkTqoO6APF9QVVTdnSs6gRO0b5Ul8l99duVMhD89h8EEtuh39yLvWxuoAJX1Yl22HY9IPAQdyGNJNNxmt10jDY8l4kJ/16Uj6BJPXxfGDXIlDHuH1ecRsv46HAoZpj150qq5SpNcew48aCBLwCBWeMVAiC+42croTIQJLLke6RKs+dSWKLOo2yWJ38YGOvoNCaFwY0lYEyfZCzWJr2pE3tvTtkilkJTQMHLJdDM9MSb2o1gFefhVfi93qXknOozs/ApI+MX7TMU1Jne4FRWASAPHRzWDt6VcetVdpw48YSmSfVOdc0prpV415DbrJ3x7qyq3bjByK1yqINQsjU7MNkfTn9mjyuE+iRWn4v8l0/IvRl4mQpGL7YmgB5gPgyMgEjCJjJq/JCLApb8PKV7580A6NgrtIsOBXoOs9BpPzzk+KzdptiukRbEvMfEvXskCki/CVsPkx/Qi1qRwLKLXqrIoaoeVjYC9wioP1PcOJKwX+R1xv6Xp9mBzDh6Ql15QMFTnvUZ8pGUPpdZr9EZPCOPWSde1wb5wooCMxtcMnJnC8GyfGyzL8vtlBIDDW43L37dFnGHdxkx3ErnCpeiXmCbD02iFmiHqnJ42Z0aBubKi+T6bdhuDEaFWiEvnT1TsBpXpVsp/8HenMbpjyK1CY5ARoGLPCwHjcIk+lOpR5xVq4rMutYFDjq4YcUZJ4UqIQ9HdApp5U3yic1UrHa+z11jSyZe28oz++05L2SJGyZq8sFPGDLl74FS+I8Wu5CdRIke2zX2uQpsuQv/HC81Qbf+9cxZqwYcCUcFDqXY80/kWrive8g+hV7jXfYHetakMeDLCcMA8RWheekm6MTlMQC5Jmev3BvJOITQAKPE85UX5SECV1rR7FAaaGAFhhKg5F4fXwbArGEgOHuyLjW4KOMG5xluw+6yEXpi3b0GWqRiCSTWwhVjBtUaKA3/mPBxYqv1EdL5IUaLBsHkA8iEAkTfkLuR+ZloBCNtwKV4L+ttEXMK/iuNxdrJ35IafdT5APzJhx0KFHSzjsutI9c9swfMZ0Ibp50Vokgt7DH8w5K0aQd4/bx1rD/psd13NFrBRary3WFat1K4gCJkW7U81Z1cJ6UzatpQiWiErddqkxibLTIBSImFevkrnP3NzFa8O5FUJxYd4FAcx+F33GyQyWc3Mi11OjObYNlnsB4/4+o4yaKn8fdbBXaWKikvd0qz0LIbUUTNfyLYUgccfdGw2QVedbrkiyLPZBnCb68hT7vYVGFSrxs0XatU19UlsFTR8a+yXFy8nFlpCmJ8Fywwss4T15k3F7H7ZstanC4e1lVEu+bWs9I5E9k6SE/1pbLjukzwBCJ3ixXLRBf1PgklUQoRIFsoOrmhhhRtncClmywPHehDcHiVT6Hfk1eNyArC1SCKkU/oCFke1lKSWZbqKd13NFVrfFfpKrE8nKiLzACeXBQiaYLfTFamb2hFx/6M/AR4V6zaAfQrv5WcTLlWNJCdO8EjFaxmBY01g5+wbbMX1WoUj6wq+zXWcFkeW9ZWTIhuLpmk0aearf8Oq6roJ4e6yqXzVhWSjvOmFJORpnwwVEgG2PDOkVzvCrd8lI+oGwh97nTCdhjro+5roTM8mFYvjcu/bn7FyCvp1f+XqXMlW0zjE1Pyafp02WWxSIiIB4xCTLUChacNxVoqHfiBsM3rR1dRfM+fkrSByhEJt9qZ0a20ZtHkz6CahuvOtH4b2im8cVCZqNclpxjXz+rhHFSFHXcR41beb1tTdny3xWZQCQpVRNZlHKRdlLEJLO6+YZlHTcKP9hCNb8dCMbN8RFpg59JMlr0AXKJ9NDSW7GRUiUB8wrYYxQqSbFDZoXgoBSoyz1hGCAdVxLOYCTiVFlUwMle0Z4COrTxiR6+Os6wHEvenuZz9wzj5j4HVraLSQVGnzORZJWLJlKRemu5TX+43MCr+wscUn1sAuScRHg9NiYLXRCiCy+IcTf1+RcSsQy05hxTQyojB4/MdUiP4UvJGaDPyjm/eKh+j5u7znol9hkEWrlj1xJgAf0hRjz8bmLcTGhZRjLRxJiEZ3JhtgFzBjDZXDZPyMYIWV792CMPdVmgNZ/3oT0FtJoB/o6jYRbyeJeWry3ZovOoz833FwonEDvUyE5p16iHddw4VGJJWFR4GKwrJjdGcFWJ0CbxoaTxWn351MUFsSLlPIpcKhaqQpizltR0rkyWunGkg/RptqjH7XimscnN4uR4sHHYu+2wx6rTlttA8xH+XIOVuoBx+4yVPMOmTEVnDMdFi3UVXuRTTZb1FfmqvNTX6+GqO1gzfoCmJm29j0qHrOQBg07AfHkXntuQSDzwi+EJgcQfWJ3QlOcuEHr6ZtneDYxbcNhqL/9NcLmHWR23PwwtMTaoHhSbEAvylgKlTFDiQ9YWJhNUErfD+xk2Yd7WsWzueo9zFETCIgNinfrY9oX26u8DIA1Ntng6oCrVPxk2GXU5pbw4i5nc472LGDfvBKX73D3EuONb3i3fnCwfJvDS1b2RRhrhXAIWhSEsg1fDBKPmAiFzSrVJoxcv24094p6eVC4nyZagEi2alAj1LPlyQE2ffwKDk8DK5jDxW6Pg72v288E6cadSi8x9+uuknmLcKEEeW8JK2p2qEqFNFit7WUxoiG4ASCmlY+8nIM+Wo+DJy5fs4TshFvSLSOq4Dr5xnfLKari/tDxqPHIEY4jOzT9MdnxabWJ1OfmGKcbNtyGZ27a+bPjoI4tOVBfqOXtsaCUkdxDHuDU9zDnHBt5We6KyjTZaZHHyrLx8HTeiLxHKA/ik5GTMojLilXI3QMVJuw6Ol7+G1NNzMi364rpEVXByvNkHXzZ7V8edMR2ECaaFu9G1A+MWOeSQq7VP7Dp6DjS/+uKDPwUSY2VXcEf5BTZFME5ebuBef/319M1vfpOIiO5fvbq8vmHDBhozZgxdfPHFREQ0f/581hZpAo7aY8C4kfPGOdGIA9DKhywkhlfMZZMVSvDUfzfhFV1utI2tYBIEKoSUAEt8w7SO2/nyllltaWJTdEZDUb6/+hBhvM+XGNH6mL4HyGCC8sDH7jXijVr6dKocGBigP/mTP4n2Pe644+grCxcSEdGlf3kpI09ZCMEJmGNLmSzckQiYKOPaTVEdCPOlnFfNGWbGuGOJ1BimLslQdKTAikRpi0lv67gFHssihAw6uKpEiA5EfY6w0NJGZMMRq9/10zBue/RS6MExbmZiY+RMnz6dJkyYoNqFfJHGW3Nb8oEQCxE4AcvNfDmgJFssc9XJc8pfp03S3xVbhMiVSHkfCi+/Mr6V9wGIzJuyfXzD8qwSyStBt7rqyTv+GrKqSZOUXseNLaPo4ovUrWZMf1mP/CEMjbwLaNZckdpo/fr1dEkDRrnnnl8wApXfBwLoLFtmi46i6oQ2+fQ8LHnHjmvDpO4tB2yOTd9iiYzPVl5i+OPjLA7Degi1NeF1oiz1sJM+9QmhLMtWEtERkaaFIYSljT53EtF/CSEMNf4eTUSHhBBeyrJsFhHdSEQzQgivROSfS0TnNv58UwhhoAs/o099ekPogDfagD7930khhNkAz24i2t34//uyLHuSiN5BREORvlcT0dWpdvapT8ORevYhhT70+ws7AAAArklEQVT1KZWyLBuXZdnIxv+/nYimEdFTb6xVfepT76k/cfdp2FGWZXOzLHuOiE4houVZlt3SaDqViB7Msmw1Ef2QiD4fQtj6RtnZpz69UdTHuPvUpz71aT+jvsfdpz71qU/7GfUn7j71qU992s+oP3H3qU996tN+Rv2Ju0996lOf9jPqT9x96lOf+rSfUX/i7lOf+tSn/Yz6E3ef+tSnPu1n1J+4+9SnPvVpP6P/DW2itZIc+wZ4AAAAAElFTkSuQmCC\n",
                "text/plain": "<Figure size 432x288 with 1 Axes>"
              }
            ],
            "_view_module": "@jupyter-widgets/output",
            "_model_module_version": "1.0.0",
            "_view_count": null,
            "_view_module_version": "1.0.0",
            "layout": "IPY_MODEL_87c8a1aa238246bcaea4d8f4f2c061f8",
            "_model_module": "@jupyter-widgets/output"
          }
        },
        "b9a33e7653e44e2bbeb0358bda6a0d96": {
          "model_module": "@jupyter-widgets/controls",
          "model_name": "SliderStyleModel",
          "state": {
            "_view_name": "StyleView",
            "handle_color": null,
            "_model_name": "SliderStyleModel",
            "description_width": "",
            "_view_module": "@jupyter-widgets/base",
            "_model_module_version": "1.5.0",
            "_view_count": null,
            "_view_module_version": "1.2.0",
            "_model_module": "@jupyter-widgets/controls"
          }
        },
        "3fdf39df45ec4cb190abec4ee5b58d14": {
          "model_module": "@jupyter-widgets/base",
          "model_name": "LayoutModel",
          "state": {
            "_view_name": "LayoutView",
            "grid_template_rows": null,
            "right": null,
            "justify_content": null,
            "_view_module": "@jupyter-widgets/base",
            "overflow": null,
            "_model_module_version": "1.2.0",
            "_view_count": null,
            "flex_flow": null,
            "width": null,
            "min_width": null,
            "border": null,
            "align_items": null,
            "bottom": null,
            "_model_module": "@jupyter-widgets/base",
            "top": null,
            "grid_column": null,
            "overflow_y": null,
            "overflow_x": null,
            "grid_auto_flow": null,
            "grid_area": null,
            "grid_template_columns": null,
            "flex": null,
            "_model_name": "LayoutModel",
            "justify_items": null,
            "grid_row": null,
            "max_height": null,
            "align_content": null,
            "visibility": null,
            "align_self": null,
            "height": null,
            "min_height": null,
            "padding": null,
            "grid_auto_rows": null,
            "grid_gap": null,
            "max_width": null,
            "order": null,
            "_view_module_version": "1.2.0",
            "grid_template_areas": null,
            "object_position": null,
            "object_fit": null,
            "grid_auto_columns": null,
            "margin": null,
            "display": null,
            "left": null
          }
        },
        "3469984fb1db432882336aa1bb900add": {
          "model_module": "@jupyter-widgets/controls",
          "model_name": "SliderStyleModel",
          "state": {
            "_view_name": "StyleView",
            "handle_color": null,
            "_model_name": "SliderStyleModel",
            "description_width": "",
            "_view_module": "@jupyter-widgets/base",
            "_model_module_version": "1.5.0",
            "_view_count": null,
            "_view_module_version": "1.2.0",
            "_model_module": "@jupyter-widgets/controls"
          }
        },
        "9b72c2903a6c4b2b9ae8c668e12e7aa5": {
          "model_module": "@jupyter-widgets/base",
          "model_name": "LayoutModel",
          "state": {
            "_view_name": "LayoutView",
            "grid_template_rows": null,
            "right": null,
            "justify_content": null,
            "_view_module": "@jupyter-widgets/base",
            "overflow": null,
            "_model_module_version": "1.2.0",
            "_view_count": null,
            "flex_flow": null,
            "width": null,
            "min_width": null,
            "border": null,
            "align_items": null,
            "bottom": null,
            "_model_module": "@jupyter-widgets/base",
            "top": null,
            "grid_column": null,
            "overflow_y": null,
            "overflow_x": null,
            "grid_auto_flow": null,
            "grid_area": null,
            "grid_template_columns": null,
            "flex": null,
            "_model_name": "LayoutModel",
            "justify_items": null,
            "grid_row": null,
            "max_height": null,
            "align_content": null,
            "visibility": null,
            "align_self": null,
            "height": null,
            "min_height": null,
            "padding": null,
            "grid_auto_rows": null,
            "grid_gap": null,
            "max_width": null,
            "order": null,
            "_view_module_version": "1.2.0",
            "grid_template_areas": null,
            "object_position": null,
            "object_fit": null,
            "grid_auto_columns": null,
            "margin": null,
            "display": null,
            "left": null
          }
        },
        "58e67503b8af42bd9ad5b696ba255db0": {
          "model_module": "@jupyter-widgets/controls",
          "model_name": "SliderStyleModel",
          "state": {
            "_view_name": "StyleView",
            "handle_color": null,
            "_model_name": "SliderStyleModel",
            "description_width": "",
            "_view_module": "@jupyter-widgets/base",
            "_model_module_version": "1.5.0",
            "_view_count": null,
            "_view_module_version": "1.2.0",
            "_model_module": "@jupyter-widgets/controls"
          }
        },
        "09fe5e33111b4a54b1aa13a977d028b4": {
          "model_module": "@jupyter-widgets/base",
          "model_name": "LayoutModel",
          "state": {
            "_view_name": "LayoutView",
            "grid_template_rows": null,
            "right": null,
            "justify_content": null,
            "_view_module": "@jupyter-widgets/base",
            "overflow": null,
            "_model_module_version": "1.2.0",
            "_view_count": null,
            "flex_flow": null,
            "width": null,
            "min_width": null,
            "border": null,
            "align_items": null,
            "bottom": null,
            "_model_module": "@jupyter-widgets/base",
            "top": null,
            "grid_column": null,
            "overflow_y": null,
            "overflow_x": null,
            "grid_auto_flow": null,
            "grid_area": null,
            "grid_template_columns": null,
            "flex": null,
            "_model_name": "LayoutModel",
            "justify_items": null,
            "grid_row": null,
            "max_height": null,
            "align_content": null,
            "visibility": null,
            "align_self": null,
            "height": null,
            "min_height": null,
            "padding": null,
            "grid_auto_rows": null,
            "grid_gap": null,
            "max_width": null,
            "order": null,
            "_view_module_version": "1.2.0",
            "grid_template_areas": null,
            "object_position": null,
            "object_fit": null,
            "grid_auto_columns": null,
            "margin": null,
            "display": null,
            "left": null
          }
        },
        "af1b1bfa7a964ffb9091fc70be6282b7": {
          "model_module": "@jupyter-widgets/controls",
          "model_name": "SliderStyleModel",
          "state": {
            "_view_name": "StyleView",
            "handle_color": null,
            "_model_name": "SliderStyleModel",
            "description_width": "",
            "_view_module": "@jupyter-widgets/base",
            "_model_module_version": "1.5.0",
            "_view_count": null,
            "_view_module_version": "1.2.0",
            "_model_module": "@jupyter-widgets/controls"
          }
        },
        "7cc4754f972f47169589042bb19830df": {
          "model_module": "@jupyter-widgets/base",
          "model_name": "LayoutModel",
          "state": {
            "_view_name": "LayoutView",
            "grid_template_rows": null,
            "right": null,
            "justify_content": null,
            "_view_module": "@jupyter-widgets/base",
            "overflow": null,
            "_model_module_version": "1.2.0",
            "_view_count": null,
            "flex_flow": null,
            "width": null,
            "min_width": null,
            "border": null,
            "align_items": null,
            "bottom": null,
            "_model_module": "@jupyter-widgets/base",
            "top": null,
            "grid_column": null,
            "overflow_y": null,
            "overflow_x": null,
            "grid_auto_flow": null,
            "grid_area": null,
            "grid_template_columns": null,
            "flex": null,
            "_model_name": "LayoutModel",
            "justify_items": null,
            "grid_row": null,
            "max_height": null,
            "align_content": null,
            "visibility": null,
            "align_self": null,
            "height": null,
            "min_height": null,
            "padding": null,
            "grid_auto_rows": null,
            "grid_gap": null,
            "max_width": null,
            "order": null,
            "_view_module_version": "1.2.0",
            "grid_template_areas": null,
            "object_position": null,
            "object_fit": null,
            "grid_auto_columns": null,
            "margin": null,
            "display": null,
            "left": null
          }
        },
        "87c8a1aa238246bcaea4d8f4f2c061f8": {
          "model_module": "@jupyter-widgets/base",
          "model_name": "LayoutModel",
          "state": {
            "_view_name": "LayoutView",
            "grid_template_rows": null,
            "right": null,
            "justify_content": null,
            "_view_module": "@jupyter-widgets/base",
            "overflow": null,
            "_model_module_version": "1.2.0",
            "_view_count": null,
            "flex_flow": null,
            "width": null,
            "min_width": null,
            "border": null,
            "align_items": null,
            "bottom": null,
            "_model_module": "@jupyter-widgets/base",
            "top": null,
            "grid_column": null,
            "overflow_y": null,
            "overflow_x": null,
            "grid_auto_flow": null,
            "grid_area": null,
            "grid_template_columns": null,
            "flex": null,
            "_model_name": "LayoutModel",
            "justify_items": null,
            "grid_row": null,
            "max_height": null,
            "align_content": null,
            "visibility": null,
            "align_self": null,
            "height": null,
            "min_height": null,
            "padding": null,
            "grid_auto_rows": null,
            "grid_gap": null,
            "max_width": null,
            "order": null,
            "_view_module_version": "1.2.0",
            "grid_template_areas": null,
            "object_position": null,
            "object_fit": null,
            "grid_auto_columns": null,
            "margin": null,
            "display": null,
            "left": null
          }
        },
        "712cbb86028b4cc39a8c2be357840d8e": {
          "model_module": "@jupyter-widgets/controls",
          "model_name": "VBoxModel",
          "state": {
            "_view_name": "VBoxView",
            "_dom_classes": [
              "widget-interact"
            ],
            "_model_name": "VBoxModel",
            "_view_module": "@jupyter-widgets/controls",
            "_model_module_version": "1.5.0",
            "_view_count": null,
            "_view_module_version": "1.5.0",
            "box_style": "",
            "layout": "IPY_MODEL_f7a629b647b84894b8dcf298552a6a28",
            "_model_module": "@jupyter-widgets/controls",
            "children": [
              "IPY_MODEL_0f43c160e6724b2792403f7830c9c0f1",
              "IPY_MODEL_08311a77eb7b4ff8a46bd4fb41f975b3",
              "IPY_MODEL_1d5bacd95c3b4ba8ba7b545ae7809002",
              "IPY_MODEL_0dc062bd253448bebb7809894c78a416",
              "IPY_MODEL_a570f44b80724a7da6a40d368cc81ebc"
            ]
          }
        },
        "f7a629b647b84894b8dcf298552a6a28": {
          "model_module": "@jupyter-widgets/base",
          "model_name": "LayoutModel",
          "state": {
            "_view_name": "LayoutView",
            "grid_template_rows": null,
            "right": null,
            "justify_content": null,
            "_view_module": "@jupyter-widgets/base",
            "overflow": null,
            "_model_module_version": "1.2.0",
            "_view_count": null,
            "flex_flow": null,
            "width": null,
            "min_width": null,
            "border": null,
            "align_items": null,
            "bottom": null,
            "_model_module": "@jupyter-widgets/base",
            "top": null,
            "grid_column": null,
            "overflow_y": null,
            "overflow_x": null,
            "grid_auto_flow": null,
            "grid_area": null,
            "grid_template_columns": null,
            "flex": null,
            "_model_name": "LayoutModel",
            "justify_items": null,
            "grid_row": null,
            "max_height": null,
            "align_content": null,
            "visibility": null,
            "align_self": null,
            "height": null,
            "min_height": null,
            "padding": null,
            "grid_auto_rows": null,
            "grid_gap": null,
            "max_width": null,
            "order": null,
            "_view_module_version": "1.2.0",
            "grid_template_areas": null,
            "object_position": null,
            "object_fit": null,
            "grid_auto_columns": null,
            "margin": null,
            "display": null,
            "left": null
          }
        },
        "0f43c160e6724b2792403f7830c9c0f1": {
          "model_module": "@jupyter-widgets/controls",
          "model_name": "IntSliderModel",
          "state": {
            "_view_name": "IntSliderView",
            "style": "IPY_MODEL_e1ad9f52b37e4d67a8dce2b407b01b59",
            "_dom_classes": [],
            "description": "m1",
            "step": 1,
            "_model_name": "IntSliderModel",
            "orientation": "horizontal",
            "max": 5,
            "_view_module": "@jupyter-widgets/controls",
            "_model_module_version": "1.5.0",
            "value": 2,
            "_view_count": null,
            "disabled": false,
            "_view_module_version": "1.5.0",
            "min": 0,
            "continuous_update": true,
            "readout_format": "d",
            "description_tooltip": null,
            "readout": true,
            "_model_module": "@jupyter-widgets/controls",
            "layout": "IPY_MODEL_891b1a7f68264debb40688f0ddc13524"
          }
        },
        "08311a77eb7b4ff8a46bd4fb41f975b3": {
          "model_module": "@jupyter-widgets/controls",
          "model_name": "IntSliderModel",
          "state": {
            "_view_name": "IntSliderView",
            "style": "IPY_MODEL_c82d327172ff42f8a2ac09a01eb7be12",
            "_dom_classes": [],
            "description": "r",
            "step": 1,
            "_model_name": "IntSliderModel",
            "orientation": "horizontal",
            "max": 5,
            "_view_module": "@jupyter-widgets/controls",
            "_model_module_version": "1.5.0",
            "value": 2,
            "_view_count": null,
            "disabled": false,
            "_view_module_version": "1.5.0",
            "min": 0,
            "continuous_update": true,
            "readout_format": "d",
            "description_tooltip": null,
            "readout": true,
            "_model_module": "@jupyter-widgets/controls",
            "layout": "IPY_MODEL_98b29260c4ac4af89099493daea2b7e4"
          }
        },
        "1d5bacd95c3b4ba8ba7b545ae7809002": {
          "model_module": "@jupyter-widgets/controls",
          "model_name": "IntSliderModel",
          "state": {
            "_view_name": "IntSliderView",
            "style": "IPY_MODEL_7277e44c3a144c5b99f44eab01f515f9",
            "_dom_classes": [],
            "description": "w1",
            "step": 1,
            "_model_name": "IntSliderModel",
            "orientation": "horizontal",
            "max": 10,
            "_view_module": "@jupyter-widgets/controls",
            "_model_module_version": "1.5.0",
            "value": 5,
            "_view_count": null,
            "disabled": false,
            "_view_module_version": "1.5.0",
            "min": 0,
            "continuous_update": true,
            "readout_format": "d",
            "description_tooltip": null,
            "readout": true,
            "_model_module": "@jupyter-widgets/controls",
            "layout": "IPY_MODEL_68873e782ec847739a43507137ce1171"
          }
        },
        "0dc062bd253448bebb7809894c78a416": {
          "model_module": "@jupyter-widgets/controls",
          "model_name": "IntSliderModel",
          "state": {
            "_view_name": "IntSliderView",
            "style": "IPY_MODEL_1a8a65a3eeee49569f2a97a58c8955d3",
            "_dom_classes": [],
            "description": "w2",
            "step": 1,
            "_model_name": "IntSliderModel",
            "orientation": "horizontal",
            "max": 10,
            "_view_module": "@jupyter-widgets/controls",
            "_model_module_version": "1.5.0",
            "value": 5,
            "_view_count": null,
            "disabled": false,
            "_view_module_version": "1.5.0",
            "min": 0,
            "continuous_update": true,
            "readout_format": "d",
            "description_tooltip": null,
            "readout": true,
            "_model_module": "@jupyter-widgets/controls",
            "layout": "IPY_MODEL_bc397e7e4c7c4215a7f58bdb059ea688"
          }
        },
        "a570f44b80724a7da6a40d368cc81ebc": {
          "model_module": "@jupyter-widgets/output",
          "model_name": "OutputModel",
          "state": {
            "_view_name": "OutputView",
            "msg_id": "",
            "_dom_classes": [],
            "_model_name": "OutputModel",
            "outputs": [
              {
                "output_type": "stream",
                "metadata": {
                  "tags": []
                },
                "text": "/usr/local/lib/python3.6/dist-packages/sympy/plotting/plot.py:890: MatplotlibDeprecationWarning: \nThe set_smart_bounds function was deprecated in Matplotlib 3.2 and will be removed two minor releases later.\n  self.ax.spines['left'].set_smart_bounds(True)\n/usr/local/lib/python3.6/dist-packages/sympy/plotting/plot.py:891: MatplotlibDeprecationWarning: \nThe set_smart_bounds function was deprecated in Matplotlib 3.2 and will be removed two minor releases later.\n  self.ax.spines['bottom'].set_smart_bounds(False)\n",
                "stream": "stderr"
              },
              {
                "output_type": "display_data",
                "metadata": {
                  "tags": [],
                  "needs_background": "light"
                },
                "image/png": "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\n",
                "text/plain": "<Figure size 432x288 with 1 Axes>"
              },
              {
                "output_type": "stream",
                "metadata": {
                  "tags": []
                },
                "text": "Los valores para donde el desplazamiento es máximo son:\n",
                "stream": "stdout"
              },
              {
                "output_type": "display_data",
                "metadata": {
                  "tags": []
                },
                "image/png": "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\n",
                "text/latex": "$$\\left [ -4.94974746830583, \\quad 4.94974746830583\\right ]$$",
                "text/plain": "[-4.94974746830583, 4.94974746830583]"
              }
            ],
            "_view_module": "@jupyter-widgets/output",
            "_model_module_version": "1.0.0",
            "_view_count": null,
            "_view_module_version": "1.0.0",
            "layout": "IPY_MODEL_0949f078920d405ca53a8b67944a4f48",
            "_model_module": "@jupyter-widgets/output"
          }
        },
        "e1ad9f52b37e4d67a8dce2b407b01b59": {
          "model_module": "@jupyter-widgets/controls",
          "model_name": "SliderStyleModel",
          "state": {
            "_view_name": "StyleView",
            "handle_color": null,
            "_model_name": "SliderStyleModel",
            "description_width": "",
            "_view_module": "@jupyter-widgets/base",
            "_model_module_version": "1.5.0",
            "_view_count": null,
            "_view_module_version": "1.2.0",
            "_model_module": "@jupyter-widgets/controls"
          }
        },
        "891b1a7f68264debb40688f0ddc13524": {
          "model_module": "@jupyter-widgets/base",
          "model_name": "LayoutModel",
          "state": {
            "_view_name": "LayoutView",
            "grid_template_rows": null,
            "right": null,
            "justify_content": null,
            "_view_module": "@jupyter-widgets/base",
            "overflow": null,
            "_model_module_version": "1.2.0",
            "_view_count": null,
            "flex_flow": null,
            "width": null,
            "min_width": null,
            "border": null,
            "align_items": null,
            "bottom": null,
            "_model_module": "@jupyter-widgets/base",
            "top": null,
            "grid_column": null,
            "overflow_y": null,
            "overflow_x": null,
            "grid_auto_flow": null,
            "grid_area": null,
            "grid_template_columns": null,
            "flex": null,
            "_model_name": "LayoutModel",
            "justify_items": null,
            "grid_row": null,
            "max_height": null,
            "align_content": null,
            "visibility": null,
            "align_self": null,
            "height": null,
            "min_height": null,
            "padding": null,
            "grid_auto_rows": null,
            "grid_gap": null,
            "max_width": null,
            "order": null,
            "_view_module_version": "1.2.0",
            "grid_template_areas": null,
            "object_position": null,
            "object_fit": null,
            "grid_auto_columns": null,
            "margin": null,
            "display": null,
            "left": null
          }
        },
        "c82d327172ff42f8a2ac09a01eb7be12": {
          "model_module": "@jupyter-widgets/controls",
          "model_name": "SliderStyleModel",
          "state": {
            "_view_name": "StyleView",
            "handle_color": null,
            "_model_name": "SliderStyleModel",
            "description_width": "",
            "_view_module": "@jupyter-widgets/base",
            "_model_module_version": "1.5.0",
            "_view_count": null,
            "_view_module_version": "1.2.0",
            "_model_module": "@jupyter-widgets/controls"
          }
        },
        "98b29260c4ac4af89099493daea2b7e4": {
          "model_module": "@jupyter-widgets/base",
          "model_name": "LayoutModel",
          "state": {
            "_view_name": "LayoutView",
            "grid_template_rows": null,
            "right": null,
            "justify_content": null,
            "_view_module": "@jupyter-widgets/base",
            "overflow": null,
            "_model_module_version": "1.2.0",
            "_view_count": null,
            "flex_flow": null,
            "width": null,
            "min_width": null,
            "border": null,
            "align_items": null,
            "bottom": null,
            "_model_module": "@jupyter-widgets/base",
            "top": null,
            "grid_column": null,
            "overflow_y": null,
            "overflow_x": null,
            "grid_auto_flow": null,
            "grid_area": null,
            "grid_template_columns": null,
            "flex": null,
            "_model_name": "LayoutModel",
            "justify_items": null,
            "grid_row": null,
            "max_height": null,
            "align_content": null,
            "visibility": null,
            "align_self": null,
            "height": null,
            "min_height": null,
            "padding": null,
            "grid_auto_rows": null,
            "grid_gap": null,
            "max_width": null,
            "order": null,
            "_view_module_version": "1.2.0",
            "grid_template_areas": null,
            "object_position": null,
            "object_fit": null,
            "grid_auto_columns": null,
            "margin": null,
            "display": null,
            "left": null
          }
        },
        "7277e44c3a144c5b99f44eab01f515f9": {
          "model_module": "@jupyter-widgets/controls",
          "model_name": "SliderStyleModel",
          "state": {
            "_view_name": "StyleView",
            "handle_color": null,
            "_model_name": "SliderStyleModel",
            "description_width": "",
            "_view_module": "@jupyter-widgets/base",
            "_model_module_version": "1.5.0",
            "_view_count": null,
            "_view_module_version": "1.2.0",
            "_model_module": "@jupyter-widgets/controls"
          }
        },
        "68873e782ec847739a43507137ce1171": {
          "model_module": "@jupyter-widgets/base",
          "model_name": "LayoutModel",
          "state": {
            "_view_name": "LayoutView",
            "grid_template_rows": null,
            "right": null,
            "justify_content": null,
            "_view_module": "@jupyter-widgets/base",
            "overflow": null,
            "_model_module_version": "1.2.0",
            "_view_count": null,
            "flex_flow": null,
            "width": null,
            "min_width": null,
            "border": null,
            "align_items": null,
            "bottom": null,
            "_model_module": "@jupyter-widgets/base",
            "top": null,
            "grid_column": null,
            "overflow_y": null,
            "overflow_x": null,
            "grid_auto_flow": null,
            "grid_area": null,
            "grid_template_columns": null,
            "flex": null,
            "_model_name": "LayoutModel",
            "justify_items": null,
            "grid_row": null,
            "max_height": null,
            "align_content": null,
            "visibility": null,
            "align_self": null,
            "height": null,
            "min_height": null,
            "padding": null,
            "grid_auto_rows": null,
            "grid_gap": null,
            "max_width": null,
            "order": null,
            "_view_module_version": "1.2.0",
            "grid_template_areas": null,
            "object_position": null,
            "object_fit": null,
            "grid_auto_columns": null,
            "margin": null,
            "display": null,
            "left": null
          }
        },
        "1a8a65a3eeee49569f2a97a58c8955d3": {
          "model_module": "@jupyter-widgets/controls",
          "model_name": "SliderStyleModel",
          "state": {
            "_view_name": "StyleView",
            "handle_color": null,
            "_model_name": "SliderStyleModel",
            "description_width": "",
            "_view_module": "@jupyter-widgets/base",
            "_model_module_version": "1.5.0",
            "_view_count": null,
            "_view_module_version": "1.2.0",
            "_model_module": "@jupyter-widgets/controls"
          }
        },
        "bc397e7e4c7c4215a7f58bdb059ea688": {
          "model_module": "@jupyter-widgets/base",
          "model_name": "LayoutModel",
          "state": {
            "_view_name": "LayoutView",
            "grid_template_rows": null,
            "right": null,
            "justify_content": null,
            "_view_module": "@jupyter-widgets/base",
            "overflow": null,
            "_model_module_version": "1.2.0",
            "_view_count": null,
            "flex_flow": null,
            "width": null,
            "min_width": null,
            "border": null,
            "align_items": null,
            "bottom": null,
            "_model_module": "@jupyter-widgets/base",
            "top": null,
            "grid_column": null,
            "overflow_y": null,
            "overflow_x": null,
            "grid_auto_flow": null,
            "grid_area": null,
            "grid_template_columns": null,
            "flex": null,
            "_model_name": "LayoutModel",
            "justify_items": null,
            "grid_row": null,
            "max_height": null,
            "align_content": null,
            "visibility": null,
            "align_self": null,
            "height": null,
            "min_height": null,
            "padding": null,
            "grid_auto_rows": null,
            "grid_gap": null,
            "max_width": null,
            "order": null,
            "_view_module_version": "1.2.0",
            "grid_template_areas": null,
            "object_position": null,
            "object_fit": null,
            "grid_auto_columns": null,
            "margin": null,
            "display": null,
            "left": null
          }
        },
        "0949f078920d405ca53a8b67944a4f48": {
          "model_module": "@jupyter-widgets/base",
          "model_name": "LayoutModel",
          "state": {
            "_view_name": "LayoutView",
            "grid_template_rows": null,
            "right": null,
            "justify_content": null,
            "_view_module": "@jupyter-widgets/base",
            "overflow": null,
            "_model_module_version": "1.2.0",
            "_view_count": null,
            "flex_flow": null,
            "width": null,
            "min_width": null,
            "border": null,
            "align_items": null,
            "bottom": null,
            "_model_module": "@jupyter-widgets/base",
            "top": null,
            "grid_column": null,
            "overflow_y": null,
            "overflow_x": null,
            "grid_auto_flow": null,
            "grid_area": null,
            "grid_template_columns": null,
            "flex": null,
            "_model_name": "LayoutModel",
            "justify_items": null,
            "grid_row": null,
            "max_height": null,
            "align_content": null,
            "visibility": null,
            "align_self": null,
            "height": null,
            "min_height": null,
            "padding": null,
            "grid_auto_rows": null,
            "grid_gap": null,
            "max_width": null,
            "order": null,
            "_view_module_version": "1.2.0",
            "grid_template_areas": null,
            "object_position": null,
            "object_fit": null,
            "grid_auto_columns": null,
            "margin": null,
            "display": null,
            "left": null
          }
        },
        "d3071fd6194f49dcbbe20975c3ba39ab": {
          "model_module": "@jupyter-widgets/controls",
          "model_name": "VBoxModel",
          "state": {
            "_view_name": "VBoxView",
            "_dom_classes": [
              "widget-interact"
            ],
            "_model_name": "VBoxModel",
            "_view_module": "@jupyter-widgets/controls",
            "_model_module_version": "1.5.0",
            "_view_count": null,
            "_view_module_version": "1.5.0",
            "box_style": "",
            "layout": "IPY_MODEL_2ad287dddd774868ac213927b9d2209c",
            "_model_module": "@jupyter-widgets/controls",
            "children": [
              "IPY_MODEL_b2b3cfb83722423780d362b9a5667830",
              "IPY_MODEL_e634a014ba5f4045a8d2f105dc414835",
              "IPY_MODEL_69107606847243c183081bc96b8b8e0f",
              "IPY_MODEL_dfde0f2029e3406081c31ca5af9b193b",
              "IPY_MODEL_936b19f1b2ba4d41a8d28d6dd337f200"
            ]
          }
        },
        "2ad287dddd774868ac213927b9d2209c": {
          "model_module": "@jupyter-widgets/base",
          "model_name": "LayoutModel",
          "state": {
            "_view_name": "LayoutView",
            "grid_template_rows": null,
            "right": null,
            "justify_content": null,
            "_view_module": "@jupyter-widgets/base",
            "overflow": null,
            "_model_module_version": "1.2.0",
            "_view_count": null,
            "flex_flow": null,
            "width": null,
            "min_width": null,
            "border": null,
            "align_items": null,
            "bottom": null,
            "_model_module": "@jupyter-widgets/base",
            "top": null,
            "grid_column": null,
            "overflow_y": null,
            "overflow_x": null,
            "grid_auto_flow": null,
            "grid_area": null,
            "grid_template_columns": null,
            "flex": null,
            "_model_name": "LayoutModel",
            "justify_items": null,
            "grid_row": null,
            "max_height": null,
            "align_content": null,
            "visibility": null,
            "align_self": null,
            "height": null,
            "min_height": null,
            "padding": null,
            "grid_auto_rows": null,
            "grid_gap": null,
            "max_width": null,
            "order": null,
            "_view_module_version": "1.2.0",
            "grid_template_areas": null,
            "object_position": null,
            "object_fit": null,
            "grid_auto_columns": null,
            "margin": null,
            "display": null,
            "left": null
          }
        },
        "b2b3cfb83722423780d362b9a5667830": {
          "model_module": "@jupyter-widgets/controls",
          "model_name": "IntSliderModel",
          "state": {
            "_view_name": "IntSliderView",
            "style": "IPY_MODEL_c434b4947a3f42afb307838d1643bdde",
            "_dom_classes": [],
            "description": "m1",
            "step": 1,
            "_model_name": "IntSliderModel",
            "orientation": "horizontal",
            "max": 5,
            "_view_module": "@jupyter-widgets/controls",
            "_model_module_version": "1.5.0",
            "value": 2,
            "_view_count": null,
            "disabled": false,
            "_view_module_version": "1.5.0",
            "min": 0,
            "continuous_update": true,
            "readout_format": "d",
            "description_tooltip": null,
            "readout": true,
            "_model_module": "@jupyter-widgets/controls",
            "layout": "IPY_MODEL_8549970c704245888b65c3e328d9fb3c"
          }
        },
        "e634a014ba5f4045a8d2f105dc414835": {
          "model_module": "@jupyter-widgets/controls",
          "model_name": "IntSliderModel",
          "state": {
            "_view_name": "IntSliderView",
            "style": "IPY_MODEL_900d040f8260472cbb3494e41fd7a65c",
            "_dom_classes": [],
            "description": "r",
            "step": 1,
            "_model_name": "IntSliderModel",
            "orientation": "horizontal",
            "max": 5,
            "_view_module": "@jupyter-widgets/controls",
            "_model_module_version": "1.5.0",
            "value": 2,
            "_view_count": null,
            "disabled": false,
            "_view_module_version": "1.5.0",
            "min": 0,
            "continuous_update": true,
            "readout_format": "d",
            "description_tooltip": null,
            "readout": true,
            "_model_module": "@jupyter-widgets/controls",
            "layout": "IPY_MODEL_ada4b1888a2148cc88ee427d3ed80ac5"
          }
        },
        "69107606847243c183081bc96b8b8e0f": {
          "model_module": "@jupyter-widgets/controls",
          "model_name": "FloatSliderModel",
          "state": {
            "_view_name": "FloatSliderView",
            "style": "IPY_MODEL_52843b61bde44a73a8a82452a223aa34",
            "_dom_classes": [],
            "description": "w1",
            "step": 1,
            "_model_name": "FloatSliderModel",
            "orientation": "horizontal",
            "max": 10,
            "_view_module": "@jupyter-widgets/controls",
            "_model_module_version": "1.5.0",
            "value": 9.1,
            "_view_count": null,
            "disabled": false,
            "_view_module_version": "1.5.0",
            "min": 0.1,
            "continuous_update": true,
            "readout_format": ".2f",
            "description_tooltip": null,
            "readout": true,
            "_model_module": "@jupyter-widgets/controls",
            "layout": "IPY_MODEL_e1eda9c379544f3fa54648709c917ca1"
          }
        },
        "dfde0f2029e3406081c31ca5af9b193b": {
          "model_module": "@jupyter-widgets/controls",
          "model_name": "IntSliderModel",
          "state": {
            "_view_name": "IntSliderView",
            "style": "IPY_MODEL_03094cad4f974b44b3eab4fcebf957df",
            "_dom_classes": [],
            "description": "w2",
            "step": 1,
            "_model_name": "IntSliderModel",
            "orientation": "horizontal",
            "max": 10,
            "_view_module": "@jupyter-widgets/controls",
            "_model_module_version": "1.5.0",
            "value": 5,
            "_view_count": null,
            "disabled": false,
            "_view_module_version": "1.5.0",
            "min": 0,
            "continuous_update": true,
            "readout_format": "d",
            "description_tooltip": null,
            "readout": true,
            "_model_module": "@jupyter-widgets/controls",
            "layout": "IPY_MODEL_0eb0b874cd55453b8ff56121b9190ce3"
          }
        },
        "936b19f1b2ba4d41a8d28d6dd337f200": {
          "model_module": "@jupyter-widgets/output",
          "model_name": "OutputModel",
          "state": {
            "_view_name": "OutputView",
            "msg_id": "",
            "_dom_classes": [],
            "_model_name": "OutputModel",
            "outputs": [
              {
                "output_type": "display_data",
                "metadata": {
                  "tags": [],
                  "needs_background": "light"
                },
                "image/png": "iVBORw0KGgoAAAANSUhEUgAAAW4AAAELCAYAAAD5m2xmAAAABHNCSVQICAgIfAhkiAAAAAlwSFlzAAALEgAACxIB0t1+/AAAADh0RVh0U29mdHdhcmUAbWF0cGxvdGxpYiB2ZXJzaW9uMy4yLjIsIGh0dHA6Ly9tYXRwbG90bGliLm9yZy+WH4yJAAAbl0lEQVR4nO3de3hU1aH38d8iIUCE4AUUTNoTgnhpAS9PEDgVXi/nEYpaT5VCfO15a9+2OT6nvs8jaGss9bRibSMUfHrRaipeK4lirdAGMREF1Ao5oeUqoIEoTUAIKBflEhLW+8cMQwYmsydz3Yt+P8/D09mz1l577b3X/nWczN7LWGsFAHBHt0x3AADQNQQ3ADiG4AYAxxDcAOAYghsAHENwA4BjCG4AcAzBDd8wxjxpjNlpjFnXSbkxxvzaGNNgjFljjLks3X0E/IDghp88LWl8lPKvShoS/Fcq6Xdp6BPgOwQ3ksYY84wxJife9a21yyR9EqXKjZKetQHLJZ1ujBkY7/YAVyUtuJ98u9EWllXbvQeOWEn2npfW2JE/f91KspLs//79cvuNx/4aWv7XXyy2d89bbSXZo0etLSyrtr96/QMryW7Yvs8WllXbV9dut5Lsq2u328Kyarvx431Wkp1d+74tLKsOtfWDeavtv/5icWj564++Y/9jzorQ8mUP1Nr7XllnJdmd+w7ZwrJq+4flH1lJdtU/9tjCsmr75sadVpJ9aWWTLSyrtlt3H7CS7G8Wf2ALy6ptW/tRK8l+95l6+9VfvRVq+2u/fdt++6m60PKX/nuR/dlf3rOSbMv+w7awrNo+F9zWXxt22cKyart8y24ryc5dsdUWllXbHfsOWUl2+p/fs0N/8lqordufW2nHPbwstHz1rCX2+3P/FloeMm2hnbFoo5Vkt+4+YAvLqu1LK5usJLtk005bWFZt/7b1UyvJPv1O4Px88nlraFvDOmzrW0/W2Rt/+3Zo+X/NfNPeWfV3K8m2th21hWXV9rdvBM7PlpbPbGFZtZ2/qtlKsovWBc7Pf/3owf9z2WWXHZ7155W2sKza7jkQ2Nb/ffxNe8EPXgy1fUvFcjvpsXfDzs+PX1lrJdn17zc0/ss9f/lyxbLNVpJdHTw/izfssNddd13p7BffmFtYVm3f27bPXn311eeXPfvmtsKyatvadjQ07kb9fLGtqKiwxcXF9rzbf2fPPO/S0LaKf/a6/dGfAtva9Vng/Dz77ocxjYUZizbaIdMWhp2fax9eGlq+8bdv29s6jIWL7ltkH6wOjIUdwXE3d8VWK8m+uTFwfv4ePD9eY+G7z9TbCR3G3ZgZb9gpL6wKLZ//41dt+auBsfDhrs9tYVm1fflvgbHw183h4+6Jt7bYwrJqu+9Q4Fq975V19rIHakNt/cecFfbfH3knbFtTg9s60h4YC79ZHBgLDTsDY2HB6m3BsfCxLSyrtuu37bWS7GNLN9vCsmp7sLXdSrJ3vbjafqX8jVDbkx9/105+/PhYuHR6TehaPdjabgvLqu1jSwNjYV3zXltYVm1fW/+xlWTnr2q2hWXVdkvLZ4FcqNkUlgtTXlhlx854M7T81V+9Zb/7TH1oeehPXrMPnHitBsfCyo8+tYVl1Xbp+y0Rx8Lsmk120L3Ht/Vfz6+0/zZ7adi2vvfs8W1deN+r9ucLN1hJds+BVltYVm2feqfxWHmXpfQTt5HxKPdY36tCArzajlaeaL+jFXu2ncpyj44bj/I77rhD999/vx555BFJUvXChbryyiv1zjvvqFfPnh798tp21OKTyktLS1VfX6+LL75Ypu2Qx7a71nb4uokds2jlCZ/rRMZhAtdHoO34L95M9tv7GohS5tW0R3lX8FUJkmrs2LG66KKLJEl3Tb1L06dP1/XX36DTTuudcNv5+fnavXtXaLmpqUl5eXkJtwu4huBG0jz44IMaNmyYevToIUkaM3aMfv3rX6u9vS0p7X/ta1/Tm28ukSStXbtGffv2VZ8+fZLSNuASghtJc8EFF2jjxo264YYbJEm/r6jQ6NGjVV1drba2I57r33LLLbrm6mskSQ888DPNmTNHL7/8cqh8woQJGjDgHEnS/fdP16OPPpqCvQD8j+BG0kycOFG9evUKe++uu+7S5Zdfrh07dniuX1lZqYaGBknSfff9WN/5znd00003hcqNMfre90olSS+99JKKi4uT2HvAHdmZ7gBOfQMGDNSA/XxGAJKFqwlpkZXFZwQgWQhuAHAMwQ0AjiG4AcAxBDcAOIbgBgDHENwA4BiCGwAcQ3ADgGMIbgBwDMENAI4huAHAMQQ3ADiG4AYAxxDcAOAYghsAHENwA4BjCG4AcAzBDQCOIbgBwDEENwA4huAGAMcQ3ADgGIIbABxDcAOAYwhuAHAMwQ0AjiG4AcAxBDcAOIbgBgDHENwATmIy3QFERXADgGMIbgBwDMENX6mtrZUklZeXq7y8/KTyXbtaJEmTSyZr+PDh2vT++2ntH+AHBDd8o729XVOnTpUk/eDuH6iyslKNjY1hdebNe0mS9ELVC6qqqtKfFyxIez+BTCO44Rt1dXUaPHiwJCkrO0slJSVaunRpWB3T4a9me/fuVZ8+eensIuALBHeSWZvpHrirublZ+fn5oeWCggK1tLSE1Zk8uUSSdO2112rChAm6/obr09rHZLGKPFCijZ+ORZHqddZmLG0jMfEc20TOB8GdAsbwY6pUefvttyRJNTU1WrhwoV6aNy9ivYqKChUXF2v16tVqbW1NZxe75NhI8RoyEctNxJcRqjEe0yHWyz4Z54Pghm/k5+erubk5tNzU1KT+/fuH1Xn99ddDr0ePHq22traIbZWWlqq+vl4XX3yxcnJyUtNhIEMIbvjGiBEj1LC5QZLU3tauqqoqjR07NqxOv37Hg3zDhg060klwA6cyghu+kZ2drVmzZkmSZsycqUmTJqmoqEiStGL5CknSt799myRp0qRv6JZbbtHNN9+ckb4CmURww1fGXTtOknTvvWWaNm1a6P2Ro0ZKkgoKviBJevHFeVq1apWGnHde+jsJZBjBDQCOIbgBwDEENwA4huAGAMcQ3ADgmIwFd6S7Pb1u2U0H63kf6snlnr32aDPmW18j3uacHJk/8uG8jkm0sdKxLNL5jLXteNbtrB9dldi6cazjNUbj60ps2/YqT2DjsT4GIJ7j7TmOUnjQMvqJ+9gtoq7dIW5ivdU4ntuYPbd9fKVk38rsh9OQ6DFLpNxr/+M6X11fJUkrxz4+PI9ZCkdG1POR8P53vTzmTXp0LtXXEl+VAIBjCG4AcAzBDQCOIbgBwDEENwA4huAGAMcQ3ADgGIIbABxDcAOAYwhuAHAMwQ0AjiG4AcAxBDcAOIbgBgDHENwA4BiCGwAck7LgjjSjRKwzQnhPQhN9FppI64dmNemsSa+ZMjy6FAvvuXWSP2VGMmbhiLdfydl26raRaP/iGeP+mOUp/vLOyo7PoBO5wvHrL/nXWfQtd6gXxwk/tk4864a3k9DqJ0npJ+6wmWLimhKi85W82g6fKSZSy8ZjC523nSiTyDQsydhGiqViy16zsCQ200z8a4etGqUdP8wudKJoY8Rr/Bwr76xaaHarKGWdth29OHq/vdb1KD++jRgrdkUS2+SrEgBwDMENAI4huAHAMQQ3ADiG4AYAxxDcAOAYghsAHENwA4BjCG4AcAzBDQCOyc50B4COamtrJUkPPfSQPn23SONvvT1ivZtvullZ+7frzDG3SqdfnM4uAhnHJ274Rnt7u6ZMmSpJuvvuu1VZWanGxsawOtu3bZckPf3001q/fr0mTJiQ9n4CmUZwwzfq6uo0eHCRJCkrK0slJSVatnRpWJ3a2hpJUp+8PpKk3qedlt5OAj5AcCeZHx7b6arm5mYV5BeElgsKCrSzpSW8zrZtkqTbbrtNo0aN0gcffBCxrYqKChUXF2vNmjVqbW1NXafj1OnjUaOMn46PFo24vgOPlD1VxfPY1kTOBsGdAn58hOep4mh7uyTpiSeeUGVlpV6Z/0rEeqWlpaqvr9fw4cOVk5OTzi52SbTHn4bVi/heh0cXR3tSMAMyLbwePdyhYsIIbvhGfn6+mpqbQstNTU06u3//sDpn9esnScrOztagQYPU76x+ae0j4AcEN3xjxIgRamjYLCnwh8qqqiqNGTs2rM7Iy0eGXu/atUu7du9Kax8BPyC44RvZ2dmaPXuWJGnmzJmaNGmSiooCf6xcvmK5JOnSSy+RFPg54FVXXaVx48ZnprNABhHc8JVx48ZJksrKyjRt2rTQ+6NGjgq8CH5h+8eX/6i1a9dq+LBhae8jkGkENwA4huAGAMcQ3ADgGIIbABxDcAOAYwhuAHAMwQ0AjiG4AcAxBDcAOIbgBgDHENwA4BiCGwAcQ3ADgGMIbgBwDMENAI5JenDHOiFppMk1vSbcjGdCzq7y2kRc/fbcZpQJYjuURZwf1nq30em6Ye2cXCPWY+G9/5Ha7jjxbfzb9iqLXM3jWNnOa3VlCCYyXhNbt+srh42FSOcrlRdfCic5jnlspmT3UnfMkhbc8UxIemxyTeOxciYmO4158tUoFeOZANarD6bTBc/uhJVHbLvDe9Ga6ex8xXrMom3ba8LVeI5ZrOt3tm6sfevyBlO3amD9BOaujXGIJyyuYxp7410uT+SYxdNOvPiqBAAcQ3ADgGMIbgBwDMENAI4huAHAMQQ3ADiG4AYAxxDcAOAYghsAHENwA4BjCG4AcAzBDQCOIbgBwDEENwA4huAGAMcQ3ADgGIIbABxDcMNXamtrJEkzHnpI5eXlndZbvHixjDFq3tacrq4BvkFwwzfa29t155QpkqS77rpblZWVamxsjFi3snKuRo4cmc7uAb5BcMM36urqNLhosCQpKztLJSUlWrZ0acS6t932bfXs2TOd3QN8g+BOsnTMRH+qam5uVkFBQWi5oKBAO1tawups2bJFknTFFVektW/J1tk4SWh294QrIF7xzERvEzjZBHcqZGBW+n8GR48e1ZNPPhlT3YqKChUXF2vtmrVqbW1Ncc/id2yWc8/Z6T1mJI82WzrDMT1iniE+CSeE4IZv5Ofnq6mpKbTc1NSks/v3Dy3v379fH330kSTp+uuu0/Lly/WHPzwfsa3S0lLV19dr2PBhysnJSW3HgTQjuOEbI0aMUMPmBklSe1u7qqqqNGbs2FB537599dxzz0mS/lJdrVGjRumb37w1I30FMonghm9kZ2fr4dmzJUm/nPVLTZo0SUVFRZKk5SuWZ7JrgK8Q3PCVcePGS5LuueceTZs2LfT+qJGjTqq7ZMkS5Z+bn7a+AX5BcAOAYwhuAHAMwQ0AjiG4AcAxBDcAOIbgBgDHENwA4BiCGwAcQ3ADgGNSFtyRnlgY60MMvR6RGKm04/ailcf7OM1kPK41HduI0GriLcTZRDJ2x+vRl4lsI55HcYatH8cY98Njfz2vryjF8a4bej+Ba8Cr7VQc2xi7HXM7yZLST9wm7HXXn2UY7fGHXm2HlUd5JKb34zST/1DMWPcroW0kqZ2wNmN+bGUKtp7C85SWY+7DZ6tG61LM59pjfa/H0UZeN3oFE6We57pJ2q94xJOBneGrEgBwDMENAI4huAHAMQQ3ADiG4AYAxxDcAOAYghsAHENwA4BjCG4AcAzBDQCOIbgBwDEENwA4huAGAMcQ3ADgGIIbABxDcAOAYzIW3JFm0vDB5CDeM3R0fZWkzXwTaTaYRGdx8atEZjPpuGrEWWpiPR8R1429Y5k6M/Fs1/OYxNWTGLedwIw8nm3HeK7j3US08ZDK2Y4y+ok7FROlJEu0mTQ6zmQRfRaR5MzG0dk6yT58fjgdic9IFP8x72yGkmPbjOt8JXBUUzKTUBzbSWUvop6PBDfsdewjlcZ6vrzHaUzNxI2vSgDAMQQ3ADiG4AYAxxDcAOAYghsAHENwA4BjCG74Sk1NjSRp5swZKi8vP6l8/vxXJEmTJ0/WNddcoz179qS1f4AfENzwjfb2dt155xRJ0tSpU1VZWanGxsawOkVFRZKkF154QRMnTlRNzWtp7yeQaQQ3fKOurk6DBweCOSsrWyUlJVq2bFlYnWHDhodejxo1Snv37ktrHwE/ILiT7NS8AT09mpubVVBQEFouKChQS0tLp/XnzJmj888fErGsoqJCxcXFWrdurY60tia9r4nqbJxEGz8db6GO+PgDj3usGZupk8rb2yMhuFMgkducEZuFCxeqvr5eX/nKFRHLS0tLVV9fr6FDh6l7Tk6aexe7Y7dGe9+efXJ5x3ei3zrOePSTZJwNghu+kZ+fr6amptByU1OT+vfvH7HunDlztGDBAmVnZ6ere4BvENzwjREjRqhh82ZJUnt7m6qqqjRmzNiwOlu2bJEkPfzwwzr77LPT3kfADwhu+EZ2drYenj1bkjRr1mxNmjRJRUWDJEkrli+XJD391FOSpB/ec48uueQSPf/885npLJBBBDd8Zfz48ZKkH/7wh5o2bVro/ZGjRkmSpj/wgCSpqrJSq1at0q233pr+TgIZRnADgGMIbgBh0v3TNnQdwQ3gJPyk1d8IbgBwDMENAI4huAHAMQQ3ADiG4AYAxxDcAOAYghsAHENwA4BjCG4AcAzBDQCOIbgBwDEENwA4huAGAMcQ3ADgGIIbABxDcAOAYwhuAHAMwQ0AjiG4AcAxBDcAOIbgBgDHENwA4BiCGwAcQ3ADgGMIbgBwDMENAI4huAHAMQQ3ADiG4AYAxxDcAOAYghsAHENww1dqamokSTNnzlB5eflJ5UeOHJEk3XjjjRo5cqT27Pk0rf0D/IDghm+0t7frzjunSJKmTp2qyspKNTY2htWpra2VJM2fP19TpkwJBT3wz4Tghm/U1dVp8OAiSVJWVrZKSkq0bNmy8DorVoReT5w4UZs3b0lrHwE/yE5WQ2f17qHcnCx995l6ZXUzavr0oC4Y0CdUXtgvV4vWfazJj78rSTp05KjOPb1XqHxYfl8tWNWsFVt262Bru3JzstSnZ6B7eT27KzcnS2V/XKOe3bO0Y98hDc3vG1o3/4xeOnikPdR286cHdEnBwFD5hQPytOz9Fk1+/F0daT+q3JwsnZGbI0nq1T1LQ/PzNKtmkyqWbdEnn7dqaH6eunczkqT+wf365hMrZIz04e7PNbrorFDbg/v31tsNLaFt52QZDcjrIUnK6mY0ND9Pzy3/SAvXbtdnh9o0ND9PvbpnSZLOyM1Rbk6W7pj7N3XP6qZtew7qooF5oba/eGauVjTuDrW99+ARFZxx/Jh9+dw8LVr7sVZt3aPDbYFjdnpud0lS757Zys3J0k8XvKfcnCzt+uywhubnqVtwvwb27Skjhdpu3PW5xp7fP9T2+ef00f98+IkmP/6ujlqr3Jws9esd2K+c7G4amp+n3y3ZrMq6rdp78IiG5uepR3Zgv848LbBfpc8eGwsHdOGA4/s1qN9pqll/fCy0H7Ua2LeXmps36gsFBeqRn6d59f/Q0SMX6ZP9nyu3V5b69AiMhU92NKvXhd30oz+tVa/uWepx/hW68Jzc42Ph9J5qbTs+Fpo+PaAe2cc/n1w4IE9vN+wKGwtnnhYcCzmB/ZpVu0m/f+vksXB2Xk/16p4Vavuj3QdUXHhGTGOhe7dA28/89UP9efU27Qses57dA307PTcwxv9f2Fg4fv188axc1QXPhyQdaG1X/glj4bX1O7Smaa8OHwmMhb69AmMhNycwxn++cIN698hWy/7gWDDHx8JRa8PGwlUXnB11LPTvEz4WHl2yWXNXnDwW+gWvn9ueqlM3ExgLHcf4iWPhqLUa2LenJMkocP38cWWTlr3fclIu9O0VOGZ3z1utHtndArlw7vG2C87opc8Pt4Xa3rn/sMYM6Rcq/9K5eXpj4w5t2L6vw1g4dsyyNTQ/TzMXbdJjSzbr0+BYyMkKnK+z+/RUbk6WSiqWRxwL5/XvreVbdkfNhcq6rap9b4de+M/R6ipjre3yShEbMmadpENJacyf+knalelOpIhf9u0MSXmSPgounympt6StHep8WdL7ko4El4dK2iip7YS2+kk69v9E3SWtSUF//cIv5y9VTvX962mtHdqVFZL2iVvSIWttcRLb8xVjTP2pun9+2TdjzGhJP7XWjgsu3ytJ1tpfdKjzWrDOu8aYbEkfS7rURvkE4pf9SxX2z23GmPqursN33PCT/5E0xBgzyBiTI6lE0oIT6iyQ9K3g64mS3ogW2sCpKJmfuIGEWGvbjDF3SHpNUpakJ621640x0yXVW2sXSJoj6TljTIOkTxQId+CfSjKDuyKJbfnRqbx/vtk3a+1CSQtPeO+/O7w+JOkbXWzWN/uXIuyf27q8f0n74yQAID34jhsAHJNQcBtjvmGMWW+MOWqMKe7wfqEx5qAxZlXw32OJdzX9Otu/YNm9xpgGY8wmY8y4TPUxWYwxPzXGNHc4ZxMy3adkMMaMD56jBmNMWab7k2zGmA+NMWuD56zLv07wG2PMk8aYncGfFx9770xjTK0x5oPg/54RrQ2/6mTf4rruEv3EvU7STZKWRSjbbK29JPjv9gS3kykR988Y8yUF/ij2ZUnjJT1qjMlKf/eS7uEO52yhd3V/C56TRyR9VdKXJN0SPHenmquC5+xU+Mnc0wpcUx2VSVpsrR0iaXFw2UVP6+R9k+K47hIKbmvtBmvtpkTa8LMo+3ejpCpr7WFrbaOkBkmXp7d3iMHlkhqstVusta2SqhQ4d/Apa+0yBX4t1NGNkp4Jvn5G0r+ntVNJ0sm+xSWV33EPMsb83Riz1BgzJoXbyYR8Sf/osNwUfM91dxhj1gT/k87J/xw9wal6njqykmqMMSuNMaWZ7kyKnGOt3R58/bGkczLZmRTo8nXnGdzGmNeNMesi/Iv2yWW7pC9aay+VNFXSXGNMXpT6GRPn/jnJY19/J2mwpEsUOH+zMtpZxOoKa+1lCnwd9H1jzNhMdyiVgjdbnUo/hYvruvP8Hbe19t+62hNr7WFJh4OvVxpjNks6X5Lv/ngSz/5Japb0hQ7LBcH3fC3WfTXG/F7SX1LcnXRw8jx1hbW2Ofi/O40xf1Lg66FIf3Ny2Q5jzEBr7XZjzEBJOzPdoWSx1u449ror111KvioxxvQ/9sc6Y0yRpCGSTqXnby6QVGKM6WGMGaTA/tVluE8JCV4Qx3xdgT/Mui6WW+idZYw5zRjT59hrSdfq1DhvJ+r4mINvSZqfwb4kVbzXXUJ3Thpjvi7pNwo8ha3aGLMq+ICgsZKmG2OOSDoq6XZrbVK+lE+nzvYveBv2i5LeU+CpdN+31rZnsq9JMMMYc4kC/xn6oaT/zGx3EtfZLfQZ7lYynSPpTybweNZsSXOttYsy26XEGGMqJV0pqZ8xpknSTySVS3rRGPMdBZ4cOSlzPYxfJ/t2ZTzXHXdOAoBjuHMSABxDcAOAYwhuAHAMwQ0AjiG4AcAxzIADAGlkjDlLgYdlSdIASe2SWoLLlwefqxO9DX4OCACZYYz5qaTPrLW/7Mp6fFUCAI4huAHAMQQ3ADiG4AYAxxDcAOAYghsAHMPPAQHAMXziBgDHENwA4BiCGwAcQ3ADgGMIbgBwDMENAI4huAHAMQQ3ADjm/wN9MIuQyHVCvwAAAABJRU5ErkJggg==\n",
                "text/plain": "<Figure size 432x288 with 1 Axes>"
              },
              {
                "output_type": "stream",
                "metadata": {
                  "tags": []
                },
                "text": "El valor máximo de la amplitud sera en w1=4.94974746830583\n",
                "stream": "stdout"
              }
            ],
            "_view_module": "@jupyter-widgets/output",
            "_model_module_version": "1.0.0",
            "_view_count": null,
            "_view_module_version": "1.0.0",
            "layout": "IPY_MODEL_0098f75d19474d4a9812b208e1d491c1",
            "_model_module": "@jupyter-widgets/output"
          }
        },
        "c434b4947a3f42afb307838d1643bdde": {
          "model_module": "@jupyter-widgets/controls",
          "model_name": "SliderStyleModel",
          "state": {
            "_view_name": "StyleView",
            "handle_color": null,
            "_model_name": "SliderStyleModel",
            "description_width": "",
            "_view_module": "@jupyter-widgets/base",
            "_model_module_version": "1.5.0",
            "_view_count": null,
            "_view_module_version": "1.2.0",
            "_model_module": "@jupyter-widgets/controls"
          }
        },
        "8549970c704245888b65c3e328d9fb3c": {
          "model_module": "@jupyter-widgets/base",
          "model_name": "LayoutModel",
          "state": {
            "_view_name": "LayoutView",
            "grid_template_rows": null,
            "right": null,
            "justify_content": null,
            "_view_module": "@jupyter-widgets/base",
            "overflow": null,
            "_model_module_version": "1.2.0",
            "_view_count": null,
            "flex_flow": null,
            "width": null,
            "min_width": null,
            "border": null,
            "align_items": null,
            "bottom": null,
            "_model_module": "@jupyter-widgets/base",
            "top": null,
            "grid_column": null,
            "overflow_y": null,
            "overflow_x": null,
            "grid_auto_flow": null,
            "grid_area": null,
            "grid_template_columns": null,
            "flex": null,
            "_model_name": "LayoutModel",
            "justify_items": null,
            "grid_row": null,
            "max_height": null,
            "align_content": null,
            "visibility": null,
            "align_self": null,
            "height": null,
            "min_height": null,
            "padding": null,
            "grid_auto_rows": null,
            "grid_gap": null,
            "max_width": null,
            "order": null,
            "_view_module_version": "1.2.0",
            "grid_template_areas": null,
            "object_position": null,
            "object_fit": null,
            "grid_auto_columns": null,
            "margin": null,
            "display": null,
            "left": null
          }
        },
        "900d040f8260472cbb3494e41fd7a65c": {
          "model_module": "@jupyter-widgets/controls",
          "model_name": "SliderStyleModel",
          "state": {
            "_view_name": "StyleView",
            "handle_color": null,
            "_model_name": "SliderStyleModel",
            "description_width": "",
            "_view_module": "@jupyter-widgets/base",
            "_model_module_version": "1.5.0",
            "_view_count": null,
            "_view_module_version": "1.2.0",
            "_model_module": "@jupyter-widgets/controls"
          }
        },
        "ada4b1888a2148cc88ee427d3ed80ac5": {
          "model_module": "@jupyter-widgets/base",
          "model_name": "LayoutModel",
          "state": {
            "_view_name": "LayoutView",
            "grid_template_rows": null,
            "right": null,
            "justify_content": null,
            "_view_module": "@jupyter-widgets/base",
            "overflow": null,
            "_model_module_version": "1.2.0",
            "_view_count": null,
            "flex_flow": null,
            "width": null,
            "min_width": null,
            "border": null,
            "align_items": null,
            "bottom": null,
            "_model_module": "@jupyter-widgets/base",
            "top": null,
            "grid_column": null,
            "overflow_y": null,
            "overflow_x": null,
            "grid_auto_flow": null,
            "grid_area": null,
            "grid_template_columns": null,
            "flex": null,
            "_model_name": "LayoutModel",
            "justify_items": null,
            "grid_row": null,
            "max_height": null,
            "align_content": null,
            "visibility": null,
            "align_self": null,
            "height": null,
            "min_height": null,
            "padding": null,
            "grid_auto_rows": null,
            "grid_gap": null,
            "max_width": null,
            "order": null,
            "_view_module_version": "1.2.0",
            "grid_template_areas": null,
            "object_position": null,
            "object_fit": null,
            "grid_auto_columns": null,
            "margin": null,
            "display": null,
            "left": null
          }
        },
        "52843b61bde44a73a8a82452a223aa34": {
          "model_module": "@jupyter-widgets/controls",
          "model_name": "SliderStyleModel",
          "state": {
            "_view_name": "StyleView",
            "handle_color": null,
            "_model_name": "SliderStyleModel",
            "description_width": "",
            "_view_module": "@jupyter-widgets/base",
            "_model_module_version": "1.5.0",
            "_view_count": null,
            "_view_module_version": "1.2.0",
            "_model_module": "@jupyter-widgets/controls"
          }
        },
        "e1eda9c379544f3fa54648709c917ca1": {
          "model_module": "@jupyter-widgets/base",
          "model_name": "LayoutModel",
          "state": {
            "_view_name": "LayoutView",
            "grid_template_rows": null,
            "right": null,
            "justify_content": null,
            "_view_module": "@jupyter-widgets/base",
            "overflow": null,
            "_model_module_version": "1.2.0",
            "_view_count": null,
            "flex_flow": null,
            "width": null,
            "min_width": null,
            "border": null,
            "align_items": null,
            "bottom": null,
            "_model_module": "@jupyter-widgets/base",
            "top": null,
            "grid_column": null,
            "overflow_y": null,
            "overflow_x": null,
            "grid_auto_flow": null,
            "grid_area": null,
            "grid_template_columns": null,
            "flex": null,
            "_model_name": "LayoutModel",
            "justify_items": null,
            "grid_row": null,
            "max_height": null,
            "align_content": null,
            "visibility": null,
            "align_self": null,
            "height": null,
            "min_height": null,
            "padding": null,
            "grid_auto_rows": null,
            "grid_gap": null,
            "max_width": null,
            "order": null,
            "_view_module_version": "1.2.0",
            "grid_template_areas": null,
            "object_position": null,
            "object_fit": null,
            "grid_auto_columns": null,
            "margin": null,
            "display": null,
            "left": null
          }
        },
        "03094cad4f974b44b3eab4fcebf957df": {
          "model_module": "@jupyter-widgets/controls",
          "model_name": "SliderStyleModel",
          "state": {
            "_view_name": "StyleView",
            "handle_color": null,
            "_model_name": "SliderStyleModel",
            "description_width": "",
            "_view_module": "@jupyter-widgets/base",
            "_model_module_version": "1.5.0",
            "_view_count": null,
            "_view_module_version": "1.2.0",
            "_model_module": "@jupyter-widgets/controls"
          }
        },
        "0eb0b874cd55453b8ff56121b9190ce3": {
          "model_module": "@jupyter-widgets/base",
          "model_name": "LayoutModel",
          "state": {
            "_view_name": "LayoutView",
            "grid_template_rows": null,
            "right": null,
            "justify_content": null,
            "_view_module": "@jupyter-widgets/base",
            "overflow": null,
            "_model_module_version": "1.2.0",
            "_view_count": null,
            "flex_flow": null,
            "width": null,
            "min_width": null,
            "border": null,
            "align_items": null,
            "bottom": null,
            "_model_module": "@jupyter-widgets/base",
            "top": null,
            "grid_column": null,
            "overflow_y": null,
            "overflow_x": null,
            "grid_auto_flow": null,
            "grid_area": null,
            "grid_template_columns": null,
            "flex": null,
            "_model_name": "LayoutModel",
            "justify_items": null,
            "grid_row": null,
            "max_height": null,
            "align_content": null,
            "visibility": null,
            "align_self": null,
            "height": null,
            "min_height": null,
            "padding": null,
            "grid_auto_rows": null,
            "grid_gap": null,
            "max_width": null,
            "order": null,
            "_view_module_version": "1.2.0",
            "grid_template_areas": null,
            "object_position": null,
            "object_fit": null,
            "grid_auto_columns": null,
            "margin": null,
            "display": null,
            "left": null
          }
        },
        "0098f75d19474d4a9812b208e1d491c1": {
          "model_module": "@jupyter-widgets/base",
          "model_name": "LayoutModel",
          "state": {
            "_view_name": "LayoutView",
            "grid_template_rows": null,
            "right": null,
            "justify_content": null,
            "_view_module": "@jupyter-widgets/base",
            "overflow": null,
            "_model_module_version": "1.2.0",
            "_view_count": null,
            "flex_flow": null,
            "width": null,
            "min_width": null,
            "border": null,
            "align_items": null,
            "bottom": null,
            "_model_module": "@jupyter-widgets/base",
            "top": null,
            "grid_column": null,
            "overflow_y": null,
            "overflow_x": null,
            "grid_auto_flow": null,
            "grid_area": null,
            "grid_template_columns": null,
            "flex": null,
            "_model_name": "LayoutModel",
            "justify_items": null,
            "grid_row": null,
            "max_height": null,
            "align_content": null,
            "visibility": null,
            "align_self": null,
            "height": null,
            "min_height": null,
            "padding": null,
            "grid_auto_rows": null,
            "grid_gap": null,
            "max_width": null,
            "order": null,
            "_view_module_version": "1.2.0",
            "grid_template_areas": null,
            "object_position": null,
            "object_fit": null,
            "grid_auto_columns": null,
            "margin": null,
            "display": null,
            "left": null
          }
        },
        "456c9df6fe0741d68eadfad873fb4e8a": {
          "model_module": "@jupyter-widgets/controls",
          "model_name": "VBoxModel",
          "state": {
            "_view_name": "VBoxView",
            "_dom_classes": [
              "widget-interact"
            ],
            "_model_name": "VBoxModel",
            "_view_module": "@jupyter-widgets/controls",
            "_model_module_version": "1.5.0",
            "_view_count": null,
            "_view_module_version": "1.5.0",
            "box_style": "",
            "layout": "IPY_MODEL_8a9a122316034d8e9412a5401c258f0f",
            "_model_module": "@jupyter-widgets/controls",
            "children": [
              "IPY_MODEL_fdeab6d47eb14d359ac70187ef5de6ac",
              "IPY_MODEL_e71f8289089f4b30947f688304d91367",
              "IPY_MODEL_51619c230cc8488e8d6221d0882326e8",
              "IPY_MODEL_483a3a91cdc846589587a02e9ddbc00f"
            ]
          }
        },
        "8a9a122316034d8e9412a5401c258f0f": {
          "model_module": "@jupyter-widgets/base",
          "model_name": "LayoutModel",
          "state": {
            "_view_name": "LayoutView",
            "grid_template_rows": null,
            "right": null,
            "justify_content": null,
            "_view_module": "@jupyter-widgets/base",
            "overflow": null,
            "_model_module_version": "1.2.0",
            "_view_count": null,
            "flex_flow": null,
            "width": null,
            "min_width": null,
            "border": null,
            "align_items": null,
            "bottom": null,
            "_model_module": "@jupyter-widgets/base",
            "top": null,
            "grid_column": null,
            "overflow_y": null,
            "overflow_x": null,
            "grid_auto_flow": null,
            "grid_area": null,
            "grid_template_columns": null,
            "flex": null,
            "_model_name": "LayoutModel",
            "justify_items": null,
            "grid_row": null,
            "max_height": null,
            "align_content": null,
            "visibility": null,
            "align_self": null,
            "height": null,
            "min_height": null,
            "padding": null,
            "grid_auto_rows": null,
            "grid_gap": null,
            "max_width": null,
            "order": null,
            "_view_module_version": "1.2.0",
            "grid_template_areas": null,
            "object_position": null,
            "object_fit": null,
            "grid_auto_columns": null,
            "margin": null,
            "display": null,
            "left": null
          }
        },
        "fdeab6d47eb14d359ac70187ef5de6ac": {
          "model_module": "@jupyter-widgets/controls",
          "model_name": "IntSliderModel",
          "state": {
            "_view_name": "IntSliderView",
            "style": "IPY_MODEL_2c212fa99b0d43eb87e3fb0a4e100ef1",
            "_dom_classes": [],
            "description": "r",
            "step": 1,
            "_model_name": "IntSliderModel",
            "orientation": "horizontal",
            "max": 10,
            "_view_module": "@jupyter-widgets/controls",
            "_model_module_version": "1.5.0",
            "value": 5,
            "_view_count": null,
            "disabled": false,
            "_view_module_version": "1.5.0",
            "min": 1,
            "continuous_update": true,
            "readout_format": "d",
            "description_tooltip": null,
            "readout": true,
            "_model_module": "@jupyter-widgets/controls",
            "layout": "IPY_MODEL_d723acfe658848af9a4346690691e6f4"
          }
        },
        "e71f8289089f4b30947f688304d91367": {
          "model_module": "@jupyter-widgets/controls",
          "model_name": "FloatSliderModel",
          "state": {
            "_view_name": "FloatSliderView",
            "style": "IPY_MODEL_8454bdf50f384f16af8b6e49142e4a76",
            "_dom_classes": [],
            "description": "l",
            "step": 0.1,
            "_model_name": "FloatSliderModel",
            "orientation": "horizontal",
            "max": 1,
            "_view_module": "@jupyter-widgets/controls",
            "_model_module_version": "1.5.0",
            "value": 0.5,
            "_view_count": null,
            "disabled": false,
            "_view_module_version": "1.5.0",
            "min": 0.1,
            "continuous_update": true,
            "readout_format": ".2f",
            "description_tooltip": null,
            "readout": true,
            "_model_module": "@jupyter-widgets/controls",
            "layout": "IPY_MODEL_83fbe58cd6fc4693b0844471de358d16"
          }
        },
        "51619c230cc8488e8d6221d0882326e8": {
          "model_module": "@jupyter-widgets/controls",
          "model_name": "FloatSliderModel",
          "state": {
            "_view_name": "FloatSliderView",
            "style": "IPY_MODEL_a5201937e8fa4ee19342333333d467d4",
            "_dom_classes": [],
            "description": "c",
            "step": 0.1,
            "_model_name": "FloatSliderModel",
            "orientation": "horizontal",
            "max": 1,
            "_view_module": "@jupyter-widgets/controls",
            "_model_module_version": "1.5.0",
            "value": 0.5,
            "_view_count": null,
            "disabled": false,
            "_view_module_version": "1.5.0",
            "min": 0.1,
            "continuous_update": true,
            "readout_format": ".2f",
            "description_tooltip": null,
            "readout": true,
            "_model_module": "@jupyter-widgets/controls",
            "layout": "IPY_MODEL_c75b55e297dc44a986014460d35655eb"
          }
        },
        "483a3a91cdc846589587a02e9ddbc00f": {
          "model_module": "@jupyter-widgets/output",
          "model_name": "OutputModel",
          "state": {
            "_view_name": "OutputView",
            "msg_id": "",
            "_dom_classes": [],
            "_model_name": "OutputModel",
            "outputs": [
              {
                "output_type": "stream",
                "metadata": {
                  "tags": []
                },
                "text": "/usr/local/lib/python3.6/dist-packages/sympy/plotting/plot.py:890: MatplotlibDeprecationWarning: \nThe set_smart_bounds function was deprecated in Matplotlib 3.2 and will be removed two minor releases later.\n  self.ax.spines['left'].set_smart_bounds(True)\n/usr/local/lib/python3.6/dist-packages/sympy/plotting/plot.py:891: MatplotlibDeprecationWarning: \nThe set_smart_bounds function was deprecated in Matplotlib 3.2 and will be removed two minor releases later.\n  self.ax.spines['bottom'].set_smart_bounds(False)\n",
                "stream": "stderr"
              },
              {
                "output_type": "display_data",
                "metadata": {
                  "tags": [],
                  "needs_background": "light"
                },
                "image/png": "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\n",
                "text/plain": "<Figure size 432x288 with 1 Axes>"
              },
              {
                "output_type": "stream",
                "metadata": {
                  "tags": []
                },
                "text": "Resultado transformada inversa\n",
                "stream": "stdout"
              },
              {
                "output_type": "display_data",
                "metadata": {
                  "tags": []
                },
                "image/png": "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\n",
                "text/latex": "$$\\frac{1}{42} \\left(- 21 e^{2 \\sqrt{21} t} - \\sqrt{21} e^{2 \\sqrt{21} t} - 21 + \\sqrt{21}\\right) e^{- t \\left(\\sqrt{21} + 5\\right)}$$",
                "text/plain": "⎛      2⋅√21⋅t        2⋅√21⋅t           ⎞  -t⋅(√21 + 5)\n⎝- 21⋅ℯ        - √21⋅ℯ        - 21 + √21⎠⋅ℯ            \n───────────────────────────────────────────────────────\n                           42                          "
              }
            ],
            "_view_module": "@jupyter-widgets/output",
            "_model_module_version": "1.0.0",
            "_view_count": null,
            "_view_module_version": "1.0.0",
            "layout": "IPY_MODEL_bb0092ef5dbb434a97a7e30e2ad1e23f",
            "_model_module": "@jupyter-widgets/output"
          }
        },
        "2c212fa99b0d43eb87e3fb0a4e100ef1": {
          "model_module": "@jupyter-widgets/controls",
          "model_name": "SliderStyleModel",
          "state": {
            "_view_name": "StyleView",
            "handle_color": null,
            "_model_name": "SliderStyleModel",
            "description_width": "",
            "_view_module": "@jupyter-widgets/base",
            "_model_module_version": "1.5.0",
            "_view_count": null,
            "_view_module_version": "1.2.0",
            "_model_module": "@jupyter-widgets/controls"
          }
        },
        "d723acfe658848af9a4346690691e6f4": {
          "model_module": "@jupyter-widgets/base",
          "model_name": "LayoutModel",
          "state": {
            "_view_name": "LayoutView",
            "grid_template_rows": null,
            "right": null,
            "justify_content": null,
            "_view_module": "@jupyter-widgets/base",
            "overflow": null,
            "_model_module_version": "1.2.0",
            "_view_count": null,
            "flex_flow": null,
            "width": null,
            "min_width": null,
            "border": null,
            "align_items": null,
            "bottom": null,
            "_model_module": "@jupyter-widgets/base",
            "top": null,
            "grid_column": null,
            "overflow_y": null,
            "overflow_x": null,
            "grid_auto_flow": null,
            "grid_area": null,
            "grid_template_columns": null,
            "flex": null,
            "_model_name": "LayoutModel",
            "justify_items": null,
            "grid_row": null,
            "max_height": null,
            "align_content": null,
            "visibility": null,
            "align_self": null,
            "height": null,
            "min_height": null,
            "padding": null,
            "grid_auto_rows": null,
            "grid_gap": null,
            "max_width": null,
            "order": null,
            "_view_module_version": "1.2.0",
            "grid_template_areas": null,
            "object_position": null,
            "object_fit": null,
            "grid_auto_columns": null,
            "margin": null,
            "display": null,
            "left": null
          }
        },
        "8454bdf50f384f16af8b6e49142e4a76": {
          "model_module": "@jupyter-widgets/controls",
          "model_name": "SliderStyleModel",
          "state": {
            "_view_name": "StyleView",
            "handle_color": null,
            "_model_name": "SliderStyleModel",
            "description_width": "",
            "_view_module": "@jupyter-widgets/base",
            "_model_module_version": "1.5.0",
            "_view_count": null,
            "_view_module_version": "1.2.0",
            "_model_module": "@jupyter-widgets/controls"
          }
        },
        "83fbe58cd6fc4693b0844471de358d16": {
          "model_module": "@jupyter-widgets/base",
          "model_name": "LayoutModel",
          "state": {
            "_view_name": "LayoutView",
            "grid_template_rows": null,
            "right": null,
            "justify_content": null,
            "_view_module": "@jupyter-widgets/base",
            "overflow": null,
            "_model_module_version": "1.2.0",
            "_view_count": null,
            "flex_flow": null,
            "width": null,
            "min_width": null,
            "border": null,
            "align_items": null,
            "bottom": null,
            "_model_module": "@jupyter-widgets/base",
            "top": null,
            "grid_column": null,
            "overflow_y": null,
            "overflow_x": null,
            "grid_auto_flow": null,
            "grid_area": null,
            "grid_template_columns": null,
            "flex": null,
            "_model_name": "LayoutModel",
            "justify_items": null,
            "grid_row": null,
            "max_height": null,
            "align_content": null,
            "visibility": null,
            "align_self": null,
            "height": null,
            "min_height": null,
            "padding": null,
            "grid_auto_rows": null,
            "grid_gap": null,
            "max_width": null,
            "order": null,
            "_view_module_version": "1.2.0",
            "grid_template_areas": null,
            "object_position": null,
            "object_fit": null,
            "grid_auto_columns": null,
            "margin": null,
            "display": null,
            "left": null
          }
        },
        "a5201937e8fa4ee19342333333d467d4": {
          "model_module": "@jupyter-widgets/controls",
          "model_name": "SliderStyleModel",
          "state": {
            "_view_name": "StyleView",
            "handle_color": null,
            "_model_name": "SliderStyleModel",
            "description_width": "",
            "_view_module": "@jupyter-widgets/base",
            "_model_module_version": "1.5.0",
            "_view_count": null,
            "_view_module_version": "1.2.0",
            "_model_module": "@jupyter-widgets/controls"
          }
        },
        "c75b55e297dc44a986014460d35655eb": {
          "model_module": "@jupyter-widgets/base",
          "model_name": "LayoutModel",
          "state": {
            "_view_name": "LayoutView",
            "grid_template_rows": null,
            "right": null,
            "justify_content": null,
            "_view_module": "@jupyter-widgets/base",
            "overflow": null,
            "_model_module_version": "1.2.0",
            "_view_count": null,
            "flex_flow": null,
            "width": null,
            "min_width": null,
            "border": null,
            "align_items": null,
            "bottom": null,
            "_model_module": "@jupyter-widgets/base",
            "top": null,
            "grid_column": null,
            "overflow_y": null,
            "overflow_x": null,
            "grid_auto_flow": null,
            "grid_area": null,
            "grid_template_columns": null,
            "flex": null,
            "_model_name": "LayoutModel",
            "justify_items": null,
            "grid_row": null,
            "max_height": null,
            "align_content": null,
            "visibility": null,
            "align_self": null,
            "height": null,
            "min_height": null,
            "padding": null,
            "grid_auto_rows": null,
            "grid_gap": null,
            "max_width": null,
            "order": null,
            "_view_module_version": "1.2.0",
            "grid_template_areas": null,
            "object_position": null,
            "object_fit": null,
            "grid_auto_columns": null,
            "margin": null,
            "display": null,
            "left": null
          }
        },
        "bb0092ef5dbb434a97a7e30e2ad1e23f": {
          "model_module": "@jupyter-widgets/base",
          "model_name": "LayoutModel",
          "state": {
            "_view_name": "LayoutView",
            "grid_template_rows": null,
            "right": null,
            "justify_content": null,
            "_view_module": "@jupyter-widgets/base",
            "overflow": null,
            "_model_module_version": "1.2.0",
            "_view_count": null,
            "flex_flow": null,
            "width": null,
            "min_width": null,
            "border": null,
            "align_items": null,
            "bottom": null,
            "_model_module": "@jupyter-widgets/base",
            "top": null,
            "grid_column": null,
            "overflow_y": null,
            "overflow_x": null,
            "grid_auto_flow": null,
            "grid_area": null,
            "grid_template_columns": null,
            "flex": null,
            "_model_name": "LayoutModel",
            "justify_items": null,
            "grid_row": null,
            "max_height": null,
            "align_content": null,
            "visibility": null,
            "align_self": null,
            "height": null,
            "min_height": null,
            "padding": null,
            "grid_auto_rows": null,
            "grid_gap": null,
            "max_width": null,
            "order": null,
            "_view_module_version": "1.2.0",
            "grid_template_areas": null,
            "object_position": null,
            "object_fit": null,
            "grid_auto_columns": null,
            "margin": null,
            "display": null,
            "left": null
          }
        },
        "a5d60d2aeb85421f825d26c93a94cd13": {
          "model_module": "@jupyter-widgets/controls",
          "model_name": "VBoxModel",
          "state": {
            "_view_name": "VBoxView",
            "_dom_classes": [
              "widget-interact"
            ],
            "_model_name": "VBoxModel",
            "_view_module": "@jupyter-widgets/controls",
            "_model_module_version": "1.5.0",
            "_view_count": null,
            "_view_module_version": "1.5.0",
            "box_style": "",
            "layout": "IPY_MODEL_39dcc42b0b4841a3a4fbe8e62a8f56a6",
            "_model_module": "@jupyter-widgets/controls",
            "children": [
              "IPY_MODEL_7b7bd32444834e79ad7ac23de9b92921",
              "IPY_MODEL_611d1076a65d482a8d7de97ee6095de8",
              "IPY_MODEL_a482da3853454a59af7eca605978a266",
              "IPY_MODEL_69c42dbbd84846a38ce6d2655c95fff4"
            ]
          }
        },
        "39dcc42b0b4841a3a4fbe8e62a8f56a6": {
          "model_module": "@jupyter-widgets/base",
          "model_name": "LayoutModel",
          "state": {
            "_view_name": "LayoutView",
            "grid_template_rows": null,
            "right": null,
            "justify_content": null,
            "_view_module": "@jupyter-widgets/base",
            "overflow": null,
            "_model_module_version": "1.2.0",
            "_view_count": null,
            "flex_flow": null,
            "width": null,
            "min_width": null,
            "border": null,
            "align_items": null,
            "bottom": null,
            "_model_module": "@jupyter-widgets/base",
            "top": null,
            "grid_column": null,
            "overflow_y": null,
            "overflow_x": null,
            "grid_auto_flow": null,
            "grid_area": null,
            "grid_template_columns": null,
            "flex": null,
            "_model_name": "LayoutModel",
            "justify_items": null,
            "grid_row": null,
            "max_height": null,
            "align_content": null,
            "visibility": null,
            "align_self": null,
            "height": null,
            "min_height": null,
            "padding": null,
            "grid_auto_rows": null,
            "grid_gap": null,
            "max_width": null,
            "order": null,
            "_view_module_version": "1.2.0",
            "grid_template_areas": null,
            "object_position": null,
            "object_fit": null,
            "grid_auto_columns": null,
            "margin": null,
            "display": null,
            "left": null
          }
        },
        "7b7bd32444834e79ad7ac23de9b92921": {
          "model_module": "@jupyter-widgets/controls",
          "model_name": "IntSliderModel",
          "state": {
            "_view_name": "IntSliderView",
            "style": "IPY_MODEL_7b48e9c8aaf84981b89b901040062ad3",
            "_dom_classes": [],
            "description": "r",
            "step": 1,
            "_model_name": "IntSliderModel",
            "orientation": "horizontal",
            "max": 10,
            "_view_module": "@jupyter-widgets/controls",
            "_model_module_version": "1.5.0",
            "value": 5,
            "_view_count": null,
            "disabled": false,
            "_view_module_version": "1.5.0",
            "min": 1,
            "continuous_update": true,
            "readout_format": "d",
            "description_tooltip": null,
            "readout": true,
            "_model_module": "@jupyter-widgets/controls",
            "layout": "IPY_MODEL_41bcb7abc15b4002bcfaaba6a8992f1c"
          }
        },
        "611d1076a65d482a8d7de97ee6095de8": {
          "model_module": "@jupyter-widgets/controls",
          "model_name": "FloatSliderModel",
          "state": {
            "_view_name": "FloatSliderView",
            "style": "IPY_MODEL_74c0c6a68fbe441a8eb3e1bcda84f056",
            "_dom_classes": [],
            "description": "l",
            "step": 0.1,
            "_model_name": "FloatSliderModel",
            "orientation": "horizontal",
            "max": 1,
            "_view_module": "@jupyter-widgets/controls",
            "_model_module_version": "1.5.0",
            "value": 0.5,
            "_view_count": null,
            "disabled": false,
            "_view_module_version": "1.5.0",
            "min": 0.1,
            "continuous_update": true,
            "readout_format": ".2f",
            "description_tooltip": null,
            "readout": true,
            "_model_module": "@jupyter-widgets/controls",
            "layout": "IPY_MODEL_0f88a230df3a43f88e10eeb61793c521"
          }
        },
        "a482da3853454a59af7eca605978a266": {
          "model_module": "@jupyter-widgets/controls",
          "model_name": "FloatSliderModel",
          "state": {
            "_view_name": "FloatSliderView",
            "style": "IPY_MODEL_6f01dd5ae2d94ad6b4abce359aad7e6c",
            "_dom_classes": [],
            "description": "c",
            "step": 0.1,
            "_model_name": "FloatSliderModel",
            "orientation": "horizontal",
            "max": 1,
            "_view_module": "@jupyter-widgets/controls",
            "_model_module_version": "1.5.0",
            "value": 0.5,
            "_view_count": null,
            "disabled": false,
            "_view_module_version": "1.5.0",
            "min": 0.1,
            "continuous_update": true,
            "readout_format": ".2f",
            "description_tooltip": null,
            "readout": true,
            "_model_module": "@jupyter-widgets/controls",
            "layout": "IPY_MODEL_76f791e5e40b4abda7b31671e703420a"
          }
        },
        "69c42dbbd84846a38ce6d2655c95fff4": {
          "model_module": "@jupyter-widgets/output",
          "model_name": "OutputModel",
          "state": {
            "_view_name": "OutputView",
            "msg_id": "",
            "_dom_classes": [],
            "_model_name": "OutputModel",
            "outputs": [
              {
                "output_type": "stream",
                "metadata": {
                  "tags": []
                },
                "text": "/usr/local/lib/python3.6/dist-packages/sympy/plotting/plot.py:890: MatplotlibDeprecationWarning: \nThe set_smart_bounds function was deprecated in Matplotlib 3.2 and will be removed two minor releases later.\n  self.ax.spines['left'].set_smart_bounds(True)\n/usr/local/lib/python3.6/dist-packages/sympy/plotting/plot.py:891: MatplotlibDeprecationWarning: \nThe set_smart_bounds function was deprecated in Matplotlib 3.2 and will be removed two minor releases later.\n  self.ax.spines['bottom'].set_smart_bounds(False)\n",
                "stream": "stderr"
              },
              {
                "output_type": "display_data",
                "metadata": {
                  "tags": [],
                  "needs_background": "light"
                },
                "image/png": "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\n",
                "text/plain": "<Figure size 432x288 with 1 Axes>"
              },
              {
                "output_type": "stream",
                "metadata": {
                  "tags": []
                },
                "text": "y la transformada inversa nos daria como resultado\n",
                "stream": "stdout"
              },
              {
                "output_type": "display_data",
                "metadata": {
                  "tags": []
                },
                "text/plain": "20*sqrt(11)*exp(-t/5)*sin(3*sqrt(11)*t/5)/33"
              }
            ],
            "_view_module": "@jupyter-widgets/output",
            "_model_module_version": "1.0.0",
            "_view_count": null,
            "_view_module_version": "1.0.0",
            "layout": "IPY_MODEL_ad84d3203829478cb43105554481f4d9",
            "_model_module": "@jupyter-widgets/output"
          }
        },
        "7b48e9c8aaf84981b89b901040062ad3": {
          "model_module": "@jupyter-widgets/controls",
          "model_name": "SliderStyleModel",
          "state": {
            "_view_name": "StyleView",
            "handle_color": null,
            "_model_name": "SliderStyleModel",
            "description_width": "",
            "_view_module": "@jupyter-widgets/base",
            "_model_module_version": "1.5.0",
            "_view_count": null,
            "_view_module_version": "1.2.0",
            "_model_module": "@jupyter-widgets/controls"
          }
        },
        "41bcb7abc15b4002bcfaaba6a8992f1c": {
          "model_module": "@jupyter-widgets/base",
          "model_name": "LayoutModel",
          "state": {
            "_view_name": "LayoutView",
            "grid_template_rows": null,
            "right": null,
            "justify_content": null,
            "_view_module": "@jupyter-widgets/base",
            "overflow": null,
            "_model_module_version": "1.2.0",
            "_view_count": null,
            "flex_flow": null,
            "width": null,
            "min_width": null,
            "border": null,
            "align_items": null,
            "bottom": null,
            "_model_module": "@jupyter-widgets/base",
            "top": null,
            "grid_column": null,
            "overflow_y": null,
            "overflow_x": null,
            "grid_auto_flow": null,
            "grid_area": null,
            "grid_template_columns": null,
            "flex": null,
            "_model_name": "LayoutModel",
            "justify_items": null,
            "grid_row": null,
            "max_height": null,
            "align_content": null,
            "visibility": null,
            "align_self": null,
            "height": null,
            "min_height": null,
            "padding": null,
            "grid_auto_rows": null,
            "grid_gap": null,
            "max_width": null,
            "order": null,
            "_view_module_version": "1.2.0",
            "grid_template_areas": null,
            "object_position": null,
            "object_fit": null,
            "grid_auto_columns": null,
            "margin": null,
            "display": null,
            "left": null
          }
        },
        "74c0c6a68fbe441a8eb3e1bcda84f056": {
          "model_module": "@jupyter-widgets/controls",
          "model_name": "SliderStyleModel",
          "state": {
            "_view_name": "StyleView",
            "handle_color": null,
            "_model_name": "SliderStyleModel",
            "description_width": "",
            "_view_module": "@jupyter-widgets/base",
            "_model_module_version": "1.5.0",
            "_view_count": null,
            "_view_module_version": "1.2.0",
            "_model_module": "@jupyter-widgets/controls"
          }
        },
        "0f88a230df3a43f88e10eeb61793c521": {
          "model_module": "@jupyter-widgets/base",
          "model_name": "LayoutModel",
          "state": {
            "_view_name": "LayoutView",
            "grid_template_rows": null,
            "right": null,
            "justify_content": null,
            "_view_module": "@jupyter-widgets/base",
            "overflow": null,
            "_model_module_version": "1.2.0",
            "_view_count": null,
            "flex_flow": null,
            "width": null,
            "min_width": null,
            "border": null,
            "align_items": null,
            "bottom": null,
            "_model_module": "@jupyter-widgets/base",
            "top": null,
            "grid_column": null,
            "overflow_y": null,
            "overflow_x": null,
            "grid_auto_flow": null,
            "grid_area": null,
            "grid_template_columns": null,
            "flex": null,
            "_model_name": "LayoutModel",
            "justify_items": null,
            "grid_row": null,
            "max_height": null,
            "align_content": null,
            "visibility": null,
            "align_self": null,
            "height": null,
            "min_height": null,
            "padding": null,
            "grid_auto_rows": null,
            "grid_gap": null,
            "max_width": null,
            "order": null,
            "_view_module_version": "1.2.0",
            "grid_template_areas": null,
            "object_position": null,
            "object_fit": null,
            "grid_auto_columns": null,
            "margin": null,
            "display": null,
            "left": null
          }
        },
        "6f01dd5ae2d94ad6b4abce359aad7e6c": {
          "model_module": "@jupyter-widgets/controls",
          "model_name": "SliderStyleModel",
          "state": {
            "_view_name": "StyleView",
            "handle_color": null,
            "_model_name": "SliderStyleModel",
            "description_width": "",
            "_view_module": "@jupyter-widgets/base",
            "_model_module_version": "1.5.0",
            "_view_count": null,
            "_view_module_version": "1.2.0",
            "_model_module": "@jupyter-widgets/controls"
          }
        },
        "76f791e5e40b4abda7b31671e703420a": {
          "model_module": "@jupyter-widgets/base",
          "model_name": "LayoutModel",
          "state": {
            "_view_name": "LayoutView",
            "grid_template_rows": null,
            "right": null,
            "justify_content": null,
            "_view_module": "@jupyter-widgets/base",
            "overflow": null,
            "_model_module_version": "1.2.0",
            "_view_count": null,
            "flex_flow": null,
            "width": null,
            "min_width": null,
            "border": null,
            "align_items": null,
            "bottom": null,
            "_model_module": "@jupyter-widgets/base",
            "top": null,
            "grid_column": null,
            "overflow_y": null,
            "overflow_x": null,
            "grid_auto_flow": null,
            "grid_area": null,
            "grid_template_columns": null,
            "flex": null,
            "_model_name": "LayoutModel",
            "justify_items": null,
            "grid_row": null,
            "max_height": null,
            "align_content": null,
            "visibility": null,
            "align_self": null,
            "height": null,
            "min_height": null,
            "padding": null,
            "grid_auto_rows": null,
            "grid_gap": null,
            "max_width": null,
            "order": null,
            "_view_module_version": "1.2.0",
            "grid_template_areas": null,
            "object_position": null,
            "object_fit": null,
            "grid_auto_columns": null,
            "margin": null,
            "display": null,
            "left": null
          }
        },
        "ad84d3203829478cb43105554481f4d9": {
          "model_module": "@jupyter-widgets/base",
          "model_name": "LayoutModel",
          "state": {
            "_view_name": "LayoutView",
            "grid_template_rows": null,
            "right": null,
            "justify_content": null,
            "_view_module": "@jupyter-widgets/base",
            "overflow": null,
            "_model_module_version": "1.2.0",
            "_view_count": null,
            "flex_flow": null,
            "width": null,
            "min_width": null,
            "border": null,
            "align_items": null,
            "bottom": null,
            "_model_module": "@jupyter-widgets/base",
            "top": null,
            "grid_column": null,
            "overflow_y": null,
            "overflow_x": null,
            "grid_auto_flow": null,
            "grid_area": null,
            "grid_template_columns": null,
            "flex": null,
            "_model_name": "LayoutModel",
            "justify_items": null,
            "grid_row": null,
            "max_height": null,
            "align_content": null,
            "visibility": null,
            "align_self": null,
            "height": null,
            "min_height": null,
            "padding": null,
            "grid_auto_rows": null,
            "grid_gap": null,
            "max_width": null,
            "order": null,
            "_view_module_version": "1.2.0",
            "grid_template_areas": null,
            "object_position": null,
            "object_fit": null,
            "grid_auto_columns": null,
            "margin": null,
            "display": null,
            "left": null
          }
        },
        "12d833c4c9e44a96847db578067788cd": {
          "model_module": "@jupyter-widgets/controls",
          "model_name": "VBoxModel",
          "state": {
            "_view_name": "VBoxView",
            "_dom_classes": [
              "widget-interact"
            ],
            "_model_name": "VBoxModel",
            "_view_module": "@jupyter-widgets/controls",
            "_model_module_version": "1.5.0",
            "_view_count": null,
            "_view_module_version": "1.5.0",
            "box_style": "",
            "layout": "IPY_MODEL_92068cf583d246dc8fb786189e97eb81",
            "_model_module": "@jupyter-widgets/controls",
            "children": [
              "IPY_MODEL_2dc263d8753d43fa995be18d222eb05c",
              "IPY_MODEL_f51370198131416d89c141b76e1586c6",
              "IPY_MODEL_8e7c394b2fae44daa75be5615c3ac837",
              "IPY_MODEL_67eeeb8b10ff458eafc16a64103a12b9"
            ]
          }
        },
        "92068cf583d246dc8fb786189e97eb81": {
          "model_module": "@jupyter-widgets/base",
          "model_name": "LayoutModel",
          "state": {
            "_view_name": "LayoutView",
            "grid_template_rows": null,
            "right": null,
            "justify_content": null,
            "_view_module": "@jupyter-widgets/base",
            "overflow": null,
            "_model_module_version": "1.2.0",
            "_view_count": null,
            "flex_flow": null,
            "width": null,
            "min_width": null,
            "border": null,
            "align_items": null,
            "bottom": null,
            "_model_module": "@jupyter-widgets/base",
            "top": null,
            "grid_column": null,
            "overflow_y": null,
            "overflow_x": null,
            "grid_auto_flow": null,
            "grid_area": null,
            "grid_template_columns": null,
            "flex": null,
            "_model_name": "LayoutModel",
            "justify_items": null,
            "grid_row": null,
            "max_height": null,
            "align_content": null,
            "visibility": null,
            "align_self": null,
            "height": null,
            "min_height": null,
            "padding": null,
            "grid_auto_rows": null,
            "grid_gap": null,
            "max_width": null,
            "order": null,
            "_view_module_version": "1.2.0",
            "grid_template_areas": null,
            "object_position": null,
            "object_fit": null,
            "grid_auto_columns": null,
            "margin": null,
            "display": null,
            "left": null
          }
        },
        "2dc263d8753d43fa995be18d222eb05c": {
          "model_module": "@jupyter-widgets/controls",
          "model_name": "IntSliderModel",
          "state": {
            "_view_name": "IntSliderView",
            "style": "IPY_MODEL_448bff372b9f4794a00e4aed3d48d953",
            "_dom_classes": [],
            "description": "r",
            "step": 1,
            "_model_name": "IntSliderModel",
            "orientation": "horizontal",
            "max": 10,
            "_view_module": "@jupyter-widgets/controls",
            "_model_module_version": "1.5.0",
            "value": 5,
            "_view_count": null,
            "disabled": false,
            "_view_module_version": "1.5.0",
            "min": 1,
            "continuous_update": true,
            "readout_format": "d",
            "description_tooltip": null,
            "readout": true,
            "_model_module": "@jupyter-widgets/controls",
            "layout": "IPY_MODEL_8e51ab37b4c047ddab653169ebd69c9b"
          }
        },
        "f51370198131416d89c141b76e1586c6": {
          "model_module": "@jupyter-widgets/controls",
          "model_name": "FloatSliderModel",
          "state": {
            "_view_name": "FloatSliderView",
            "style": "IPY_MODEL_a0fa52742e4d49a4a4e6a11848b7e24c",
            "_dom_classes": [],
            "description": "l",
            "step": 0.1,
            "_model_name": "FloatSliderModel",
            "orientation": "horizontal",
            "max": 1,
            "_view_module": "@jupyter-widgets/controls",
            "_model_module_version": "1.5.0",
            "value": 0.5,
            "_view_count": null,
            "disabled": false,
            "_view_module_version": "1.5.0",
            "min": 0.1,
            "continuous_update": true,
            "readout_format": ".2f",
            "description_tooltip": null,
            "readout": true,
            "_model_module": "@jupyter-widgets/controls",
            "layout": "IPY_MODEL_cda39b53c14a4c34ae02ef8b52e64960"
          }
        },
        "8e7c394b2fae44daa75be5615c3ac837": {
          "model_module": "@jupyter-widgets/controls",
          "model_name": "FloatSliderModel",
          "state": {
            "_view_name": "FloatSliderView",
            "style": "IPY_MODEL_88b54dc9d2fe424b94edd456d5d2790d",
            "_dom_classes": [],
            "description": "c",
            "step": 0.1,
            "_model_name": "FloatSliderModel",
            "orientation": "horizontal",
            "max": 1,
            "_view_module": "@jupyter-widgets/controls",
            "_model_module_version": "1.5.0",
            "value": 0.5,
            "_view_count": null,
            "disabled": false,
            "_view_module_version": "1.5.0",
            "min": 0.1,
            "continuous_update": true,
            "readout_format": ".2f",
            "description_tooltip": null,
            "readout": true,
            "_model_module": "@jupyter-widgets/controls",
            "layout": "IPY_MODEL_21ddd0e5376e4daa9f329bfba4ea4f3c"
          }
        },
        "67eeeb8b10ff458eafc16a64103a12b9": {
          "model_module": "@jupyter-widgets/output",
          "model_name": "OutputModel",
          "state": {
            "_view_name": "OutputView",
            "msg_id": "",
            "_dom_classes": [],
            "_model_name": "OutputModel",
            "outputs": [
              {
                "output_type": "stream",
                "metadata": {
                  "tags": []
                },
                "text": "/usr/local/lib/python3.6/dist-packages/sympy/plotting/plot.py:890: MatplotlibDeprecationWarning: \nThe set_smart_bounds function was deprecated in Matplotlib 3.2 and will be removed two minor releases later.\n  self.ax.spines['left'].set_smart_bounds(True)\n/usr/local/lib/python3.6/dist-packages/sympy/plotting/plot.py:891: MatplotlibDeprecationWarning: \nThe set_smart_bounds function was deprecated in Matplotlib 3.2 and will be removed two minor releases later.\n  self.ax.spines['bottom'].set_smart_bounds(False)\n",
                "stream": "stderr"
              },
              {
                "output_type": "display_data",
                "metadata": {
                  "tags": [],
                  "needs_background": "light"
                },
                "image/png": "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\n",
                "text/plain": "<Figure size 432x288 with 1 Axes>"
              },
              {
                "output_type": "stream",
                "metadata": {
                  "tags": []
                },
                "text": "Resultado transformada inversa\n",
                "stream": "stdout"
              },
              {
                "output_type": "display_data",
                "metadata": {
                  "tags": []
                },
                "text/plain": "(-5*sqrt(21)*exp(2*sqrt(21)*t)/21 - exp(2*sqrt(21)*t) + exp(t*(sqrt(21) + 5)) - 1 + 5*sqrt(21)/21)*exp(-t*(sqrt(21) + 5))"
              }
            ],
            "_view_module": "@jupyter-widgets/output",
            "_model_module_version": "1.0.0",
            "_view_count": null,
            "_view_module_version": "1.0.0",
            "layout": "IPY_MODEL_1dadb56cbf5744169810887eba15da10",
            "_model_module": "@jupyter-widgets/output"
          }
        },
        "448bff372b9f4794a00e4aed3d48d953": {
          "model_module": "@jupyter-widgets/controls",
          "model_name": "SliderStyleModel",
          "state": {
            "_view_name": "StyleView",
            "handle_color": null,
            "_model_name": "SliderStyleModel",
            "description_width": "",
            "_view_module": "@jupyter-widgets/base",
            "_model_module_version": "1.5.0",
            "_view_count": null,
            "_view_module_version": "1.2.0",
            "_model_module": "@jupyter-widgets/controls"
          }
        },
        "8e51ab37b4c047ddab653169ebd69c9b": {
          "model_module": "@jupyter-widgets/base",
          "model_name": "LayoutModel",
          "state": {
            "_view_name": "LayoutView",
            "grid_template_rows": null,
            "right": null,
            "justify_content": null,
            "_view_module": "@jupyter-widgets/base",
            "overflow": null,
            "_model_module_version": "1.2.0",
            "_view_count": null,
            "flex_flow": null,
            "width": null,
            "min_width": null,
            "border": null,
            "align_items": null,
            "bottom": null,
            "_model_module": "@jupyter-widgets/base",
            "top": null,
            "grid_column": null,
            "overflow_y": null,
            "overflow_x": null,
            "grid_auto_flow": null,
            "grid_area": null,
            "grid_template_columns": null,
            "flex": null,
            "_model_name": "LayoutModel",
            "justify_items": null,
            "grid_row": null,
            "max_height": null,
            "align_content": null,
            "visibility": null,
            "align_self": null,
            "height": null,
            "min_height": null,
            "padding": null,
            "grid_auto_rows": null,
            "grid_gap": null,
            "max_width": null,
            "order": null,
            "_view_module_version": "1.2.0",
            "grid_template_areas": null,
            "object_position": null,
            "object_fit": null,
            "grid_auto_columns": null,
            "margin": null,
            "display": null,
            "left": null
          }
        },
        "a0fa52742e4d49a4a4e6a11848b7e24c": {
          "model_module": "@jupyter-widgets/controls",
          "model_name": "SliderStyleModel",
          "state": {
            "_view_name": "StyleView",
            "handle_color": null,
            "_model_name": "SliderStyleModel",
            "description_width": "",
            "_view_module": "@jupyter-widgets/base",
            "_model_module_version": "1.5.0",
            "_view_count": null,
            "_view_module_version": "1.2.0",
            "_model_module": "@jupyter-widgets/controls"
          }
        },
        "cda39b53c14a4c34ae02ef8b52e64960": {
          "model_module": "@jupyter-widgets/base",
          "model_name": "LayoutModel",
          "state": {
            "_view_name": "LayoutView",
            "grid_template_rows": null,
            "right": null,
            "justify_content": null,
            "_view_module": "@jupyter-widgets/base",
            "overflow": null,
            "_model_module_version": "1.2.0",
            "_view_count": null,
            "flex_flow": null,
            "width": null,
            "min_width": null,
            "border": null,
            "align_items": null,
            "bottom": null,
            "_model_module": "@jupyter-widgets/base",
            "top": null,
            "grid_column": null,
            "overflow_y": null,
            "overflow_x": null,
            "grid_auto_flow": null,
            "grid_area": null,
            "grid_template_columns": null,
            "flex": null,
            "_model_name": "LayoutModel",
            "justify_items": null,
            "grid_row": null,
            "max_height": null,
            "align_content": null,
            "visibility": null,
            "align_self": null,
            "height": null,
            "min_height": null,
            "padding": null,
            "grid_auto_rows": null,
            "grid_gap": null,
            "max_width": null,
            "order": null,
            "_view_module_version": "1.2.0",
            "grid_template_areas": null,
            "object_position": null,
            "object_fit": null,
            "grid_auto_columns": null,
            "margin": null,
            "display": null,
            "left": null
          }
        },
        "88b54dc9d2fe424b94edd456d5d2790d": {
          "model_module": "@jupyter-widgets/controls",
          "model_name": "SliderStyleModel",
          "state": {
            "_view_name": "StyleView",
            "handle_color": null,
            "_model_name": "SliderStyleModel",
            "description_width": "",
            "_view_module": "@jupyter-widgets/base",
            "_model_module_version": "1.5.0",
            "_view_count": null,
            "_view_module_version": "1.2.0",
            "_model_module": "@jupyter-widgets/controls"
          }
        },
        "21ddd0e5376e4daa9f329bfba4ea4f3c": {
          "model_module": "@jupyter-widgets/base",
          "model_name": "LayoutModel",
          "state": {
            "_view_name": "LayoutView",
            "grid_template_rows": null,
            "right": null,
            "justify_content": null,
            "_view_module": "@jupyter-widgets/base",
            "overflow": null,
            "_model_module_version": "1.2.0",
            "_view_count": null,
            "flex_flow": null,
            "width": null,
            "min_width": null,
            "border": null,
            "align_items": null,
            "bottom": null,
            "_model_module": "@jupyter-widgets/base",
            "top": null,
            "grid_column": null,
            "overflow_y": null,
            "overflow_x": null,
            "grid_auto_flow": null,
            "grid_area": null,
            "grid_template_columns": null,
            "flex": null,
            "_model_name": "LayoutModel",
            "justify_items": null,
            "grid_row": null,
            "max_height": null,
            "align_content": null,
            "visibility": null,
            "align_self": null,
            "height": null,
            "min_height": null,
            "padding": null,
            "grid_auto_rows": null,
            "grid_gap": null,
            "max_width": null,
            "order": null,
            "_view_module_version": "1.2.0",
            "grid_template_areas": null,
            "object_position": null,
            "object_fit": null,
            "grid_auto_columns": null,
            "margin": null,
            "display": null,
            "left": null
          }
        },
        "1dadb56cbf5744169810887eba15da10": {
          "model_module": "@jupyter-widgets/base",
          "model_name": "LayoutModel",
          "state": {
            "_view_name": "LayoutView",
            "grid_template_rows": null,
            "right": null,
            "justify_content": null,
            "_view_module": "@jupyter-widgets/base",
            "overflow": null,
            "_model_module_version": "1.2.0",
            "_view_count": null,
            "flex_flow": null,
            "width": null,
            "min_width": null,
            "border": null,
            "align_items": null,
            "bottom": null,
            "_model_module": "@jupyter-widgets/base",
            "top": null,
            "grid_column": null,
            "overflow_y": null,
            "overflow_x": null,
            "grid_auto_flow": null,
            "grid_area": null,
            "grid_template_columns": null,
            "flex": null,
            "_model_name": "LayoutModel",
            "justify_items": null,
            "grid_row": null,
            "max_height": null,
            "align_content": null,
            "visibility": null,
            "align_self": null,
            "height": null,
            "min_height": null,
            "padding": null,
            "grid_auto_rows": null,
            "grid_gap": null,
            "max_width": null,
            "order": null,
            "_view_module_version": "1.2.0",
            "grid_template_areas": null,
            "object_position": null,
            "object_fit": null,
            "grid_auto_columns": null,
            "margin": null,
            "display": null,
            "left": null
          }
        },
        "0f533afd175d40adbf369ad29ce1bd9d": {
          "model_module": "@jupyter-widgets/controls",
          "model_name": "VBoxModel",
          "state": {
            "_view_name": "VBoxView",
            "_dom_classes": [
              "widget-interact"
            ],
            "_model_name": "VBoxModel",
            "_view_module": "@jupyter-widgets/controls",
            "_model_module_version": "1.5.0",
            "_view_count": null,
            "_view_module_version": "1.5.0",
            "box_style": "",
            "layout": "IPY_MODEL_57f4f5fe03964c06b66b1b5704f8eae9",
            "_model_module": "@jupyter-widgets/controls",
            "children": [
              "IPY_MODEL_a22ef252392a4851ab5db21c7d9ec9dc",
              "IPY_MODEL_06538fdf24d24f819da2c7d7d96af9a8",
              "IPY_MODEL_745d8bffc4664836b0663146a91d329f",
              "IPY_MODEL_cb2b7da3e4504406b048f88ad6eb1fb0"
            ]
          }
        },
        "57f4f5fe03964c06b66b1b5704f8eae9": {
          "model_module": "@jupyter-widgets/base",
          "model_name": "LayoutModel",
          "state": {
            "_view_name": "LayoutView",
            "grid_template_rows": null,
            "right": null,
            "justify_content": null,
            "_view_module": "@jupyter-widgets/base",
            "overflow": null,
            "_model_module_version": "1.2.0",
            "_view_count": null,
            "flex_flow": null,
            "width": null,
            "min_width": null,
            "border": null,
            "align_items": null,
            "bottom": null,
            "_model_module": "@jupyter-widgets/base",
            "top": null,
            "grid_column": null,
            "overflow_y": null,
            "overflow_x": null,
            "grid_auto_flow": null,
            "grid_area": null,
            "grid_template_columns": null,
            "flex": null,
            "_model_name": "LayoutModel",
            "justify_items": null,
            "grid_row": null,
            "max_height": null,
            "align_content": null,
            "visibility": null,
            "align_self": null,
            "height": null,
            "min_height": null,
            "padding": null,
            "grid_auto_rows": null,
            "grid_gap": null,
            "max_width": null,
            "order": null,
            "_view_module_version": "1.2.0",
            "grid_template_areas": null,
            "object_position": null,
            "object_fit": null,
            "grid_auto_columns": null,
            "margin": null,
            "display": null,
            "left": null
          }
        },
        "a22ef252392a4851ab5db21c7d9ec9dc": {
          "model_module": "@jupyter-widgets/controls",
          "model_name": "IntSliderModel",
          "state": {
            "_view_name": "IntSliderView",
            "style": "IPY_MODEL_ebbbc14e8c1342c586a51e22848c6213",
            "_dom_classes": [],
            "description": "r",
            "step": 1,
            "_model_name": "IntSliderModel",
            "orientation": "horizontal",
            "max": 10,
            "_view_module": "@jupyter-widgets/controls",
            "_model_module_version": "1.5.0",
            "value": 5,
            "_view_count": null,
            "disabled": false,
            "_view_module_version": "1.5.0",
            "min": 1,
            "continuous_update": true,
            "readout_format": "d",
            "description_tooltip": null,
            "readout": true,
            "_model_module": "@jupyter-widgets/controls",
            "layout": "IPY_MODEL_343845dafeb9448bbacdc29adf3866dc"
          }
        },
        "06538fdf24d24f819da2c7d7d96af9a8": {
          "model_module": "@jupyter-widgets/controls",
          "model_name": "FloatSliderModel",
          "state": {
            "_view_name": "FloatSliderView",
            "style": "IPY_MODEL_43b9d0719de94f3c9490d5de69cacc8f",
            "_dom_classes": [],
            "description": "l",
            "step": 0.1,
            "_model_name": "FloatSliderModel",
            "orientation": "horizontal",
            "max": 1,
            "_view_module": "@jupyter-widgets/controls",
            "_model_module_version": "1.5.0",
            "value": 0.5,
            "_view_count": null,
            "disabled": false,
            "_view_module_version": "1.5.0",
            "min": 0.1,
            "continuous_update": true,
            "readout_format": ".2f",
            "description_tooltip": null,
            "readout": true,
            "_model_module": "@jupyter-widgets/controls",
            "layout": "IPY_MODEL_63ba051113954e58b67f0bfefe4b36e0"
          }
        },
        "745d8bffc4664836b0663146a91d329f": {
          "model_module": "@jupyter-widgets/controls",
          "model_name": "FloatSliderModel",
          "state": {
            "_view_name": "FloatSliderView",
            "style": "IPY_MODEL_8c2178c1f56544769fcb8eaf0c89c5cc",
            "_dom_classes": [],
            "description": "c",
            "step": 0.1,
            "_model_name": "FloatSliderModel",
            "orientation": "horizontal",
            "max": 1,
            "_view_module": "@jupyter-widgets/controls",
            "_model_module_version": "1.5.0",
            "value": 0.5,
            "_view_count": null,
            "disabled": false,
            "_view_module_version": "1.5.0",
            "min": 0.1,
            "continuous_update": true,
            "readout_format": ".2f",
            "description_tooltip": null,
            "readout": true,
            "_model_module": "@jupyter-widgets/controls",
            "layout": "IPY_MODEL_06c873270000470980def4746d69a5df"
          }
        },
        "cb2b7da3e4504406b048f88ad6eb1fb0": {
          "model_module": "@jupyter-widgets/output",
          "model_name": "OutputModel",
          "state": {
            "_view_name": "OutputView",
            "msg_id": "",
            "_dom_classes": [],
            "_model_name": "OutputModel",
            "outputs": [
              {
                "output_type": "stream",
                "metadata": {
                  "tags": []
                },
                "text": "/usr/local/lib/python3.6/dist-packages/sympy/plotting/plot.py:890: MatplotlibDeprecationWarning: \nThe set_smart_bounds function was deprecated in Matplotlib 3.2 and will be removed two minor releases later.\n  self.ax.spines['left'].set_smart_bounds(True)\n/usr/local/lib/python3.6/dist-packages/sympy/plotting/plot.py:891: MatplotlibDeprecationWarning: \nThe set_smart_bounds function was deprecated in Matplotlib 3.2 and will be removed two minor releases later.\n  self.ax.spines['bottom'].set_smart_bounds(False)\n",
                "stream": "stderr"
              },
              {
                "output_type": "display_data",
                "metadata": {
                  "tags": [],
                  "needs_background": "light"
                },
                "image/png": "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\n",
                "text/plain": "<Figure size 432x288 with 1 Axes>"
              },
              {
                "output_type": "stream",
                "metadata": {
                  "tags": []
                },
                "text": "y la transformada inversa nos daria como resultado\n",
                "stream": "stdout"
              },
              {
                "output_type": "display_data",
                "metadata": {
                  "tags": []
                },
                "text/plain": "-4*(I*exp(-t/5)*sin(3*sqrt(11)*t/5) - exp(-t/5)*cos(3*sqrt(11)*t/5))*gamma(-6*sqrt(11)*I/5)*gamma(-1/5 - 3*sqrt(11)*I/5)/(gamma(4/5 - 3*sqrt(11)*I/5)*gamma(1 - 6*sqrt(11)*I/5)) + 4*(I*exp(-t/5)*sin(3*sqrt(11)*t/5) + exp(-t/5)*cos(3*sqrt(11)*t/5))*gamma(6*sqrt(11)*I/5)*gamma(-1/5 + 3*sqrt(11)*I/5)/(gamma(4/5 + 3*sqrt(11)*I/5)*gamma(1 + 6*sqrt(11)*I/5)) + 4*gamma(1/5 - 3*sqrt(11)*I/5)*gamma(1/5 + 3*sqrt(11)*I/5)/(gamma(6/5 - 3*sqrt(11)*I/5)*gamma(6/5 + 3*sqrt(11)*I/5))"
              }
            ],
            "_view_module": "@jupyter-widgets/output",
            "_model_module_version": "1.0.0",
            "_view_count": null,
            "_view_module_version": "1.0.0",
            "layout": "IPY_MODEL_7bd0a2d5b5d2432d8379a8d5e81d697f",
            "_model_module": "@jupyter-widgets/output"
          }
        },
        "ebbbc14e8c1342c586a51e22848c6213": {
          "model_module": "@jupyter-widgets/controls",
          "model_name": "SliderStyleModel",
          "state": {
            "_view_name": "StyleView",
            "handle_color": null,
            "_model_name": "SliderStyleModel",
            "description_width": "",
            "_view_module": "@jupyter-widgets/base",
            "_model_module_version": "1.5.0",
            "_view_count": null,
            "_view_module_version": "1.2.0",
            "_model_module": "@jupyter-widgets/controls"
          }
        },
        "343845dafeb9448bbacdc29adf3866dc": {
          "model_module": "@jupyter-widgets/base",
          "model_name": "LayoutModel",
          "state": {
            "_view_name": "LayoutView",
            "grid_template_rows": null,
            "right": null,
            "justify_content": null,
            "_view_module": "@jupyter-widgets/base",
            "overflow": null,
            "_model_module_version": "1.2.0",
            "_view_count": null,
            "flex_flow": null,
            "width": null,
            "min_width": null,
            "border": null,
            "align_items": null,
            "bottom": null,
            "_model_module": "@jupyter-widgets/base",
            "top": null,
            "grid_column": null,
            "overflow_y": null,
            "overflow_x": null,
            "grid_auto_flow": null,
            "grid_area": null,
            "grid_template_columns": null,
            "flex": null,
            "_model_name": "LayoutModel",
            "justify_items": null,
            "grid_row": null,
            "max_height": null,
            "align_content": null,
            "visibility": null,
            "align_self": null,
            "height": null,
            "min_height": null,
            "padding": null,
            "grid_auto_rows": null,
            "grid_gap": null,
            "max_width": null,
            "order": null,
            "_view_module_version": "1.2.0",
            "grid_template_areas": null,
            "object_position": null,
            "object_fit": null,
            "grid_auto_columns": null,
            "margin": null,
            "display": null,
            "left": null
          }
        },
        "43b9d0719de94f3c9490d5de69cacc8f": {
          "model_module": "@jupyter-widgets/controls",
          "model_name": "SliderStyleModel",
          "state": {
            "_view_name": "StyleView",
            "handle_color": null,
            "_model_name": "SliderStyleModel",
            "description_width": "",
            "_view_module": "@jupyter-widgets/base",
            "_model_module_version": "1.5.0",
            "_view_count": null,
            "_view_module_version": "1.2.0",
            "_model_module": "@jupyter-widgets/controls"
          }
        },
        "63ba051113954e58b67f0bfefe4b36e0": {
          "model_module": "@jupyter-widgets/base",
          "model_name": "LayoutModel",
          "state": {
            "_view_name": "LayoutView",
            "grid_template_rows": null,
            "right": null,
            "justify_content": null,
            "_view_module": "@jupyter-widgets/base",
            "overflow": null,
            "_model_module_version": "1.2.0",
            "_view_count": null,
            "flex_flow": null,
            "width": null,
            "min_width": null,
            "border": null,
            "align_items": null,
            "bottom": null,
            "_model_module": "@jupyter-widgets/base",
            "top": null,
            "grid_column": null,
            "overflow_y": null,
            "overflow_x": null,
            "grid_auto_flow": null,
            "grid_area": null,
            "grid_template_columns": null,
            "flex": null,
            "_model_name": "LayoutModel",
            "justify_items": null,
            "grid_row": null,
            "max_height": null,
            "align_content": null,
            "visibility": null,
            "align_self": null,
            "height": null,
            "min_height": null,
            "padding": null,
            "grid_auto_rows": null,
            "grid_gap": null,
            "max_width": null,
            "order": null,
            "_view_module_version": "1.2.0",
            "grid_template_areas": null,
            "object_position": null,
            "object_fit": null,
            "grid_auto_columns": null,
            "margin": null,
            "display": null,
            "left": null
          }
        },
        "8c2178c1f56544769fcb8eaf0c89c5cc": {
          "model_module": "@jupyter-widgets/controls",
          "model_name": "SliderStyleModel",
          "state": {
            "_view_name": "StyleView",
            "handle_color": null,
            "_model_name": "SliderStyleModel",
            "description_width": "",
            "_view_module": "@jupyter-widgets/base",
            "_model_module_version": "1.5.0",
            "_view_count": null,
            "_view_module_version": "1.2.0",
            "_model_module": "@jupyter-widgets/controls"
          }
        },
        "06c873270000470980def4746d69a5df": {
          "model_module": "@jupyter-widgets/base",
          "model_name": "LayoutModel",
          "state": {
            "_view_name": "LayoutView",
            "grid_template_rows": null,
            "right": null,
            "justify_content": null,
            "_view_module": "@jupyter-widgets/base",
            "overflow": null,
            "_model_module_version": "1.2.0",
            "_view_count": null,
            "flex_flow": null,
            "width": null,
            "min_width": null,
            "border": null,
            "align_items": null,
            "bottom": null,
            "_model_module": "@jupyter-widgets/base",
            "top": null,
            "grid_column": null,
            "overflow_y": null,
            "overflow_x": null,
            "grid_auto_flow": null,
            "grid_area": null,
            "grid_template_columns": null,
            "flex": null,
            "_model_name": "LayoutModel",
            "justify_items": null,
            "grid_row": null,
            "max_height": null,
            "align_content": null,
            "visibility": null,
            "align_self": null,
            "height": null,
            "min_height": null,
            "padding": null,
            "grid_auto_rows": null,
            "grid_gap": null,
            "max_width": null,
            "order": null,
            "_view_module_version": "1.2.0",
            "grid_template_areas": null,
            "object_position": null,
            "object_fit": null,
            "grid_auto_columns": null,
            "margin": null,
            "display": null,
            "left": null
          }
        },
        "7bd0a2d5b5d2432d8379a8d5e81d697f": {
          "model_module": "@jupyter-widgets/base",
          "model_name": "LayoutModel",
          "state": {
            "_view_name": "LayoutView",
            "grid_template_rows": null,
            "right": null,
            "justify_content": null,
            "_view_module": "@jupyter-widgets/base",
            "overflow": null,
            "_model_module_version": "1.2.0",
            "_view_count": null,
            "flex_flow": null,
            "width": null,
            "min_width": null,
            "border": null,
            "align_items": null,
            "bottom": null,
            "_model_module": "@jupyter-widgets/base",
            "top": null,
            "grid_column": null,
            "overflow_y": null,
            "overflow_x": null,
            "grid_auto_flow": null,
            "grid_area": null,
            "grid_template_columns": null,
            "flex": null,
            "_model_name": "LayoutModel",
            "justify_items": null,
            "grid_row": null,
            "max_height": null,
            "align_content": null,
            "visibility": null,
            "align_self": null,
            "height": null,
            "min_height": null,
            "padding": null,
            "grid_auto_rows": null,
            "grid_gap": null,
            "max_width": null,
            "order": null,
            "_view_module_version": "1.2.0",
            "grid_template_areas": null,
            "object_position": null,
            "object_fit": null,
            "grid_auto_columns": null,
            "margin": null,
            "display": null,
            "left": null
          }
        },
        "58ce4bfccd004ea5bb6b212907cfc9e3": {
          "model_module": "@jupyter-widgets/controls",
          "model_name": "VBoxModel",
          "state": {
            "_view_name": "VBoxView",
            "_dom_classes": [
              "widget-interact"
            ],
            "_model_name": "VBoxModel",
            "_view_module": "@jupyter-widgets/controls",
            "_model_module_version": "1.5.0",
            "_view_count": null,
            "_view_module_version": "1.5.0",
            "box_style": "",
            "layout": "IPY_MODEL_95ce888b1f134468bfb64b85ee38c671",
            "_model_module": "@jupyter-widgets/controls",
            "children": [
              "IPY_MODEL_8378e36f32d843c39864f43829f4a11c",
              "IPY_MODEL_32ce61f5642c4113aff6efd154e4901f",
              "IPY_MODEL_ed35d2e07a784532bf36069c977d166d",
              "IPY_MODEL_09325df14511428180ddbd93bba307d5"
            ]
          }
        },
        "95ce888b1f134468bfb64b85ee38c671": {
          "model_module": "@jupyter-widgets/base",
          "model_name": "LayoutModel",
          "state": {
            "_view_name": "LayoutView",
            "grid_template_rows": null,
            "right": null,
            "justify_content": null,
            "_view_module": "@jupyter-widgets/base",
            "overflow": null,
            "_model_module_version": "1.2.0",
            "_view_count": null,
            "flex_flow": null,
            "width": null,
            "min_width": null,
            "border": null,
            "align_items": null,
            "bottom": null,
            "_model_module": "@jupyter-widgets/base",
            "top": null,
            "grid_column": null,
            "overflow_y": null,
            "overflow_x": null,
            "grid_auto_flow": null,
            "grid_area": null,
            "grid_template_columns": null,
            "flex": null,
            "_model_name": "LayoutModel",
            "justify_items": null,
            "grid_row": null,
            "max_height": null,
            "align_content": null,
            "visibility": null,
            "align_self": null,
            "height": null,
            "min_height": null,
            "padding": null,
            "grid_auto_rows": null,
            "grid_gap": null,
            "max_width": null,
            "order": null,
            "_view_module_version": "1.2.0",
            "grid_template_areas": null,
            "object_position": null,
            "object_fit": null,
            "grid_auto_columns": null,
            "margin": null,
            "display": null,
            "left": null
          }
        },
        "8378e36f32d843c39864f43829f4a11c": {
          "model_module": "@jupyter-widgets/controls",
          "model_name": "IntSliderModel",
          "state": {
            "_view_name": "IntSliderView",
            "style": "IPY_MODEL_a0488f05487640498426e6e59cfc2464",
            "_dom_classes": [],
            "description": "r",
            "step": 1,
            "_model_name": "IntSliderModel",
            "orientation": "horizontal",
            "max": 10,
            "_view_module": "@jupyter-widgets/controls",
            "_model_module_version": "1.5.0",
            "value": 5,
            "_view_count": null,
            "disabled": false,
            "_view_module_version": "1.5.0",
            "min": 1,
            "continuous_update": true,
            "readout_format": "d",
            "description_tooltip": null,
            "readout": true,
            "_model_module": "@jupyter-widgets/controls",
            "layout": "IPY_MODEL_c2a3ec935dc34d07b014bfea423d9ab7"
          }
        },
        "32ce61f5642c4113aff6efd154e4901f": {
          "model_module": "@jupyter-widgets/controls",
          "model_name": "FloatSliderModel",
          "state": {
            "_view_name": "FloatSliderView",
            "style": "IPY_MODEL_fe6735ef1502452eae1c497aeb26d54c",
            "_dom_classes": [],
            "description": "l",
            "step": 0.1,
            "_model_name": "FloatSliderModel",
            "orientation": "horizontal",
            "max": 1,
            "_view_module": "@jupyter-widgets/controls",
            "_model_module_version": "1.5.0",
            "value": 0.5,
            "_view_count": null,
            "disabled": false,
            "_view_module_version": "1.5.0",
            "min": 0.1,
            "continuous_update": true,
            "readout_format": ".2f",
            "description_tooltip": null,
            "readout": true,
            "_model_module": "@jupyter-widgets/controls",
            "layout": "IPY_MODEL_5368a932ef9543d2807d9d6be248453d"
          }
        },
        "ed35d2e07a784532bf36069c977d166d": {
          "model_module": "@jupyter-widgets/controls",
          "model_name": "FloatSliderModel",
          "state": {
            "_view_name": "FloatSliderView",
            "style": "IPY_MODEL_af7eeab5e0974ffb81f8714192adb4de",
            "_dom_classes": [],
            "description": "c",
            "step": 0.1,
            "_model_name": "FloatSliderModel",
            "orientation": "horizontal",
            "max": 1,
            "_view_module": "@jupyter-widgets/controls",
            "_model_module_version": "1.5.0",
            "value": 0.5,
            "_view_count": null,
            "disabled": false,
            "_view_module_version": "1.5.0",
            "min": 0.1,
            "continuous_update": true,
            "readout_format": ".2f",
            "description_tooltip": null,
            "readout": true,
            "_model_module": "@jupyter-widgets/controls",
            "layout": "IPY_MODEL_d25044806f8e4f9b858dfb5a37bdb062"
          }
        },
        "09325df14511428180ddbd93bba307d5": {
          "model_module": "@jupyter-widgets/output",
          "model_name": "OutputModel",
          "state": {
            "_view_name": "OutputView",
            "msg_id": "",
            "_dom_classes": [],
            "_model_name": "OutputModel",
            "outputs": [
              {
                "output_type": "display_data",
                "metadata": {
                  "tags": []
                },
                "text/plain": "InverseLaplaceTransform(1/(s**4/4 + 5*s**3/2 + s**2), s, t, _None)"
              }
            ],
            "_view_module": "@jupyter-widgets/output",
            "_model_module_version": "1.0.0",
            "_view_count": null,
            "_view_module_version": "1.0.0",
            "layout": "IPY_MODEL_f8ac1aa8582d47f49de3a8b990e8e096",
            "_model_module": "@jupyter-widgets/output"
          }
        },
        "a0488f05487640498426e6e59cfc2464": {
          "model_module": "@jupyter-widgets/controls",
          "model_name": "SliderStyleModel",
          "state": {
            "_view_name": "StyleView",
            "handle_color": null,
            "_model_name": "SliderStyleModel",
            "description_width": "",
            "_view_module": "@jupyter-widgets/base",
            "_model_module_version": "1.5.0",
            "_view_count": null,
            "_view_module_version": "1.2.0",
            "_model_module": "@jupyter-widgets/controls"
          }
        },
        "c2a3ec935dc34d07b014bfea423d9ab7": {
          "model_module": "@jupyter-widgets/base",
          "model_name": "LayoutModel",
          "state": {
            "_view_name": "LayoutView",
            "grid_template_rows": null,
            "right": null,
            "justify_content": null,
            "_view_module": "@jupyter-widgets/base",
            "overflow": null,
            "_model_module_version": "1.2.0",
            "_view_count": null,
            "flex_flow": null,
            "width": null,
            "min_width": null,
            "border": null,
            "align_items": null,
            "bottom": null,
            "_model_module": "@jupyter-widgets/base",
            "top": null,
            "grid_column": null,
            "overflow_y": null,
            "overflow_x": null,
            "grid_auto_flow": null,
            "grid_area": null,
            "grid_template_columns": null,
            "flex": null,
            "_model_name": "LayoutModel",
            "justify_items": null,
            "grid_row": null,
            "max_height": null,
            "align_content": null,
            "visibility": null,
            "align_self": null,
            "height": null,
            "min_height": null,
            "padding": null,
            "grid_auto_rows": null,
            "grid_gap": null,
            "max_width": null,
            "order": null,
            "_view_module_version": "1.2.0",
            "grid_template_areas": null,
            "object_position": null,
            "object_fit": null,
            "grid_auto_columns": null,
            "margin": null,
            "display": null,
            "left": null
          }
        },
        "fe6735ef1502452eae1c497aeb26d54c": {
          "model_module": "@jupyter-widgets/controls",
          "model_name": "SliderStyleModel",
          "state": {
            "_view_name": "StyleView",
            "handle_color": null,
            "_model_name": "SliderStyleModel",
            "description_width": "",
            "_view_module": "@jupyter-widgets/base",
            "_model_module_version": "1.5.0",
            "_view_count": null,
            "_view_module_version": "1.2.0",
            "_model_module": "@jupyter-widgets/controls"
          }
        },
        "5368a932ef9543d2807d9d6be248453d": {
          "model_module": "@jupyter-widgets/base",
          "model_name": "LayoutModel",
          "state": {
            "_view_name": "LayoutView",
            "grid_template_rows": null,
            "right": null,
            "justify_content": null,
            "_view_module": "@jupyter-widgets/base",
            "overflow": null,
            "_model_module_version": "1.2.0",
            "_view_count": null,
            "flex_flow": null,
            "width": null,
            "min_width": null,
            "border": null,
            "align_items": null,
            "bottom": null,
            "_model_module": "@jupyter-widgets/base",
            "top": null,
            "grid_column": null,
            "overflow_y": null,
            "overflow_x": null,
            "grid_auto_flow": null,
            "grid_area": null,
            "grid_template_columns": null,
            "flex": null,
            "_model_name": "LayoutModel",
            "justify_items": null,
            "grid_row": null,
            "max_height": null,
            "align_content": null,
            "visibility": null,
            "align_self": null,
            "height": null,
            "min_height": null,
            "padding": null,
            "grid_auto_rows": null,
            "grid_gap": null,
            "max_width": null,
            "order": null,
            "_view_module_version": "1.2.0",
            "grid_template_areas": null,
            "object_position": null,
            "object_fit": null,
            "grid_auto_columns": null,
            "margin": null,
            "display": null,
            "left": null
          }
        },
        "af7eeab5e0974ffb81f8714192adb4de": {
          "model_module": "@jupyter-widgets/controls",
          "model_name": "SliderStyleModel",
          "state": {
            "_view_name": "StyleView",
            "handle_color": null,
            "_model_name": "SliderStyleModel",
            "description_width": "",
            "_view_module": "@jupyter-widgets/base",
            "_model_module_version": "1.5.0",
            "_view_count": null,
            "_view_module_version": "1.2.0",
            "_model_module": "@jupyter-widgets/controls"
          }
        },
        "d25044806f8e4f9b858dfb5a37bdb062": {
          "model_module": "@jupyter-widgets/base",
          "model_name": "LayoutModel",
          "state": {
            "_view_name": "LayoutView",
            "grid_template_rows": null,
            "right": null,
            "justify_content": null,
            "_view_module": "@jupyter-widgets/base",
            "overflow": null,
            "_model_module_version": "1.2.0",
            "_view_count": null,
            "flex_flow": null,
            "width": null,
            "min_width": null,
            "border": null,
            "align_items": null,
            "bottom": null,
            "_model_module": "@jupyter-widgets/base",
            "top": null,
            "grid_column": null,
            "overflow_y": null,
            "overflow_x": null,
            "grid_auto_flow": null,
            "grid_area": null,
            "grid_template_columns": null,
            "flex": null,
            "_model_name": "LayoutModel",
            "justify_items": null,
            "grid_row": null,
            "max_height": null,
            "align_content": null,
            "visibility": null,
            "align_self": null,
            "height": null,
            "min_height": null,
            "padding": null,
            "grid_auto_rows": null,
            "grid_gap": null,
            "max_width": null,
            "order": null,
            "_view_module_version": "1.2.0",
            "grid_template_areas": null,
            "object_position": null,
            "object_fit": null,
            "grid_auto_columns": null,
            "margin": null,
            "display": null,
            "left": null
          }
        },
        "f8ac1aa8582d47f49de3a8b990e8e096": {
          "model_module": "@jupyter-widgets/base",
          "model_name": "LayoutModel",
          "state": {
            "_view_name": "LayoutView",
            "grid_template_rows": null,
            "right": null,
            "justify_content": null,
            "_view_module": "@jupyter-widgets/base",
            "overflow": null,
            "_model_module_version": "1.2.0",
            "_view_count": null,
            "flex_flow": null,
            "width": null,
            "min_width": null,
            "border": null,
            "align_items": null,
            "bottom": null,
            "_model_module": "@jupyter-widgets/base",
            "top": null,
            "grid_column": null,
            "overflow_y": null,
            "overflow_x": null,
            "grid_auto_flow": null,
            "grid_area": null,
            "grid_template_columns": null,
            "flex": null,
            "_model_name": "LayoutModel",
            "justify_items": null,
            "grid_row": null,
            "max_height": null,
            "align_content": null,
            "visibility": null,
            "align_self": null,
            "height": null,
            "min_height": null,
            "padding": null,
            "grid_auto_rows": null,
            "grid_gap": null,
            "max_width": null,
            "order": null,
            "_view_module_version": "1.2.0",
            "grid_template_areas": null,
            "object_position": null,
            "object_fit": null,
            "grid_auto_columns": null,
            "margin": null,
            "display": null,
            "left": null
          }
        },
        "7da7f98290474f07972ee856688765c3": {
          "model_module": "@jupyter-widgets/controls",
          "model_name": "VBoxModel",
          "state": {
            "_view_name": "VBoxView",
            "_dom_classes": [
              "widget-interact"
            ],
            "_model_name": "VBoxModel",
            "_view_module": "@jupyter-widgets/controls",
            "_model_module_version": "1.5.0",
            "_view_count": null,
            "_view_module_version": "1.5.0",
            "box_style": "",
            "layout": "IPY_MODEL_fb35bc9336044fb1a5142f16653342e3",
            "_model_module": "@jupyter-widgets/controls",
            "children": [
              "IPY_MODEL_76ab7761f56f45798a4953e19726f7e4",
              "IPY_MODEL_5746557a2a8a457980daa8174bb86b01",
              "IPY_MODEL_d63b943d8e004db6aeb208158e36fcb8",
              "IPY_MODEL_7cc24557c43e4999b1e0904c3fcb33c2"
            ]
          }
        },
        "fb35bc9336044fb1a5142f16653342e3": {
          "model_module": "@jupyter-widgets/base",
          "model_name": "LayoutModel",
          "state": {
            "_view_name": "LayoutView",
            "grid_template_rows": null,
            "right": null,
            "justify_content": null,
            "_view_module": "@jupyter-widgets/base",
            "overflow": null,
            "_model_module_version": "1.2.0",
            "_view_count": null,
            "flex_flow": null,
            "width": null,
            "min_width": null,
            "border": null,
            "align_items": null,
            "bottom": null,
            "_model_module": "@jupyter-widgets/base",
            "top": null,
            "grid_column": null,
            "overflow_y": null,
            "overflow_x": null,
            "grid_auto_flow": null,
            "grid_area": null,
            "grid_template_columns": null,
            "flex": null,
            "_model_name": "LayoutModel",
            "justify_items": null,
            "grid_row": null,
            "max_height": null,
            "align_content": null,
            "visibility": null,
            "align_self": null,
            "height": null,
            "min_height": null,
            "padding": null,
            "grid_auto_rows": null,
            "grid_gap": null,
            "max_width": null,
            "order": null,
            "_view_module_version": "1.2.0",
            "grid_template_areas": null,
            "object_position": null,
            "object_fit": null,
            "grid_auto_columns": null,
            "margin": null,
            "display": null,
            "left": null
          }
        },
        "76ab7761f56f45798a4953e19726f7e4": {
          "model_module": "@jupyter-widgets/controls",
          "model_name": "IntSliderModel",
          "state": {
            "_view_name": "IntSliderView",
            "style": "IPY_MODEL_205691faa20f40afb99d1dafacb39bda",
            "_dom_classes": [],
            "description": "r",
            "step": 1,
            "_model_name": "IntSliderModel",
            "orientation": "horizontal",
            "max": 10,
            "_view_module": "@jupyter-widgets/controls",
            "_model_module_version": "1.5.0",
            "value": 5,
            "_view_count": null,
            "disabled": false,
            "_view_module_version": "1.5.0",
            "min": 1,
            "continuous_update": true,
            "readout_format": "d",
            "description_tooltip": null,
            "readout": true,
            "_model_module": "@jupyter-widgets/controls",
            "layout": "IPY_MODEL_2dcc79303b394d1ca59a95cead7ab748"
          }
        },
        "5746557a2a8a457980daa8174bb86b01": {
          "model_module": "@jupyter-widgets/controls",
          "model_name": "FloatSliderModel",
          "state": {
            "_view_name": "FloatSliderView",
            "style": "IPY_MODEL_ffd2581a69c0405687223859e58a7f16",
            "_dom_classes": [],
            "description": "l",
            "step": 0.1,
            "_model_name": "FloatSliderModel",
            "orientation": "horizontal",
            "max": 1,
            "_view_module": "@jupyter-widgets/controls",
            "_model_module_version": "1.5.0",
            "value": 0.5,
            "_view_count": null,
            "disabled": false,
            "_view_module_version": "1.5.0",
            "min": 0.1,
            "continuous_update": true,
            "readout_format": ".2f",
            "description_tooltip": null,
            "readout": true,
            "_model_module": "@jupyter-widgets/controls",
            "layout": "IPY_MODEL_daea98362836471cb46f920258f4eaa6"
          }
        },
        "d63b943d8e004db6aeb208158e36fcb8": {
          "model_module": "@jupyter-widgets/controls",
          "model_name": "FloatSliderModel",
          "state": {
            "_view_name": "FloatSliderView",
            "style": "IPY_MODEL_544ad20f591b436688f74367ea9ad7fe",
            "_dom_classes": [],
            "description": "c",
            "step": 0.1,
            "_model_name": "FloatSliderModel",
            "orientation": "horizontal",
            "max": 1,
            "_view_module": "@jupyter-widgets/controls",
            "_model_module_version": "1.5.0",
            "value": 0.5,
            "_view_count": null,
            "disabled": false,
            "_view_module_version": "1.5.0",
            "min": 0.1,
            "continuous_update": true,
            "readout_format": ".2f",
            "description_tooltip": null,
            "readout": true,
            "_model_module": "@jupyter-widgets/controls",
            "layout": "IPY_MODEL_686f889ea24f4d22ab2cd8ef1f9f0cdf"
          }
        },
        "7cc24557c43e4999b1e0904c3fcb33c2": {
          "model_module": "@jupyter-widgets/output",
          "model_name": "OutputModel",
          "state": {
            "_view_name": "OutputView",
            "msg_id": "",
            "_dom_classes": [],
            "_model_name": "OutputModel",
            "outputs": [
              {
                "output_type": "display_data",
                "metadata": {
                  "tags": []
                },
                "text/plain": "InverseLaplaceTransform(1/(s**4/4 + s**3/10 + s**2), s, t, _None)"
              }
            ],
            "_view_module": "@jupyter-widgets/output",
            "_model_module_version": "1.0.0",
            "_view_count": null,
            "_view_module_version": "1.0.0",
            "layout": "IPY_MODEL_2be83f761d414213ada14b3a546892a7",
            "_model_module": "@jupyter-widgets/output"
          }
        },
        "205691faa20f40afb99d1dafacb39bda": {
          "model_module": "@jupyter-widgets/controls",
          "model_name": "SliderStyleModel",
          "state": {
            "_view_name": "StyleView",
            "handle_color": null,
            "_model_name": "SliderStyleModel",
            "description_width": "",
            "_view_module": "@jupyter-widgets/base",
            "_model_module_version": "1.5.0",
            "_view_count": null,
            "_view_module_version": "1.2.0",
            "_model_module": "@jupyter-widgets/controls"
          }
        },
        "2dcc79303b394d1ca59a95cead7ab748": {
          "model_module": "@jupyter-widgets/base",
          "model_name": "LayoutModel",
          "state": {
            "_view_name": "LayoutView",
            "grid_template_rows": null,
            "right": null,
            "justify_content": null,
            "_view_module": "@jupyter-widgets/base",
            "overflow": null,
            "_model_module_version": "1.2.0",
            "_view_count": null,
            "flex_flow": null,
            "width": null,
            "min_width": null,
            "border": null,
            "align_items": null,
            "bottom": null,
            "_model_module": "@jupyter-widgets/base",
            "top": null,
            "grid_column": null,
            "overflow_y": null,
            "overflow_x": null,
            "grid_auto_flow": null,
            "grid_area": null,
            "grid_template_columns": null,
            "flex": null,
            "_model_name": "LayoutModel",
            "justify_items": null,
            "grid_row": null,
            "max_height": null,
            "align_content": null,
            "visibility": null,
            "align_self": null,
            "height": null,
            "min_height": null,
            "padding": null,
            "grid_auto_rows": null,
            "grid_gap": null,
            "max_width": null,
            "order": null,
            "_view_module_version": "1.2.0",
            "grid_template_areas": null,
            "object_position": null,
            "object_fit": null,
            "grid_auto_columns": null,
            "margin": null,
            "display": null,
            "left": null
          }
        },
        "ffd2581a69c0405687223859e58a7f16": {
          "model_module": "@jupyter-widgets/controls",
          "model_name": "SliderStyleModel",
          "state": {
            "_view_name": "StyleView",
            "handle_color": null,
            "_model_name": "SliderStyleModel",
            "description_width": "",
            "_view_module": "@jupyter-widgets/base",
            "_model_module_version": "1.5.0",
            "_view_count": null,
            "_view_module_version": "1.2.0",
            "_model_module": "@jupyter-widgets/controls"
          }
        },
        "daea98362836471cb46f920258f4eaa6": {
          "model_module": "@jupyter-widgets/base",
          "model_name": "LayoutModel",
          "state": {
            "_view_name": "LayoutView",
            "grid_template_rows": null,
            "right": null,
            "justify_content": null,
            "_view_module": "@jupyter-widgets/base",
            "overflow": null,
            "_model_module_version": "1.2.0",
            "_view_count": null,
            "flex_flow": null,
            "width": null,
            "min_width": null,
            "border": null,
            "align_items": null,
            "bottom": null,
            "_model_module": "@jupyter-widgets/base",
            "top": null,
            "grid_column": null,
            "overflow_y": null,
            "overflow_x": null,
            "grid_auto_flow": null,
            "grid_area": null,
            "grid_template_columns": null,
            "flex": null,
            "_model_name": "LayoutModel",
            "justify_items": null,
            "grid_row": null,
            "max_height": null,
            "align_content": null,
            "visibility": null,
            "align_self": null,
            "height": null,
            "min_height": null,
            "padding": null,
            "grid_auto_rows": null,
            "grid_gap": null,
            "max_width": null,
            "order": null,
            "_view_module_version": "1.2.0",
            "grid_template_areas": null,
            "object_position": null,
            "object_fit": null,
            "grid_auto_columns": null,
            "margin": null,
            "display": null,
            "left": null
          }
        },
        "544ad20f591b436688f74367ea9ad7fe": {
          "model_module": "@jupyter-widgets/controls",
          "model_name": "SliderStyleModel",
          "state": {
            "_view_name": "StyleView",
            "handle_color": null,
            "_model_name": "SliderStyleModel",
            "description_width": "",
            "_view_module": "@jupyter-widgets/base",
            "_model_module_version": "1.5.0",
            "_view_count": null,
            "_view_module_version": "1.2.0",
            "_model_module": "@jupyter-widgets/controls"
          }
        },
        "686f889ea24f4d22ab2cd8ef1f9f0cdf": {
          "model_module": "@jupyter-widgets/base",
          "model_name": "LayoutModel",
          "state": {
            "_view_name": "LayoutView",
            "grid_template_rows": null,
            "right": null,
            "justify_content": null,
            "_view_module": "@jupyter-widgets/base",
            "overflow": null,
            "_model_module_version": "1.2.0",
            "_view_count": null,
            "flex_flow": null,
            "width": null,
            "min_width": null,
            "border": null,
            "align_items": null,
            "bottom": null,
            "_model_module": "@jupyter-widgets/base",
            "top": null,
            "grid_column": null,
            "overflow_y": null,
            "overflow_x": null,
            "grid_auto_flow": null,
            "grid_area": null,
            "grid_template_columns": null,
            "flex": null,
            "_model_name": "LayoutModel",
            "justify_items": null,
            "grid_row": null,
            "max_height": null,
            "align_content": null,
            "visibility": null,
            "align_self": null,
            "height": null,
            "min_height": null,
            "padding": null,
            "grid_auto_rows": null,
            "grid_gap": null,
            "max_width": null,
            "order": null,
            "_view_module_version": "1.2.0",
            "grid_template_areas": null,
            "object_position": null,
            "object_fit": null,
            "grid_auto_columns": null,
            "margin": null,
            "display": null,
            "left": null
          }
        },
        "2be83f761d414213ada14b3a546892a7": {
          "model_module": "@jupyter-widgets/base",
          "model_name": "LayoutModel",
          "state": {
            "_view_name": "LayoutView",
            "grid_template_rows": null,
            "right": null,
            "justify_content": null,
            "_view_module": "@jupyter-widgets/base",
            "overflow": null,
            "_model_module_version": "1.2.0",
            "_view_count": null,
            "flex_flow": null,
            "width": null,
            "min_width": null,
            "border": null,
            "align_items": null,
            "bottom": null,
            "_model_module": "@jupyter-widgets/base",
            "top": null,
            "grid_column": null,
            "overflow_y": null,
            "overflow_x": null,
            "grid_auto_flow": null,
            "grid_area": null,
            "grid_template_columns": null,
            "flex": null,
            "_model_name": "LayoutModel",
            "justify_items": null,
            "grid_row": null,
            "max_height": null,
            "align_content": null,
            "visibility": null,
            "align_self": null,
            "height": null,
            "min_height": null,
            "padding": null,
            "grid_auto_rows": null,
            "grid_gap": null,
            "max_width": null,
            "order": null,
            "_view_module_version": "1.2.0",
            "grid_template_areas": null,
            "object_position": null,
            "object_fit": null,
            "grid_auto_columns": null,
            "margin": null,
            "display": null,
            "left": null
          }
        },
        "8a13e0b8f40d4f988d430f8b302bbbde": {
          "model_module": "@jupyter-widgets/controls",
          "model_name": "VBoxModel",
          "state": {
            "_view_name": "VBoxView",
            "_dom_classes": [
              "widget-interact"
            ],
            "_model_name": "VBoxModel",
            "_view_module": "@jupyter-widgets/controls",
            "_model_module_version": "1.5.0",
            "_view_count": null,
            "_view_module_version": "1.5.0",
            "box_style": "",
            "layout": "IPY_MODEL_f76e038b53d74b3b82b880902b74d15e",
            "_model_module": "@jupyter-widgets/controls",
            "children": [
              "IPY_MODEL_d64a5b89105c4e058c612139e864c3d9",
              "IPY_MODEL_c9f7d5ed942f4601a03ce86c8f141f37",
              "IPY_MODEL_8946ec8ebaee4a09bcdf9a07155e9bdc",
              "IPY_MODEL_7130dc075fce4f6fa4e59df19bee096a",
              "IPY_MODEL_26ead81b7d5e41b1b3ad5204b0d12d7c"
            ]
          }
        },
        "f76e038b53d74b3b82b880902b74d15e": {
          "model_module": "@jupyter-widgets/base",
          "model_name": "LayoutModel",
          "state": {
            "_view_name": "LayoutView",
            "grid_template_rows": null,
            "right": null,
            "justify_content": null,
            "_view_module": "@jupyter-widgets/base",
            "overflow": null,
            "_model_module_version": "1.2.0",
            "_view_count": null,
            "flex_flow": null,
            "width": null,
            "min_width": null,
            "border": null,
            "align_items": null,
            "bottom": null,
            "_model_module": "@jupyter-widgets/base",
            "top": null,
            "grid_column": null,
            "overflow_y": null,
            "overflow_x": null,
            "grid_auto_flow": null,
            "grid_area": null,
            "grid_template_columns": null,
            "flex": null,
            "_model_name": "LayoutModel",
            "justify_items": null,
            "grid_row": null,
            "max_height": null,
            "align_content": null,
            "visibility": null,
            "align_self": null,
            "height": null,
            "min_height": null,
            "padding": null,
            "grid_auto_rows": null,
            "grid_gap": null,
            "max_width": null,
            "order": null,
            "_view_module_version": "1.2.0",
            "grid_template_areas": null,
            "object_position": null,
            "object_fit": null,
            "grid_auto_columns": null,
            "margin": null,
            "display": null,
            "left": null
          }
        },
        "d64a5b89105c4e058c612139e864c3d9": {
          "model_module": "@jupyter-widgets/controls",
          "model_name": "IntSliderModel",
          "state": {
            "_view_name": "IntSliderView",
            "style": "IPY_MODEL_4db063b97cd94186b0d3a27748284be6",
            "_dom_classes": [],
            "description": "R",
            "step": 1,
            "_model_name": "IntSliderModel",
            "orientation": "horizontal",
            "max": 10,
            "_view_module": "@jupyter-widgets/controls",
            "_model_module_version": "1.5.0",
            "value": 5,
            "_view_count": null,
            "disabled": false,
            "_view_module_version": "1.5.0",
            "min": 0,
            "continuous_update": true,
            "readout_format": "d",
            "description_tooltip": null,
            "readout": true,
            "_model_module": "@jupyter-widgets/controls",
            "layout": "IPY_MODEL_9f5d232ef2954ea68e8fd3bac90c982e"
          }
        },
        "c9f7d5ed942f4601a03ce86c8f141f37": {
          "model_module": "@jupyter-widgets/controls",
          "model_name": "IntSliderModel",
          "state": {
            "_view_name": "IntSliderView",
            "style": "IPY_MODEL_ab1dd5dfd2754498b8c953712401a853",
            "_dom_classes": [],
            "description": "L",
            "step": 1,
            "_model_name": "IntSliderModel",
            "orientation": "horizontal",
            "max": 10,
            "_view_module": "@jupyter-widgets/controls",
            "_model_module_version": "1.5.0",
            "value": 5,
            "_view_count": null,
            "disabled": false,
            "_view_module_version": "1.5.0",
            "min": 0,
            "continuous_update": true,
            "readout_format": "d",
            "description_tooltip": null,
            "readout": true,
            "_model_module": "@jupyter-widgets/controls",
            "layout": "IPY_MODEL_15967685b8ad47a8a3caab53c198d195"
          }
        },
        "8946ec8ebaee4a09bcdf9a07155e9bdc": {
          "model_module": "@jupyter-widgets/controls",
          "model_name": "IntSliderModel",
          "state": {
            "_view_name": "IntSliderView",
            "style": "IPY_MODEL_1d2184ab4ee740a394eade818d9427d6",
            "_dom_classes": [],
            "description": "C",
            "step": 1,
            "_model_name": "IntSliderModel",
            "orientation": "horizontal",
            "max": 10,
            "_view_module": "@jupyter-widgets/controls",
            "_model_module_version": "1.5.0",
            "value": 5,
            "_view_count": null,
            "disabled": false,
            "_view_module_version": "1.5.0",
            "min": 0,
            "continuous_update": true,
            "readout_format": "d",
            "description_tooltip": null,
            "readout": true,
            "_model_module": "@jupyter-widgets/controls",
            "layout": "IPY_MODEL_40c66ec65ac4440ea6358246366ad698"
          }
        },
        "7130dc075fce4f6fa4e59df19bee096a": {
          "model_module": "@jupyter-widgets/controls",
          "model_name": "IntSliderModel",
          "state": {
            "_view_name": "IntSliderView",
            "style": "IPY_MODEL_c9cdbcc76e6f4a5a82fac41873a5469a",
            "_dom_classes": [],
            "description": "K",
            "step": 1,
            "_model_name": "IntSliderModel",
            "orientation": "horizontal",
            "max": 10,
            "_view_module": "@jupyter-widgets/controls",
            "_model_module_version": "1.5.0",
            "value": 5,
            "_view_count": null,
            "disabled": false,
            "_view_module_version": "1.5.0",
            "min": 0,
            "continuous_update": true,
            "readout_format": "d",
            "description_tooltip": null,
            "readout": true,
            "_model_module": "@jupyter-widgets/controls",
            "layout": "IPY_MODEL_b08a026e554d4dc0acaef5645c0ca44b"
          }
        },
        "26ead81b7d5e41b1b3ad5204b0d12d7c": {
          "model_module": "@jupyter-widgets/output",
          "model_name": "OutputModel",
          "state": {
            "_view_name": "OutputView",
            "msg_id": "",
            "_dom_classes": [],
            "_model_name": "OutputModel",
            "outputs": [
              {
                "output_type": "stream",
                "metadata": {
                  "tags": []
                },
                "text": "Sistema sobre amortiguado\n",
                "stream": "stdout"
              },
              {
                "output_type": "stream",
                "metadata": {
                  "tags": []
                },
                "text": "/usr/local/lib/python3.6/dist-packages/sympy/plotting/plot.py:890: MatplotlibDeprecationWarning: \nThe set_smart_bounds function was deprecated in Matplotlib 3.2 and will be removed two minor releases later.\n  self.ax.spines['left'].set_smart_bounds(True)\n/usr/local/lib/python3.6/dist-packages/sympy/plotting/plot.py:891: MatplotlibDeprecationWarning: \nThe set_smart_bounds function was deprecated in Matplotlib 3.2 and will be removed two minor releases later.\n  self.ax.spines['bottom'].set_smart_bounds(False)\n",
                "stream": "stderr"
              },
              {
                "output_type": "display_data",
                "metadata": {
                  "tags": [],
                  "needs_background": "light"
                },
                "image/png": "iVBORw0KGgoAAAANSUhEUgAAAYsAAAEOCAYAAAB4nTvgAAAABHNCSVQICAgIfAhkiAAAAAlwSFlzAAALEgAACxIB0t1+/AAAADh0RVh0U29mdHdhcmUAbWF0cGxvdGxpYiB2ZXJzaW9uMy4yLjIsIGh0dHA6Ly9tYXRwbG90bGliLm9yZy+WH4yJAAAWHElEQVR4nO3df3AcZ33H8c/HkmzLPxXbsklsBxswBUNhwrhJ2rQMU2gnQCfpTDs0YWiBMuSPEkoL0za0Heik/0DpAO1M+sNtKYXSpGlgWg+4TTtpgBmmCTEEQuKQYEyw5Ti2LOkkWXeSTtK3f9zKulxOvpN02pVu368ZTW739na/2onvo2effZ51RAgAgMtZk3UBAICVj7AAADREWAAAGiIsAAANERYAgIYICwBAQ4QFAKAhwgIA0NCCw8L2Rtsdy1EMAGBlahgWttfYfrvtr9g+L+n7ks7aPm77E7ZftvxlAgCy1EzL4kFJL5X0YUkvioi9EbFT0s9KekjSx22/43I7sP0Z2+dtPz7P+7b9l7ZP2H7M9usW+HsAAJaRG80NZbsrIsq290XEM5fb5jL7eL2ki5I+FxGvrvP+WyS9X9JbJF0n6S8i4rrmfw0AwHJq2LKoCoEv1b5n+/qabebbx9clDV5mk5tVCZKIiIck9di+slFtAIB0NNNn8TbbH5O02fYrbVd/5nCL6tgt6XTVcl+yrl49t9k+ZvvYq171qpC0LD9/+cAPYt8dX4ny9MyyHYMffvjhJ6OfBWumz+Ibko5LukLSJyWdsP1t21+WVFrMQZciIg5HxKGIONTd3b1sxxkplbVhbYe6Ori7GAA6G20QEWckfc72DyPiG5Jke7ukfarcGdUKZyTtrVrek6zLzMh4WVvWd2VZAgCsGM1chrIkzQZF8nogIr4VEWPV2yzBEUm/kdwVdb2k4Yg4u8R9LslIaUpbuhtmKQDkQjPfhg/a/qKk/4iIU7Mrba9V5fbZd6pye+1n59uB7bslvUHSDtt9kj4qqUuSIuJvJB1V5U6oE5KKkt69iN+lpWhZAMCcZsLiRkm/Kelu2y+RNCSpW5VWyX9L+nREPHq5HUTErQ3eD0nva6rilIyMl7Vz8/qsywCAFaGZsPiUpMck/YEqfRRdkkoRUVjOwrI2OTWjLeu5DAUAUnNh8aikn5R0i6RXSRqT9Jjt70l6LCLuWcb6MnNuZELX7ycsAEBq7m6o542lsL1HlfB4jaS3Smq7sJieCY2Ml9WzcV3WpQDAirDgP50jok+VQXP/2fpyVobR8bIipJ5uOrgBQOJ5FnUNlyqzl2wlLABAEmFRV6FYCYueDYQFAEiERV2FEmEBANUIizoKxUlJ0tbutRlXAgArA2FRxwh9FgDwPIRFHbN9FoQFAFQQFnUUSmVtXNuhtZ2cHgCQCIu6CsWyejbQXwEAswiLOoZLZW3hEhQAXEJY1DFcmmT0NgBUISzqqFyGIiwAYBZhUUehRFgAQDXCokZEaLhInwUAVCMsaoyXZzQ5PaMeRm8DwCWERY1CqTLVB5ehAGAOYVHj0oyzXIYCgEsIixqXpvqgZQEAlxAWNXjwEQC8EGFRY/hSnwUd3AAwi7CoQZ8FALwQYVGjUCqrq8PasLYj61IAYMUgLGoMl8ra2t0l21mXAgArBmFRY7hYpnMbAGoQFjUKpUk6twGgBmFRo1As07kNADUIixqzfRYAgDmERY3hYpnR2wBQg7CoUp6e0ejEFDPOAkANwqLKSDLVBzPOAsDzERZVCoQFANRFWFSZnUSQp+QBwPOlFha2b7T9lO0Ttu+o8/7Vth+0/ajtx2y/Ja3aZg0zLxQA1JVKWNjukHSXpDdLOijpVtsHazb7Y0n3RsQ1km6R9Fdp1FatwIyzAFBXWi2LayWdiIiTETEp6R5JN9dsE5K2JK+3Sno2pdouYcZZAKgvrbDYLel01XJfsq7an0h6h+0+SUclvb/ejmzfZvuY7WP9/f0tLZI+CwCobyV1cN8q6bMRsUfSWyR93vYL6ouIwxFxKCIO9fb2trSAQrGszes71bGGGWcBoFpaYXFG0t6q5T3JumrvkXSvJEXE/0laL2lHKtUlhktlbpsFgDrSCotHJB2wvd/2WlU6sI/UbHNK0hslyfYrVQmL1l5naqBQnGT0NgDUkUpYRMSUpNsl3S/pSVXuenrC9p22b0o2+5Ck99r+rqS7Jb0rIiKN+mYxiSAA1NeZ1oEi4qgqHdfV6z5S9fq4pBvSqqeeQqmsK3u6sywBAFakldTBnblhnmUBAHURFomIUIEObgCoi7BIXJyY0vRM0GcBAHUQFonZAXncDQUAL0RYJGan+uApeQDwQoRFYq5lQVgAQC3CInFpEkFmnAWAFyAsErMtCzq4AeCFCIvE3LMsCAsAqEVYJIaLZa3rXKP1XR1ZlwIAKw5hkSgUGZAHAPMhLBJMIggA8yMsEoUS05MDwHwIi0ShWGZAHgDMg7BIDJeYcRYA5kNYJOizAID5ERaSJqamVZyc5m4oAJgHYSFpaKysF2/r1s7N67IuBQBWJMJC0lBxUj8eLGnTeloWAFAPYSFpaKwy1ccVTCIIAHURFpIGkrDYvomwAIB6CAtVLkNJtCwAYD6EhaSBi7NhQZ8FANRDWKjSstja3aXODk4HANTDt6MqfRbbN3IJCgDmQ1iocjfUFYQFAMyLsJA0ODapbYQFAMyLsFASFtwJBQDzyn1YRISGipPaxhgLAJhX7sNidGJK5emgZQEAl5H7sBhMxljQZwEA8yMsktHbXIYCgPkRFrMtCy5DAcC8CIsil6EAoJHUwsL2jbafsn3C9h3zbPM228dtP2H7X9Koa3CMsACARjrTOIjtDkl3SfoFSX2SHrF9JCKOV21zQNKHJd0QEUO2d6ZR29DYpNZ1rtGGtR1pHA4AVqW0WhbXSjoREScjYlLSPZJurtnmvZLuioghSYqI82kUNpCM3radxuEAYFVKKyx2SzpdtdyXrKv2ckkvt/0N2w/ZvrHejmzfZvuY7WP9/f1LLmyIqT4AoKGV1MHdKemApDdIulXS39nuqd0oIg5HxKGIONTb27vkgw4QFgDQUFphcUbS3qrlPcm6an2SjkREOSJ+JOlpVcJjWQ0VCQsAaCStsHhE0gHb+22vlXSLpCM12/y7Kq0K2d6hymWpk8td2ODFSR6nCgANpBIWETEl6XZJ90t6UtK9EfGE7Ttt35Rsdr+kAdvHJT0o6fciYmA565qcmtHoxBQPPgKABlK5dVaSIuKopKM16z5S9TokfTD5ScVQMiCPBx8BwOWtpA7u1M0OyKNlAQCXR1iIlgUANEJYiJYFADRCWIiWBQA0kvuwsKWe7q6sSwGAFS33YbG1u0udHbk+DQDQUK6/JQcZvQ0ATcl3WFyc5Al5ANCEXIcF80IBQHNyHRbMOAsAzcltWEQEz7IAgCblNixGxqc0NROEBQA0IbdhMZQMyCMsAKCx3IbFAKO3AaBpuQ2LIeaFAoCm5TYsLs0LxTgLAGgov2GRPPho+ybCAgAayW9YjE1qXecadXd1ZF0KAKx4uQ6L7RvXynbWpQDAipfrsOBOKABoTq7DgjEWANAcwgIA0FBuw4J5oQCgebkMi4mpaY1OTPEsCwBoUi7DolAsS5K2McYCAJqSy7AYuJhMIkjLAgCaksuwGCoy4ywALEQuw2KA6ckBYEFyGRY8ywIAFiaXYTEwNilb6qHPAgCaksuwGBqbVE93lzrWMC8UADQjl2ExWGReKABYiFyGxfjktHZuXpd1GQCwauQyLE4NFtXTTcsCAJqVy7DovzihnVtoWQBAs1ILC9s32n7K9gnbd1xmu1+xHbYPLUcdE1PTKhTL6t1EWABAs1IJC9sdku6S9GZJByXdavtgne02S/qApIeXq5YLyVQfvfRZAEDT0mpZXCvpREScjIhJSfdIurnOdn8q6eOSxperkP7RCUmEBQAsRFphsVvS6arlvmTdJbZfJ2lvRHzlcjuyfZvtY7aP9ff3L7iQ8yOVHNq5ef2CPwsAebUiOrhtr5H0SUkfarRtRByOiEMRcai3t3fBx+q/SMsCABYqrbA4I2lv1fKeZN2szZJeLemrtp+RdL2kI8vRyd0/OiFb2s6zLACgaWmFxSOSDtjeb3utpFskHZl9MyKGI2JHROyLiH2SHpJ0U0Qca3Uh/aMT2rZhrbo6VkSjCgBWhVS+MSNiStLtku6X9KSkeyPiCdt32r4pjRpmnR+d4BIUACxQZ1oHioijko7WrPvIPNu+Ybnq6CcsAGDBcnctpn90ggF5ALBAuQqLiKiEBVN9AMCC5CosRkpTmpyeoWUBAAuUq7Dov1gZkEefBQAsTK7C4nwy1QejtwFgYXIVFswLBQCLQ1gAABrKXVis61yjLetTG14CAG0hV2ExO3rbdtalAMCqkquwYPQ2ACxO/sKCMRYAsGC5Covzo+PayehtAFiw3ITF5NSMhopl9W5ijAUALFRuwmJgjNtmAWCxchMW/ZdGbxMWALBQuQmL8yO0LABgsXITFsPjZV23fxthAQCLkJuw+PFAUd98ZpCwAIBFyE1YnBse145N69TVkZtfGQBaJjffnGdHxnXlVm6bBYDFyE1YnBse164thAUALEZuwuLscImWBQAsUi7CojQ5rZHxKVoWALBIuQiL50Yqz95+EWEBAIuSi7A4O1ySJC5DAcAi5SIsziUti12EBQAsSi7C4rnhylQfXIYCgMXJSViUtHl9pzau49nbALAYuQiL8nTo5w7syLoMAFi1chEWj50pqDg5nXUZALBq5SIsni2M66qe7qzLAIBVq+3DojQ5rcGxSe0mLABg0do+LM4UKmMsrurhTigAWKy2D4tnk7DY3bMh40oAYPVKLSxs32j7KdsnbN9R5/0P2j5u+zHbD9h+cSuO+ywtCwBYslTCwnaHpLskvVnSQUm32j5Ys9mjkg5FxGsk3Sfpz1px7GcLJa2xmEQQAJYgrZbFtZJORMTJiJiUdI+km6s3iIgHI6KYLD4kaU8rDnymUHmOBU/IA4DFS+sbdLek01XLfcm6+bxH0n/We8P2bbaP2T7W39/f8MDPFkrcCQUAS7Ti/ty2/Q5JhyR9ot77EXE4Ig5FxKHe3t6G+ztTKDHGAgCWKK2wOCNpb9XynmTd89h+k6Q/knRTREws9aAzM6Gzw4QFACxVWmHxiKQDtvfbXivpFklHqjewfY2kv1UlKM634qDnRse1a/N6vbR3Yyt2BwC5lUpYRMSUpNsl3S/pSUn3RsQTtu+0fVOy2SckbZL0b7a/Y/vIPLtrWt9QSX2FknZyJxQALElqc3ZHxFFJR2vWfaTq9ZtafcxTA5Wbq/ZewWUoAFiKFdfB3UqnBouypd2EBQAsSVuHxenBoq7csl7rOjuyLgUAVrX2DouhovZsY04oAFiqtg6LU4NFXU1YAMCStW1YjJendW5kgrAAgBZo27DoGyqqd/M67oQCgBZo27B45kJR/aMTuno7A/IAYKnaNix+dGFMkhi9DQAt0LZhcfLCmK7Y0KWeDWuzLgUAVr22DYsfXbio/TtoVQBAK7RxWIxp/45NWZcBAG2hLcNibGJK50Ym9BL6KwCgJdoyLGY7t7kMBQCt0ZZhcWpgTJvWdRIWANAibRkWT527qLGJKe3bzuhtAGiFtgyLp8+Nat+Ojepem9rjOgCgrbVlWDx1blQv38WdUADQKm0XFuPlaT1zYUw/sWtz1qUAQNtou7A42T+mmZBe/iLCAgBape3C4ulzo5JEywIAWqjtwqJvqKSrt23QPm6bBYCWabuw+OYzg9q4rlNdHW33qwFAZtrqGzUi9MSZYb36qi1ZlwIAbaWtwuLs8Lhe2rtJr3vxFVmXAgBtpa3C4rG+gr75zKBewZ1QANBSbRUWj54uqKvDeuWVXIYCgFZqq7AYvDipN71yl9Z3dWRdCgC0lbYJi4mpaR357rO6cmt31qUAQNtpm7B4/MywJqZmdO3+bVmXAgBtp23C4uGTg3rN7i36qX3cCQUArdY2YfHVp/s1I2n7pnVZlwIAbactwqJQnNTZQkk3vfaqrEsBgLbUFmHxwJPndXqopGv3b8+6FABoS20RFv/1+HP6xYO79JrdW7MuBQDa0qoPix8PjF0atb1mjbMuBwDaUmphYftG20/ZPmH7jjrvr7P9r8n7D9ve18x+//ZrP1RE6O3XXd3qkgEAiVTCwnaHpLskvVnSQUm32j5Ys9l7JA1FxMskfUrSxxvtd6RU1teevqDbXv8SvYjBeACwbNJqWVwr6UREnIyISUn3SLq5ZpubJf1T8vo+SW+0fdnrShcuTuj6l2zTu27Y3/KCAQBzOlM6zm5Jp6uW+yRdN982ETFle1jSdkkXqjeyfZuk25LFiU/+2jWPf3JZSl51dqjmXOUY52IO52IO52LO4xHx6oV8IK2waJmIOCzpsCTZPhYRhzIuaUXgXMzhXMzhXMzhXMyxfWyhn0nrMtQZSXurlvck6+puY7tT0lZJA6lUBwC4rLTC4hFJB2zvt71W0i2SjtRsc0TSO5PXvyrpfyMiUqoPAHAZqVyGSvogbpd0v6QOSZ+JiCds3ynpWEQckfQPkj5v+4SkQVUCpZHDy1b06sO5mMO5mMO5mMO5mLPgc2H+eAcANLLqR3ADAJYfYQEAaGjVhkWj6UPywvZe2w/aPm77CdsfyLqmLNnusP2o7S9nXUvWbPfYvs/2920/afuns64pC7Z/N/m38bjtu22vz7qmNNn+jO3zth+vWrfN9v/Y/kHy34ZPjVuVYdHk9CF5MSXpQxFxUNL1kt6X43MhSR+Q9GTWRawQfyHpvyLiFZJeqxyeF9u7Jf22pEPJILQONXfzTDv5rKQba9bdIemBiDgg6YFk+bJWZViouelDciEizkbEt5PXo6p8IezOtqps2N4j6a2S/j7rWrJme6uk16tyl6EiYjIiCtlWlZlOSd3J+K0Nkp7NuJ5URcTXVbnDtFr19Er/JOmXG+1ntYZFvelDcvkFWS2ZqfcaSQ9nW0lmPi3p9yXNZF3ICrBfUr+kf0wuy/297Y1ZF5W2iDgj6c8lnZJ0VtJwRPx3tlWtCLsi4mzy+jlJuxp9YLWGBWrY3iTpi5J+JyJGsq4nbbZ/SdL5iPhW1rWsEJ2SXifpryPiGkljauJSQ7tJrsXfrEp4XiVpo+13ZFvVypIMfm44hmK1hkUz04fkhu0uVYLiCxHxpazrycgNkm6y/YwqlyV/3vY/Z1tSpvok9UXEbCvzPlXCI2/eJOlHEdEfEWVJX5L0MxnXtBKcs32lJCX/Pd/oA6s1LJqZPiQXkmnc/0HSkxGR2wl4I+LDEbEnIvap8v/D/0ZEbv+CjIjnJJ22/RPJqjdKOp5hSVk5Jel62xuSfytvVA47+uuonl7pnZL+o9EHVt2ss9L804dkXFZWbpD065K+Z/s7ybo/jIijGdaEleH9kr6Q/EF1UtK7M64ndRHxsO37JH1blTsHH1XOpv2wfbekN0jaYbtP0kclfUzSvbbfI+nHkt7WcD9M9wEAaGS1XoYCAKSIsAAANERYAAAaIiwAAA0RFgCAhggLAMiJZCbi31rMZwkLAMiPHkmEBQDgsj4m6aW2v2P7Ewv5IIPyACAnkpmpv5w822NBaFkAABoiLAAADREWAJAfo5I2L+aDhAUA5EREDEj6hu3H6eAGALQcLQsAQEOEBQCgIcICANAQYQEAaIiwAAA0RFgAABoiLAAADf0/v6jlGfCy4KIAAAAASUVORK5CYII=\n",
                "text/plain": "<Figure size 432x288 with 1 Axes>"
              },
              {
                "output_type": "display_data",
                "metadata": {
                  "tags": []
                },
                "text/plain": "Eq(i(t), (-2.88675134594813*sin(sqrt(3)*t/2) - 5.0*cos(sqrt(3)*t/2))*exp(-t/2) + 5.0)"
              }
            ],
            "_view_module": "@jupyter-widgets/output",
            "_model_module_version": "1.0.0",
            "_view_count": null,
            "_view_module_version": "1.0.0",
            "layout": "IPY_MODEL_e6123ef1386f4dfcaa8143769252adbc",
            "_model_module": "@jupyter-widgets/output"
          }
        },
        "4db063b97cd94186b0d3a27748284be6": {
          "model_module": "@jupyter-widgets/controls",
          "model_name": "SliderStyleModel",
          "state": {
            "_view_name": "StyleView",
            "handle_color": null,
            "_model_name": "SliderStyleModel",
            "description_width": "",
            "_view_module": "@jupyter-widgets/base",
            "_model_module_version": "1.5.0",
            "_view_count": null,
            "_view_module_version": "1.2.0",
            "_model_module": "@jupyter-widgets/controls"
          }
        },
        "9f5d232ef2954ea68e8fd3bac90c982e": {
          "model_module": "@jupyter-widgets/base",
          "model_name": "LayoutModel",
          "state": {
            "_view_name": "LayoutView",
            "grid_template_rows": null,
            "right": null,
            "justify_content": null,
            "_view_module": "@jupyter-widgets/base",
            "overflow": null,
            "_model_module_version": "1.2.0",
            "_view_count": null,
            "flex_flow": null,
            "width": null,
            "min_width": null,
            "border": null,
            "align_items": null,
            "bottom": null,
            "_model_module": "@jupyter-widgets/base",
            "top": null,
            "grid_column": null,
            "overflow_y": null,
            "overflow_x": null,
            "grid_auto_flow": null,
            "grid_area": null,
            "grid_template_columns": null,
            "flex": null,
            "_model_name": "LayoutModel",
            "justify_items": null,
            "grid_row": null,
            "max_height": null,
            "align_content": null,
            "visibility": null,
            "align_self": null,
            "height": null,
            "min_height": null,
            "padding": null,
            "grid_auto_rows": null,
            "grid_gap": null,
            "max_width": null,
            "order": null,
            "_view_module_version": "1.2.0",
            "grid_template_areas": null,
            "object_position": null,
            "object_fit": null,
            "grid_auto_columns": null,
            "margin": null,
            "display": null,
            "left": null
          }
        },
        "ab1dd5dfd2754498b8c953712401a853": {
          "model_module": "@jupyter-widgets/controls",
          "model_name": "SliderStyleModel",
          "state": {
            "_view_name": "StyleView",
            "handle_color": null,
            "_model_name": "SliderStyleModel",
            "description_width": "",
            "_view_module": "@jupyter-widgets/base",
            "_model_module_version": "1.5.0",
            "_view_count": null,
            "_view_module_version": "1.2.0",
            "_model_module": "@jupyter-widgets/controls"
          }
        },
        "15967685b8ad47a8a3caab53c198d195": {
          "model_module": "@jupyter-widgets/base",
          "model_name": "LayoutModel",
          "state": {
            "_view_name": "LayoutView",
            "grid_template_rows": null,
            "right": null,
            "justify_content": null,
            "_view_module": "@jupyter-widgets/base",
            "overflow": null,
            "_model_module_version": "1.2.0",
            "_view_count": null,
            "flex_flow": null,
            "width": null,
            "min_width": null,
            "border": null,
            "align_items": null,
            "bottom": null,
            "_model_module": "@jupyter-widgets/base",
            "top": null,
            "grid_column": null,
            "overflow_y": null,
            "overflow_x": null,
            "grid_auto_flow": null,
            "grid_area": null,
            "grid_template_columns": null,
            "flex": null,
            "_model_name": "LayoutModel",
            "justify_items": null,
            "grid_row": null,
            "max_height": null,
            "align_content": null,
            "visibility": null,
            "align_self": null,
            "height": null,
            "min_height": null,
            "padding": null,
            "grid_auto_rows": null,
            "grid_gap": null,
            "max_width": null,
            "order": null,
            "_view_module_version": "1.2.0",
            "grid_template_areas": null,
            "object_position": null,
            "object_fit": null,
            "grid_auto_columns": null,
            "margin": null,
            "display": null,
            "left": null
          }
        },
        "1d2184ab4ee740a394eade818d9427d6": {
          "model_module": "@jupyter-widgets/controls",
          "model_name": "SliderStyleModel",
          "state": {
            "_view_name": "StyleView",
            "handle_color": null,
            "_model_name": "SliderStyleModel",
            "description_width": "",
            "_view_module": "@jupyter-widgets/base",
            "_model_module_version": "1.5.0",
            "_view_count": null,
            "_view_module_version": "1.2.0",
            "_model_module": "@jupyter-widgets/controls"
          }
        },
        "40c66ec65ac4440ea6358246366ad698": {
          "model_module": "@jupyter-widgets/base",
          "model_name": "LayoutModel",
          "state": {
            "_view_name": "LayoutView",
            "grid_template_rows": null,
            "right": null,
            "justify_content": null,
            "_view_module": "@jupyter-widgets/base",
            "overflow": null,
            "_model_module_version": "1.2.0",
            "_view_count": null,
            "flex_flow": null,
            "width": null,
            "min_width": null,
            "border": null,
            "align_items": null,
            "bottom": null,
            "_model_module": "@jupyter-widgets/base",
            "top": null,
            "grid_column": null,
            "overflow_y": null,
            "overflow_x": null,
            "grid_auto_flow": null,
            "grid_area": null,
            "grid_template_columns": null,
            "flex": null,
            "_model_name": "LayoutModel",
            "justify_items": null,
            "grid_row": null,
            "max_height": null,
            "align_content": null,
            "visibility": null,
            "align_self": null,
            "height": null,
            "min_height": null,
            "padding": null,
            "grid_auto_rows": null,
            "grid_gap": null,
            "max_width": null,
            "order": null,
            "_view_module_version": "1.2.0",
            "grid_template_areas": null,
            "object_position": null,
            "object_fit": null,
            "grid_auto_columns": null,
            "margin": null,
            "display": null,
            "left": null
          }
        },
        "c9cdbcc76e6f4a5a82fac41873a5469a": {
          "model_module": "@jupyter-widgets/controls",
          "model_name": "SliderStyleModel",
          "state": {
            "_view_name": "StyleView",
            "handle_color": null,
            "_model_name": "SliderStyleModel",
            "description_width": "",
            "_view_module": "@jupyter-widgets/base",
            "_model_module_version": "1.5.0",
            "_view_count": null,
            "_view_module_version": "1.2.0",
            "_model_module": "@jupyter-widgets/controls"
          }
        },
        "b08a026e554d4dc0acaef5645c0ca44b": {
          "model_module": "@jupyter-widgets/base",
          "model_name": "LayoutModel",
          "state": {
            "_view_name": "LayoutView",
            "grid_template_rows": null,
            "right": null,
            "justify_content": null,
            "_view_module": "@jupyter-widgets/base",
            "overflow": null,
            "_model_module_version": "1.2.0",
            "_view_count": null,
            "flex_flow": null,
            "width": null,
            "min_width": null,
            "border": null,
            "align_items": null,
            "bottom": null,
            "_model_module": "@jupyter-widgets/base",
            "top": null,
            "grid_column": null,
            "overflow_y": null,
            "overflow_x": null,
            "grid_auto_flow": null,
            "grid_area": null,
            "grid_template_columns": null,
            "flex": null,
            "_model_name": "LayoutModel",
            "justify_items": null,
            "grid_row": null,
            "max_height": null,
            "align_content": null,
            "visibility": null,
            "align_self": null,
            "height": null,
            "min_height": null,
            "padding": null,
            "grid_auto_rows": null,
            "grid_gap": null,
            "max_width": null,
            "order": null,
            "_view_module_version": "1.2.0",
            "grid_template_areas": null,
            "object_position": null,
            "object_fit": null,
            "grid_auto_columns": null,
            "margin": null,
            "display": null,
            "left": null
          }
        },
        "e6123ef1386f4dfcaa8143769252adbc": {
          "model_module": "@jupyter-widgets/base",
          "model_name": "LayoutModel",
          "state": {
            "_view_name": "LayoutView",
            "grid_template_rows": null,
            "right": null,
            "justify_content": null,
            "_view_module": "@jupyter-widgets/base",
            "overflow": null,
            "_model_module_version": "1.2.0",
            "_view_count": null,
            "flex_flow": null,
            "width": null,
            "min_width": null,
            "border": null,
            "align_items": null,
            "bottom": null,
            "_model_module": "@jupyter-widgets/base",
            "top": null,
            "grid_column": null,
            "overflow_y": null,
            "overflow_x": null,
            "grid_auto_flow": null,
            "grid_area": null,
            "grid_template_columns": null,
            "flex": null,
            "_model_name": "LayoutModel",
            "justify_items": null,
            "grid_row": null,
            "max_height": null,
            "align_content": null,
            "visibility": null,
            "align_self": null,
            "height": null,
            "min_height": null,
            "padding": null,
            "grid_auto_rows": null,
            "grid_gap": null,
            "max_width": null,
            "order": null,
            "_view_module_version": "1.2.0",
            "grid_template_areas": null,
            "object_position": null,
            "object_fit": null,
            "grid_auto_columns": null,
            "margin": null,
            "display": null,
            "left": null
          }
        }
      }
    }
  },
  "cells": [
    {
      "cell_type": "markdown",
      "metadata": {
        "id": "view-in-github",
        "colab_type": "text"
      },
      "source": [
        "<a href=\"https://colab.research.google.com/github/jucarmonao/SyS/blob/main/Taller%203/TALLER_SYS_3_.ipynb\" target=\"_parent\"><img src=\"https://colab.research.google.com/assets/colab-badge.svg\" alt=\"Open In Colab\"/></a>"
      ]
    },
    {
      "cell_type": "markdown",
      "metadata": {
        "id": "Nc0WwnDVQm6N"
      },
      "source": [
        "# Taller teorico-práctico 3 - Proyecto final\n",
        "#Ecualizador de audio Señales y sistemas 2020-II\n",
        "### Juan Pablo Carmona Osorio 818019"
      ]
    },
    {
      "cell_type": "markdown",
      "metadata": {
        "id": "h8Q9xNp6Qm6Z"
      },
      "source": [
        "## 2. Modelado y simulación de sistemas en tiempo\n",
        "\n",
        "#### 2.1. Respuesta en el tiempo de sistemas lineales e invariantes en el tiempo\n",
        "\n",
        "###### i) Respuesta al impulso:\n",
        "\n",
        "Compare la señal de salida obtenida al resolver la EDO con la obtenida mediante la convolución. ¿Son iguales?\n",
        "\n",
        "Se copia el código y se realiza una resta entre las funciones para determinar si estas son iguales:\n",
        "\n"
      ]
    },
    {
      "cell_type": "code",
      "metadata": {
        "colab": {
          "base_uri": "https://localhost:8080/",
          "height": 364
        },
        "id": "AhIayXFY_3gP",
        "outputId": "dfa7232e-14ea-4a16-fc66-12e13ecb93d8"
      },
      "source": [
        "%matplotlib inline\r\n",
        "import sympy as sym\r\n",
        "sym.init_printing()\r\n",
        "tau , t = sym.symbols('tau t' , real=True)\r\n",
        "x = sym.Function('x')(t)\r\n",
        "y = sym.Function('y')(t)\r\n",
        "ode = sym.Eq(y + y.diff(t) , x)\r\n",
        "\r\n",
        "solution = sym.dsolve(ode.subs(x, sym.exp(-2*t)*sym.Heaviside(t)))\r\n",
        "integration_constants = sym.solve( (solution.rhs.limit(t, 0, '-'), solution.rhs.diff(t).limit(t, 0, '-')), 'C1' )\r\n",
        "y1 = solution.subs(integration_constants)\r\n",
        "\r\n",
        "h = sym.Function('h')(t)\r\n",
        "solution2 = sym.dsolve(ode.subs(x, sym.DiracDelta(t)).subs(y, h))\r\n",
        "integration_constants = sym.solve( (solution2.rhs.limit(t, 0, '-'), solution2.rhs.diff(t).limit(t, 0, '-')), 'C1' )\r\n",
        "h = solution2.subs(integration_constants)\r\n",
        "\r\n",
        "y2 = sym.integrate(sym.exp(-2*tau) * h.rhs.subs(sym.Heaviside(t), 1).subs(t, t-tau), (tau, 0, t))\r\n",
        "y2\r\n",
        "sym.plot(y2, (t,0,10), ylabel=r'$y(t)$',ylim=[-0.1,0.3] );"
      ],
      "execution_count": 24,
      "outputs": [
        {
          "output_type": "stream",
          "text": [
            "/usr/local/lib/python3.6/dist-packages/sympy/plotting/plot.py:890: MatplotlibDeprecationWarning: \n",
            "The set_smart_bounds function was deprecated in Matplotlib 3.2 and will be removed two minor releases later.\n",
            "  self.ax.spines['left'].set_smart_bounds(True)\n",
            "/usr/local/lib/python3.6/dist-packages/sympy/plotting/plot.py:891: MatplotlibDeprecationWarning: \n",
            "The set_smart_bounds function was deprecated in Matplotlib 3.2 and will be removed two minor releases later.\n",
            "  self.ax.spines['bottom'].set_smart_bounds(False)\n"
          ],
          "name": "stderr"
        },
        {
          "output_type": "display_data",
          "data": {
            "image/png": "[encoded data removed]",
            "text/plain": [
              "<Figure size 432x288 with 1 Axes>"
            ]
          },
          "metadata": {
            "tags": [],
            "needs_background": "light"
          }
        }
      ]
    },
    {
      "cell_type": "markdown",
      "metadata": {
        "id": "-pokLjw7Qm6c"
      },
      "source": [
        "Se observa que la diferencia entre las funciones es despreciable. Por lo tanto se puede decir que las funciones son iguales.\n",
        "\n",
        "\n",
        "- Compruebe la solución $h(t)$ de la EDO cuando $x(t)=\\delta(t)$ de manera manual. Tener en cuenta que $\\frac{d}{dt} \\epsilon(t) = \\delta(t)$.\n",
        "\n",
        "Se realiza el cambio de $x(t)=\\delta(t)$ \n",
        "\n",
        "\\begin{equation}\n",
        "\\frac{d}{dt} y(t)+ y(t) = \\delta(t)\n",
        "\\end{equation}\n",
        "\n",
        "Se aplica la transformada de Laplace:\n",
        "\n",
        "\\begin{equation}\n",
        "\\mathscr{L}(\\frac{d}{dt} y(t)+ y(t)) = \\mathscr{L}(\\delta(t))\n",
        "\\end{equation}\n",
        "\n",
        "Sabiendo que  $y(t)\\big\\vert_{t=0-}=0$ y $\\frac{d}{dt}y(t)\\big\\vert_{t=0-}=0 $ y que $\\mathscr{L}(\\delta(t)) = 1$, y haciendo $\\mathscr{L}(y(t))= Y(S)$\n",
        "\n",
        "\\begin{equation}\n",
        "SY(S)+Y(S) = 1\\\\\n",
        "Y(S)(1+S)=1\\\\\n",
        "Y(S) = \\frac{1}{1+S}\n",
        "\\end{equation}\n",
        "\n",
        "Aplicando la transformada inversa:\n",
        "\n",
        "\\begin{equation}\n",
        "\\mathscr{L}^{-1} = e^{-t}\\\\\n",
        "h(t) = e^{-t}\n",
        "\\end{equation}\n",
        "\n",
        "Se puede evidenciar como el resultado es el mismo.\n",
        "\n",
        "\n",
        "- Comprobar la solución de la integral de convolución de manera manual.\n",
        "\n",
        "Siendo la integral de convolución: \n",
        "\n",
        "\\begin{equation}\n",
        "y(t) = \\int_{0}^{t} x(\\tau) \\cdot h(t - \\tau) \\; d\\tau\n",
        "\\end{equation}\n",
        "\n",
        "Se sustituyen con los valores ya conocidos. $h(t) = e^{-t}$\n",
        "\n",
        "\\begin{equation}\n",
        "y(t) = \\int_{0}^{t} e^{\\tau} \\cdot e^{-(t-\\tau)}  \\; d\\tau \\\\\n",
        "y(t) = e^{-t} \\int_{0}^{t} e^{-\\tau} d\\tau\\\\\n",
        "y(t) = e^{-t} (-e^{-\\tau})\\big\\vert^{t}_{0} = e^{-t} - e^{-2t}\n",
        "\\end{equation}"
      ]
    },
    {
      "cell_type": "markdown",
      "metadata": {
        "id": "X_RYpBZ0Qm6c"
      },
      "source": [
        "## 2.2. Cuaderno de autofunciones\n",
        "\n",
        "Introduzca $x(t)=e^{s t} $ y $y(t)=\\lambda \\cdot e^{st}$ en la EDO y calcule manualmente el valor propio $\\lambda$. ¿Cómo se relaciona el resultado con el resultado anterior al resolver la EDO?\n",
        "\n",
        "Inicialmente se calcula el resultado original de la EDO con $x(t)=e^{s t} $ para realizar la comparación."
      ]
    },
    {
      "cell_type": "code",
      "metadata": {
        "id": "QIHSl_YgQm6d",
        "colab": {
          "base_uri": "https://localhost:8080/",
          "height": 42
        },
        "outputId": "c259ec48-45b0-4cd2-e38a-3d70d70786b0"
      },
      "source": [
        "%matplotlib inline\n",
        "import sympy as sym\n",
        "sym.init_printing()\n",
        "\n",
        "t, s, a0, a1, a2 = sym.symbols('t s a:3')\n",
        "x = sym.exp(s * t)\n",
        "y = sym.Function('y')(t)\n",
        "\n",
        "ode = sym.Eq(a0*y + a1*y.diff(t) + a2*y.diff(t,2), x)\n",
        "solution = sym.dsolve(ode)\n",
        "solution.subs({'C1': 0, 'C2' : 0})"
      ],
      "execution_count": 16,
      "outputs": [
        {
          "output_type": "execute_result",
          "data": {
            "image/png": "[encoded data removed]",
            "text/latex": "$$y{\\left (t \\right )} = \\frac{e^{s t}}{a_{0} + a_{1} s + a_{2} s^{2}}$$",
            "text/plain": [
              "               s⋅t      \n",
              "              ℯ         \n",
              "y(t) = ─────────────────\n",
              "                       2\n",
              "       a₀ + a₁⋅s + a₂⋅s "
            ]
          },
          "metadata": {
            "tags": []
          },
          "execution_count": 16
        }
      ]
    },
    {
      "cell_type": "markdown",
      "metadata": {
        "id": "R86HFfITQm6d"
      },
      "source": [
        "Ahora se hace $x(t)=e^{s t} $ y $y(t)=\\lambda \\cdot e^{st}$, y posteriormente se despeja $\\lambda$"
      ]
    },
    {
      "cell_type": "code",
      "metadata": {
        "id": "Ec4coGpAQm6d",
        "colab": {
          "base_uri": "https://localhost:8080/",
          "height": 47
        },
        "outputId": "8d6b173b-ffe2-4612-efe9-4f65703427cb"
      },
      "source": [
        "x = sym.exp(s * t)\n",
        "l = sym.symbols(u\"λ\")\n",
        "y = l*sym.exp(s * t)\n",
        "\n",
        "ode = sym.Eq(a0*y + a1*sym.Derivative(y,t) + a2*sym.Derivative(y,t,2), x)\n",
        "sym.solve(ode.doit(),l)"
      ],
      "execution_count": 17,
      "outputs": [
        {
          "output_type": "execute_result",
          "data": {
            "image/png": "[encoded data removed]",
            "text/latex": "$$\\left [ \\frac{1}{a_{0} + a_{1} s + a_{2} s^{2}}\\right ]$$",
            "text/plain": [
              "⎡        1        ⎤\n",
              "⎢─────────────────⎥\n",
              "⎢                2⎥\n",
              "⎣a₀ + a₁⋅s + a₂⋅s ⎦"
            ]
          },
          "metadata": {
            "tags": []
          },
          "execution_count": 17
        }
      ]
    },
    {
      "cell_type": "markdown",
      "metadata": {
        "id": "dqHxAya5Qm6e"
      },
      "source": [
        "De esta manera,\n",
        "\n",
        "\\begin{equation}\n",
        "\\lambda = \\frac{1}{a_{0} + a_{1} s + a_{2} s^{2}}\n",
        "\\end{equation}\n",
        "\n",
        "Se observa como el resultado es el valor escalar asociado a la solución del sistema original.\n",
        "\n",
        "*¿Puede generalizar sus resultados a una EDO de orden arbitrario?\n",
        "\n",
        "Sea una EDO de la siguiente manera: \n",
        "\n",
        "\\begin{equation}\n",
        "a_0 y(t) + a_1 \\frac{d y(t)}{dt} +...+ a_n \\frac{d^n y(t)}{dt^n} = x(t)\n",
        "\\end{equation}\n",
        "\n",
        "La solución para el valor propio del sistema será:\n",
        "\n",
        "\\begin{equation}\n",
        "\\lambda = \\frac{1}{a_{0} + a_{1} s +...+ a_{n} s^{n}}\n",
        "\\end{equation}\n",
        "\n"
      ]
    },
    {
      "cell_type": "markdown",
      "metadata": {
        "id": "sm9nZoigQm6e"
      },
      "source": [
        "## 2.3. Ejemplos de modelado de sistemas lineales e invariantes en el tiempo\n",
        "\n",
        "###### Pendulo elastico\n",
        "\n",
        "- Cambie el coeficiente de amortiguamiento $c$ del péndulo elástico e indique cómo cambia la magnitud y la fase de la función de transferencia $H(j\\omega)$.\n",
        "\n",
        "\n",
        "Es posible modificar el código escrito en el notebook, para hacer la variable de coeficiente de amortiguamiento interactiva:\n",
        "\n"
      ]
    },
    {
      "cell_type": "code",
      "metadata": {
        "id": "o5dULUKnQm6f",
        "colab": {
          "base_uri": "https://localhost:8080/",
          "height": 727,
          "referenced_widgets": [
            "2b93e1addcf6402dbbb1de6d97043c5b",
            "c6e2a0ebaad044468b3bec3770e23b14",
            "ef3150f3cb06495c8324b436abb9d7cd",
            "a6af3593aaaf4e82a155c2a8d7e362da",
            "0d87d6ad315c40d3a1430fc324513495",
            "bf6f9a7bf8f74e0981d9c52c020117b9",
            "7b9997a9f8b6460381233ebc745efdfe"
          ]
        },
        "outputId": "c6d43cfe-4176-4276-bcd2-ef4b6c513a1c"
      },
      "source": [
        "from __future__ import print_function\n",
        "from ipywidgets import interact, interactive, fixed, interact_manual\n",
        "import ipywidgets as widgets\n",
        "\n",
        "def pendulo(c_entrada):\n",
        " t, m, c, k = sym.symbols('t m c k', real=True)\n",
        " x = sym.Function('x')(t)\n",
        " y = sym.Function('y')(t)\n",
        " \n",
        " ode = sym.Eq(m*y.diff(t, 2) + c*y.diff(t) + k*y, x)\n",
        " mck = {m: 0.1, c: c_entrada, k: sym.Rational('2.5')}\n",
        " solution_h = sym.dsolve(ode.subs(x, sym.DiracDelta(t)).subs(y, sym.Function('h')(t)))\n",
        " integration_constants = sym.solve( (solution_h.rhs.limit(t, 0, '-'), solution_h.rhs.diff(t).limit(t, 0, '-')), ['C1', 'C2'] )\n",
        " s = sym.symbols('s')\n",
        " H = sym.Function('H')(s)\n",
        " H, = sym.solve(ode.subs(x, sym.exp(s*t)).subs(y, H*sym.exp(s*t)).doit(), H)\n",
        " w = sym.symbols('omega', real=True)\n",
        " Hjw = H.subs(s, sym.I * w)\n",
        " sym.plot(abs(Hjw.subs(mck)), (w, -15, 15), ylabel=r'$|H(j \\omega)|$', xlabel=r'$\\omega$');\n",
        " phi = sym.arg(Hjw)\n",
        " sym.plot(phi.subs(mck), (w, -15, 15), ylabel=r'$\\varphi(j \\omega)$', xlabel=r'$\\omega$');\n",
        "    \n",
        "\n",
        "interact(pendulo, c_entrada=(0.1,1,0.1))"
      ],
      "execution_count": 4,
      "outputs": [
        {
          "output_type": "display_data",
          "data": {
            "application/vnd.jupyter.widget-view+json": {
              "model_id": "2b93e1addcf6402dbbb1de6d97043c5b",
              "version_minor": 0,
              "version_major": 2
            },
            "text/plain": [
              "interactive(children=(FloatSlider(value=0.5, description='c_entrada', max=1.0, min=0.1), Output()), _dom_class…"
            ]
          },
          "metadata": {
            "tags": []
          }
        },
        {
          "output_type": "execute_result",
          "data": {
            "text/plain": [
              "<function __main__.pendulo>"
            ]
          },
          "metadata": {
            "tags": []
          },
          "execution_count": 4
        }
      ]
    },
    {
      "cell_type": "markdown",
      "metadata": {
        "id": "ZAoe5bTfQm6f"
      },
      "source": [
        "Al modificar el valor del coeficiente de amortiguamiento, cambia la función de transferencia en función de las diferentes frecuencias de resonancia que se pueden presentar. Al disminuir el valor del coeficiente de amortiguamiento aproximándose a cero se puede observar como el sistema atenua de manera más pronunciada, las frecuencias diferentes a las frecuencias de resonancia y acentúa el valor cuando se encuentra en las mismas. Para la fase de la función de transferencia siendo esta su argumento, se observa como el ángulo disminuye para las frecuencias de resonancia al disminuir el coeficiente de amortiguamiento y como crece esta de manera lineal al aumentarla.\n",
        "\n",
        "- ¿Qué relación hay entre la frecuencia de oscilación y las frecuencias de resonancia?\n",
        "\n",
        "Las amplitudes de la función de transferencia para la solución estacionaria del oscilador amortiguado dependen de las características físicas del oscilador y de la frecuencia de la fuerza aplicada. Para las frecuencias en donde la función de transferencia son mayores se denominan frecuencias de resonancia y generalemente estas son próximas a la frecuencia natural del sistema.\n",
        "\n",
        "- Calcule y grafique el desplazamiento para valores dados de $m_\\text{I}$ y $r$.\n",
        "\n",
        "El desplazamiento es: \n",
        "\n",
        "\\begin{equation}\n",
        "y(t) = F_0 \\cdot \\Im \\{e^{j \\omega t} H(j \\omega) \\}\n",
        "\\end{equation}\n",
        "\n",
        "Donde $H(j \\omega)$ es:\n",
        "\n",
        "\\begin{equation}\n",
        "H(j \\omega) = \\frac{1}{i c \\omega + k - m \\omega^{2}}\n",
        "\\end{equation}\n",
        "\n",
        "\n",
        "Se definin las variables de la misma manera que al inicio:"
      ]
    },
    {
      "cell_type": "code",
      "metadata": {
        "id": "X9s-TLxPQm6g"
      },
      "source": [
        "t, m, c, k = sym.symbols('t m c k', real=True)\n",
        "mck = {m: 0.1, c: sym.Rational('.1'), k: sym.Rational('2.5')}\n",
        "x = sym.Function('x')(t)\n",
        "y = sym.Function('y')(t)"
      ],
      "execution_count": 20,
      "outputs": []
    },
    {
      "cell_type": "code",
      "metadata": {
        "id": "f0KJ-wrPQm6g",
        "colab": {
          "base_uri": "https://localhost:8080/",
          "height": 41
        },
        "outputId": "5e4bdcf7-e074-4dab-8cca-3e5f984e9b9d"
      },
      "source": [
        "ode = sym.Eq(m*y.diff(t, 2) + c*y.diff(t) + k*y, x)\n",
        "solution_h = sym.dsolve(ode.subs(x, sym.DiracDelta(t)).subs(y, sym.Function('h')(t)))\n",
        "integration_constants = sym.solve( (solution_h.rhs.limit(t, 0, '-'), solution_h.rhs.diff(t).limit(t, 0, '-')), ['C1', 'C2'] )\n",
        "s = sym.symbols('s')\n",
        "H = sym.Function('H')(s)\n",
        "H, = sym.solve(ode.subs(x, sym.exp(s*t)).subs(y, H*sym.exp(s*t)).doit(), H)\n",
        "w = sym.symbols('omega', real=True)\n",
        "Hjw = H.subs(s, sym.I * w)\n",
        "Hjw"
      ],
      "execution_count": 21,
      "outputs": [
        {
          "output_type": "execute_result",
          "data": {
            "image/png": "[encoded data removed]",
            "text/latex": "$$\\frac{1}{i c \\omega + k - m \\omega^{2}}$$",
            "text/plain": [
              "       1        \n",
              "────────────────\n",
              "               2\n",
              "ⅈ⋅c⋅ω + k - m⋅ω "
            ]
          },
          "metadata": {
            "tags": []
          },
          "execution_count": 21
        }
      ]
    },
    {
      "cell_type": "code",
      "metadata": {
        "id": "nraOEv3hQm6h",
        "colab": {
          "base_uri": "https://localhost:8080/",
          "height": 510,
          "referenced_widgets": [
            "43a4f9aacc00460dbba9f6f596737da6",
            "b7f5cd4813f94ad8b1c48dc4c72c4a33",
            "50c1730898b143bd8d39325728ab4099",
            "58e1a4bb89484a20b399384af54a69b7",
            "7ca5ba31477e4c8da901ddaca5e42621",
            "7a06f6c23bef4aaa862c37e6c5a967c5",
            "953e027973344b97bb15465f884f4a75",
            "b9a33e7653e44e2bbeb0358bda6a0d96",
            "3fdf39df45ec4cb190abec4ee5b58d14",
            "3469984fb1db432882336aa1bb900add",
            "9b72c2903a6c4b2b9ae8c668e12e7aa5",
            "58e67503b8af42bd9ad5b696ba255db0",
            "09fe5e33111b4a54b1aa13a977d028b4",
            "af1b1bfa7a964ffb9091fc70be6282b7",
            "7cc4754f972f47169589042bb19830df",
            "87c8a1aa238246bcaea4d8f4f2c061f8"
          ]
        },
        "outputId": "f4ee6f29-4682-439f-b1ce-3c5a131c0f7a"
      },
      "source": [
        "def aislamiento(m1,r,w1,w2):\n",
        " F0 = m1*r*w2**2\n",
        " Hjw1 = Hjw.subs(mck)\n",
        " y = F0*sym.im(sym.exp(sym.I*w*t)*Hjw1)   \n",
        " sym.plot(y.subs(w,w1), (t, -15, 15), ylabel=r'$X$', xlabel=r'T',ylim=[-15,15]);\n",
        "interact(aislamiento, w1=(0,10,1), m1=(0,5,1),r=(0,5,1),w2=(0,10,1))"
      ],
      "execution_count": 33,
      "outputs": [
        {
          "output_type": "display_data",
          "data": {
            "application/vnd.jupyter.widget-view+json": {
              "model_id": "43a4f9aacc00460dbba9f6f596737da6",
              "version_minor": 0,
              "version_major": 2
            },
            "text/plain": [
              "interactive(children=(IntSlider(value=2, description='m1', max=5), IntSlider(value=2, description='r', max=5),…"
            ]
          },
          "metadata": {
            "tags": []
          }
        },
        {
          "output_type": "execute_result",
          "data": {
            "text/plain": [
              "<function __main__.aislamiento>"
            ]
          },
          "metadata": {
            "tags": []
          },
          "execution_count": 33
        }
      ]
    },
    {
      "cell_type": "markdown",
      "metadata": {
        "id": "qlE7M0GUQm6j"
      },
      "source": [
        "- ¿Para qué frecuencias angulares $\\omega$ se tiene una mayor magnitud del desplazamiento? ¿Cómo es la relación de fase entre la fuerza externa $F_\\text{E}(t)$ y el desplazamiento $y(t)$ en estas frecuencias?\n",
        "\n",
        "\n",
        "Las mayores magnitudes de desplazamiento se muestran cuando la amplitud de la función es máxima. La amplitud de la función será:\n",
        "\n",
        "\\begin{equation}\n",
        "A = F_0 \\cdot \\Im{(H(j \\omega))}\\\\\n",
        "A = \\frac{m_\\text{I} r \\omega_{2}^2 }{i c \\omega + k - m \\omega^{2}}\n",
        "\\end{equation}\n",
        "\n",
        "Para hallar la máxima magnitud en función de la frecuencia angular, se debe calcular la derivada de la función en valor absoluto respecto a $\\omega$ y se iguala a 0\n",
        "\n"
      ]
    },
    {
      "cell_type": "code",
      "metadata": {
        "id": "fTzCAKblQm6k",
        "colab": {
          "base_uri": "https://localhost:8080/",
          "height": 58
        },
        "outputId": "f5e5b320-8335-4ffa-faa8-aa80b17205a0"
      },
      "source": [
        "m1, r,w2= sym.symbols('m1 r w2', real=True)\n",
        "F0 = m1*r*w2**2\n",
        "a = abs(F0*(Hjw))\n",
        "extrema = sym.solve(sym.Eq(sym.diff(a, w),0),w)\n",
        "w0 = extrema[1:3]\n",
        "w0"
      ],
      "execution_count": 34,
      "outputs": [
        {
          "output_type": "execute_result",
          "data": {
            "image/png": "[encoded data removed]",
            "text/latex": "$$\\left [ - \\frac{1}{m} \\sqrt{- \\frac{c^{2}}{2} + k m}, \\quad \\frac{1}{m} \\sqrt{- \\frac{c^{2}}{2} + k m}\\right ]$$",
            "text/plain": [
              "⎡      ____________        ____________⎤\n",
              "⎢     ╱    2              ╱    2       ⎥\n",
              "⎢    ╱    c              ╱    c        ⎥\n",
              "⎢-  ╱   - ── + k⋅m      ╱   - ── + k⋅m ⎥\n",
              "⎢ ╲╱      2           ╲╱      2        ⎥\n",
              "⎢───────────────────, ─────────────────⎥\n",
              "⎣         m                   m        ⎦"
            ]
          },
          "metadata": {
            "tags": []
          },
          "execution_count": 34
        }
      ]
    },
    {
      "cell_type": "markdown",
      "metadata": {
        "id": "ETjQG5fwQm6k"
      },
      "source": [
        "Esto se puede comprobar para los valores dados de los parámetros variando la frecuencia angular. Donde $\\omega_{1}$ será la frecuencia del pendulo elástico y $\\omega_{2}$ la frecuencia de la fuerza externa. "
      ]
    },
    {
      "cell_type": "code",
      "metadata": {
        "id": "aKqfiWCFQm6k",
        "colab": {
          "base_uri": "https://localhost:8080/",
          "height": 570,
          "referenced_widgets": [
            "712cbb86028b4cc39a8c2be357840d8e",
            "f7a629b647b84894b8dcf298552a6a28",
            "0f43c160e6724b2792403f7830c9c0f1",
            "08311a77eb7b4ff8a46bd4fb41f975b3",
            "1d5bacd95c3b4ba8ba7b545ae7809002",
            "0dc062bd253448bebb7809894c78a416",
            "a570f44b80724a7da6a40d368cc81ebc",
            "e1ad9f52b37e4d67a8dce2b407b01b59",
            "891b1a7f68264debb40688f0ddc13524",
            "c82d327172ff42f8a2ac09a01eb7be12",
            "98b29260c4ac4af89099493daea2b7e4",
            "7277e44c3a144c5b99f44eab01f515f9",
            "68873e782ec847739a43507137ce1171",
            "1a8a65a3eeee49569f2a97a58c8955d3",
            "bc397e7e4c7c4215a7f58bdb059ea688",
            "0949f078920d405ca53a8b67944a4f48"
          ]
        },
        "outputId": "d9dc4c93-eb0a-4fb3-eb42-2f26fd77a504"
      },
      "source": [
        "def aislamiento(m1,r,w1,w2):\n",
        " F0 = m1*r*w2**2\n",
        " Hjw1 = Hjw.subs(mck)\n",
        " y = F0*sym.im(sym.exp(sym.I*w*t)*Hjw1)   \n",
        " sym.plot(y.subs(w,w1), (t, -15, 15), ylabel=r'$X$', xlabel=r'T');\n",
        " print(\"Los valores para donde el desplazamiento es máximo son:\")\n",
        " return ([(w00.subs(mck)).evalf() for w00 in w0])\n",
        "\n",
        "interact(aislamiento, w1=(0,10,1), m1=(0,5,1),r=(0,5,1),w2=(0,10,1))"
      ],
      "execution_count": 35,
      "outputs": [
        {
          "output_type": "display_data",
          "data": {
            "application/vnd.jupyter.widget-view+json": {
              "model_id": "712cbb86028b4cc39a8c2be357840d8e",
              "version_minor": 0,
              "version_major": 2
            },
            "text/plain": [
              "interactive(children=(IntSlider(value=2, description='m1', max=5), IntSlider(value=2, description='r', max=5),…"
            ]
          },
          "metadata": {
            "tags": []
          }
        },
        {
          "output_type": "execute_result",
          "data": {
            "text/plain": [
              "<function __main__.aislamiento>"
            ]
          },
          "metadata": {
            "tags": []
          },
          "execution_count": 35
        }
      ]
    },
    {
      "cell_type": "markdown",
      "metadata": {
        "id": "HDfHMmgNQm6l"
      },
      "source": [
        "Se puede observar claramente como la amplitud ($\\omega_{1}$) es máxima para el valor calculado. Se enseñan las gráficas de la relación entre la fase de $F_{0}$ y $y(t)$ para estos valores. "
      ]
    },
    {
      "cell_type": "code",
      "metadata": {
        "id": "bS2zKXeeQm6m",
        "colab": {
          "base_uri": "https://localhost:8080/",
          "height": 447,
          "referenced_widgets": [
            "d3071fd6194f49dcbbe20975c3ba39ab",
            "2ad287dddd774868ac213927b9d2209c",
            "b2b3cfb83722423780d362b9a5667830",
            "e634a014ba5f4045a8d2f105dc414835",
            "69107606847243c183081bc96b8b8e0f",
            "dfde0f2029e3406081c31ca5af9b193b",
            "936b19f1b2ba4d41a8d28d6dd337f200",
            "c434b4947a3f42afb307838d1643bdde",
            "8549970c704245888b65c3e328d9fb3c",
            "900d040f8260472cbb3494e41fd7a65c",
            "ada4b1888a2148cc88ee427d3ed80ac5",
            "52843b61bde44a73a8a82452a223aa34",
            "e1eda9c379544f3fa54648709c917ca1",
            "03094cad4f974b44b3eab4fcebf957df",
            "0eb0b874cd55453b8ff56121b9190ce3",
            "0098f75d19474d4a9812b208e1d491c1"
          ]
        },
        "outputId": "8e7de2da-b2e2-4cd8-9892-d5a130df12fe"
      },
      "source": [
        "def aislamiento(m1,r,w1,w2):\n",
        " F0 = m1*r*w2**2\n",
        " Hjw1 = Hjw.subs(mck)\n",
        " y = F0*sym.im(sym.exp(sym.I*w*t)*Hjw1)\n",
        " a = [(w00.subs(mck)).evalf() for w00 in w0]\n",
        " sym.plot(sym.arg(F0/y.subs(w,w1)), (t, -15, 15), ylabel=r'$X$', xlabel=r'T');\n",
        " print(\"El valor máximo de la amplitud sera en w1=\" + str(a[1]))\n",
        "interact(aislamiento, w1=(0.1,10,1), m1=(0,5,1),r=(0,5,1),w2=(0,10,1),label=r'$\\varphi(j \\omega)$', xlabel=r'$\\omega$')"
      ],
      "execution_count": 36,
      "outputs": [
        {
          "output_type": "display_data",
          "data": {
            "application/vnd.jupyter.widget-view+json": {
              "model_id": "d3071fd6194f49dcbbe20975c3ba39ab",
              "version_minor": 0,
              "version_major": 2
            },
            "text/plain": [
              "interactive(children=(IntSlider(value=2, description='m1', max=5), IntSlider(value=2, description='r', max=5),…"
            ]
          },
          "metadata": {
            "tags": []
          }
        },
        {
          "output_type": "execute_result",
          "data": {
            "text/plain": [
              "<function __main__.aislamiento>"
            ]
          },
          "metadata": {
            "tags": []
          },
          "execution_count": 36
        }
      ]
    },
    {
      "cell_type": "markdown",
      "metadata": {
        "id": "Rh-6c3rgQm6m"
      },
      "source": [
        "Se puede ver que al mover el slider justo en el máximo de la amplitud para $\\omega_{1}$, el sentido de la fase cambia. \n",
        "\n",
        "\n",
        "- ¿Cómo deben elegirse las frecuencias de resonancia $\\omega_0$ del péndulo de resorte para obtener un buen aislamiento de vibraciones para una máquina que gira con frecuencia angular $\\omega$? ¿Cómo es la relación de fase entre la fuerza externa $F_\\text{E}(t) $ y el desplazamiento $y(t)$ a esta frecuencia?\n",
        "\n",
        "\n",
        "Un buen sistema aislado será el que menos desplazamiento tenga, por lo tanto se puede hallar el valor mínimo de la función de valor absoluto de amplitud respecto a la frecuencia de la función de transferencia, que serán a su vez, las frecuencias de resonancia. Como se puede observar en las funciones realizadas, la magnitud del desplazamiento es mínimo cuando la frecuencia de la función de transferencia es cercana a cero, por lo tanto, las frecuencias de resonancia deben ser cercanas a 0. Si se ponen estos valores dentro de las funciones realizadas, la relación entre la fase de la fuerza y el desplazamiento es igual para todo el tiempo. "
      ]
    },
    {
      "cell_type": "markdown",
      "metadata": {
        "id": "KrSInG7NQm6n"
      },
      "source": [
        "## 3. Transformada de Laplace\n",
        "\n",
        "### 3.1. Demuestre las siguientes propiedades (Sin utilizar tabla de propiedades): i) $\\mathcal{L}\\{x(t-t_o)\\}=e^{-st_o}X(s)$; ii) $\\mathcal{L}\\{x(at)\\}=\\frac{1}{|a|}X(\\frac{s}{a})$; iii) $\\mathcal{L}\\{\\frac{dx(t)}{dt}\\}=sX(s)$; iv) $\\mathcal{L}\\{x(t)*y(t)\\}=X(s)Y(s)$"
      ]
    },
    {
      "cell_type": "markdown",
      "metadata": {
        "id": "xDb_WkyaQm6n"
      },
      "source": [
        "##### i) $\\mathcal{L}\\{x(t-t_o)\\}=e^{-st_o}X(s)$\n",
        "\n",
        "\\begin{equation}\n",
        "\\mathcal{L}\\{x(t-t_o)\\}=\\int_{0}^{\\infty}x(t-t_{o})e^{-st}dt\n",
        "\\end{equation}\n",
        "\n",
        "Se realiza un cambio de variable donde:\n",
        "\n",
        "$u=t-t_o$   $t=u+t_{o}$\n",
        "\n",
        "Se realiza el cambio de limites $t\\rightarrow \\infty = u\\rightarrow \\infty$ y $t\\rightarrow 0 = u\\rightarrow -t_o$. Con esto se tiene que:\n",
        "\n",
        "\\begin{equation}\n",
        "e^{-st_o}\\int_{-t_o}^{\\infty}x(u)e^{-su}du=e^{-st_o}X(s)\n",
        "\\end{equation}\n",
        "\n",
        "Así se demuestra satisfactoriamente que:\n",
        "\n",
        "\\begin{equation}\n",
        "\\mathcal{L}\\{x(t-t_o)\\}=e^{-st_o}X(s)\n",
        "\\end{equation}"
      ]
    },
    {
      "cell_type": "markdown",
      "metadata": {
        "id": "k_VnGbxOQm6n"
      },
      "source": [
        "##### ii)  $\\mathcal{L}\\{x(at)\\}=\\frac{1}{|a|}X(\\frac{s}{a})$\n",
        "\n",
        "Se tiene\n",
        "\n",
        "\\begin{equation}\n",
        "\\mathcal{L}\\{x(at)\\}=\\int_{0}^{\\infty}e^{-st}x(at)dt\n",
        "\\end{equation}\n",
        "\n",
        "Se realiza un cambio de variable $u=at$, así se tiene que:\n",
        "\n",
        "\\begin{equation}\n",
        "\\int_{0}^{\\infty}e^{-st}x(at)dt=\\frac{1}{c}\\int_{0}^{\\infty}e^{-s\\frac{u}{a}}x(u)du\n",
        "\\end{equation}\n",
        "\n",
        "Desarrollando esta integral, se llega a:\n",
        "\n",
        "\\begin{equation}\n",
        "\\frac{1}{c}\\int_{0}^{\\infty}e^{-s\\frac{u}{a}}x(u)du=\\frac{1}{a}X(\\frac{s}{a})\n",
        "\\end{equation}\n",
        "\n",
        "Donde $a\\neq 0$"
      ]
    },
    {
      "cell_type": "markdown",
      "metadata": {
        "id": "CbJGI2DyQm6o"
      },
      "source": [
        "##### iii) $\\mathcal{L}\\{\\frac{dx(t)}{dt}\\}=sX(s)$\n",
        "\n",
        "Se realiza sustitución:\n",
        "\n",
        "$u=e^{-st}$   $du=-se^{-st}$ \n",
        "\n",
        "\n",
        "$dv=x'(t)$    $v=x(t)$\n",
        "\n",
        "Así se tiene que:\n",
        "\n",
        "\\begin{equation}\n",
        "e^{-st}x(t)|_{0}^{\\infty}+s\\int_{0}^{\\infty}e^{-st}x'(t)dt=-x(0)+s\\mathcal{L}\\{x(t)\\}=-x(o)+sX(s)\n",
        "\\end{equation}\n",
        "\n",
        "\\begin{equation}\n",
        "\\mathcal{L}\\{\\frac{dx(t)}{dt}\\}=sX(s)-x(o)\n",
        "\\end{equation}\n",
        "\n",
        "Si las condiciones iniciales son cero, entonces se tiene que:\n",
        "\n",
        "\\begin{equation}\n",
        "\\mathcal{L}\\{\\frac{dx(t)}{dt}\\}=sX(s)\n",
        "\\end{equation}\n",
        "\n",
        "Y con esto se ha demostrado satisfactoriamente la propiedad."
      ]
    },
    {
      "cell_type": "markdown",
      "metadata": {
        "id": "NSslwMJcQm6o"
      },
      "source": [
        ""
      ]
    },
    {
      "cell_type": "markdown",
      "metadata": {
        "id": "oi4Ph2RCQm6p"
      },
      "source": [
        "##### iv) L{x(t)* y(t)}= X(s)Y(s)\n",
        "\n",
        "\\begin{equation}\n",
        "\\int_{0}^{\\infty}(x(t)* y(t))e^{-st}dt\n",
        "\\\\ x(t)* y(t)=\\int_{0}^{t}x(\\tau)g(t-\\tau)d\\tau\n",
        "\\\\ \\int_{0}^{\\infty}(\\int_{0}^{t}x(\\tau)g(t-\\tau)d\\tau)e^{-st}dt\n",
        "\\end{equation}\n",
        "\n",
        "Por Fubini\n",
        "\n",
        "\\begin{equation}\n",
        "\\int_{0}^{\\infty}(\\int_{0}^{t}x(\\tau)g(t-\\tau)d\\tau)e^{-st}dt\n",
        "\\end{equation}\n",
        "\n",
        "Nuevamente por teorema de Fubini\n",
        "\n",
        "$0<t<\\infty$\n",
        "\n",
        "$0<x<t$"
      ]
    },
    {
      "cell_type": "code",
      "metadata": {
        "id": "5i8CY7eNQm6p",
        "colab": {
          "base_uri": "https://localhost:8080/",
          "height": 279
        },
        "outputId": "1fa63c36-411b-4f62-8387-ee0f4a093f8e"
      },
      "source": [
        "import numpy as np\n",
        "import matplotlib.pyplot as plt\n",
        "ti=0\n",
        "tf=100\n",
        "Tc=0.01\n",
        "vec_t = np.arange(ti,tf,Tc)\n",
        "tau = vec_t\n",
        "plt.plot(vec_t,tau,'r',linewidth=4,label=r't=$\\tau$')\n",
        "plt.xlabel(r't')\n",
        "plt.ylabel(r'$\\tau$')\n",
        "plt.legend()\n",
        "plt.show()"
      ],
      "execution_count": 37,
      "outputs": [
        {
          "output_type": "display_data",
          "data": {
            "image/png": "[encoded data removed]",
            "text/plain": [
              "<Figure size 432x288 with 1 Axes>"
            ]
          },
          "metadata": {
            "tags": [],
            "needs_background": "light"
          }
        }
      ]
    },
    {
      "cell_type": "markdown",
      "metadata": {
        "id": "hf6XivDkQm6p"
      },
      "source": [
        "$0<x<\\infty$\n",
        "\n",
        "$x<t<\\infty$\n",
        "\n",
        "\\begin{equation}\n",
        "\\int_{0}^{\\infty} \\int_{\\tau}^{\\infty}x(\\tau)g(t-\\tau)e^{-st}dtd\\tau\n",
        "\\\\=\\int_{0}^{\\infty}x(\\tau) \\int_{\\tau}^{\\infty}y(t-\\tau)e^{-st}dtd\\tau\n",
        "\\end{equation}\n",
        "\n",
        "Con $u=t-\\tau$, $t=u+\\tau$, $dt=du$,\n",
        "\n",
        "\\begin{equation}\n",
        "\\int_{0}^{\\infty}x(\\tau)\\int_{0}^{\\infty}y(u)e^{-s(u+\\tau)}du d\\tau\n",
        "\\\\ = \\int_{0}^{\\infty}x(\\tau)e^{-s \\tau} \\int_{0}^{\\infty}y(u)e^{-su}dud\\tau \n",
        "\\end{equation}\n",
        "\n",
        "Nuevamente por Fubini debido a que cada función depende únicamente de la respectiva variable.\n",
        "\n",
        "\\begin{equation}\n",
        "\\int_{0}^{\\infty}x(\\tau)e^{-s\\tau}d\\tau \\int_{0}^{\\infty}y(u)e^{-su}du\n",
        "\\\\= X(s)Y(s)\n",
        "\\end{equation}"
      ]
    },
    {
      "cell_type": "markdown",
      "metadata": {
        "id": "VRXEgcReQm6q"
      },
      "source": [
        "### 3.2. Encuentre la transformada de Laplace y dibuje el esquema de polos y ceros y la región de convergencia (ROC), de las siguientes señales: i) $e^{-2t}u(t)+e^{-3t}u(t)$; ii) $e^{2t}u(t)+e^{-3t}u(-t)$; iii)$e^{-a|t|}$; iv)$e^{-2t}[u(t)-u(t-5)]$.\n",
        "\n",
        "###### i) $\\mathcal{L}\\{e^{-2t}u(t)+e^{-3t}u(t)\\}$\n",
        "\n",
        "Se tiene entonces que:\n",
        "\n",
        "\\begin{equation}\n",
        "\\mathcal{L}\\{e^{-2t}u(t)+e^{-3t}u(t)\\}=\\mathcal{L}\\{e^{-2t}u(t)\\}+\\mathcal{L}\\{e^{-3t}u(t)\\}=\\int_{-\\infty}^{\\infty}e^{-2t}u(t)e^{-st}dt+\\int_{-\\infty}^{\\infty}e^{-3t}u(t)e^{-st}dt\n",
        "\\end{equation}\n",
        "\n",
        "Por los escalones la integral cambiara de limites y se iniciara desde $0$, así:\n",
        "\n",
        "\\begin{equation}\n",
        "\\int_{0}^{\\infty}e^{-2t}e^{-st}dt+\\int_{0}^{\\infty}e^{-3t}e^{-st}dt=\\int_{0}^{\\infty}e^{-2t-st}dt+\\int_{0}^{\\infty}e^{-3t-st}dt=\\int_{0}^{\\infty}e^{-(s+2)t}dt+\\int_{0}^{\\infty}e^{-(s+3)t}dt=-\\frac{e^{-(s+2)t}}{s+2}|_{0}^{\\infty}-\\frac{e^{-(s+3)t}}{s+3}|_{0}^{\\infty}\n",
        "\\end{equation}\n",
        "\n",
        "Evaluando los limites se llega a:\n",
        "\\begin{equation}\n",
        "-\\frac{e^{-(s+2)t}}{s+2}|_{0}^{\\infty}-\\frac{e^{-(s+3)t}}{s+3}|_{0}^{\\infty}=\\frac{1}{s+2}+\\frac{1}{s+3}=\\frac{2s+5}{(s+2)(s+3)}\n",
        "\\end{equation}\n",
        "\n",
        "Así se llega a que:\n",
        "\n",
        "\\begin{equation}\n",
        "\\mathcal{L}\\{e^{-2t}u(t)+e^{-3t}u(t)\\}=\\frac{2s+5}{(s+2)(s+3)}\n",
        "\\end{equation}\n",
        "\n",
        "Donde se encuentra que existe un cero en $-\\frac{5}{2}$ y dos polos en $-2$ y $-3$"
      ]
    },
    {
      "cell_type": "code",
      "metadata": {
        "scrolled": true,
        "id": "EH_ULXFHQm6q",
        "colab": {
          "base_uri": "https://localhost:8080/",
          "height": 279
        },
        "outputId": "7e790c0e-4574-477d-e928-483d1415148d"
      },
      "source": [
        "import numpy as np\n",
        "from matplotlib import pyplot as plt\n",
        "\n",
        "data = np.array([\n",
        "    [0, -2],\n",
        "    [0, -3],\n",
        "    [-5/2, 0],\n",
        "])\n",
        "x, y = data.T\n",
        "\n",
        "plt.scatter(x,y)\n",
        "plt.xlabel('Re')\n",
        "plt.ylabel('Im[jw]')\n",
        "plt.grid()\n",
        "plt.show()"
      ],
      "execution_count": 38,
      "outputs": [
        {
          "output_type": "display_data",
          "data": {
            "image/png": "[encoded data removed]",
            "text/plain": [
              "<Figure size 432x288 with 1 Axes>"
            ]
          },
          "metadata": {
            "tags": [],
            "needs_background": "light"
          }
        }
      ]
    },
    {
      "cell_type": "markdown",
      "metadata": {
        "id": "NlzH2eHxQm6q"
      },
      "source": [
        "###### ii) $\\mathcal{L}\\{e^{2t}u(t)+e^{-3t}u(-t)\\}$\n",
        "\n",
        "\\begin{equation}\n",
        "\\mathcal{L}\\{e^{2t}u(t)+e^{-3t}u(-t)\\}=\\mathcal{L}\\{e^{2t}u(t)\\}+\\mathcal{L}\\{e^{-3t}u(t)\\}=\\int_{-\\infty}^{\\infty}e^{2t}u(t)e^{-st}dt+\\int_{-\\infty}^{\\infty}e^{-3t}u(t)e^{-st}dt\n",
        "\\end{equation}\n",
        "\n",
        "Por los escalones la integral cambiara de limites y se iniciara desde $0$, así:\n",
        "\n",
        "\\begin{equation}\n",
        "\\int_{0}^{\\infty}e^{2t}e^{-st}dt+\\int_{0}^{\\infty}e^{-3t}e^{-st}dt=\\int_{0}^{\\infty}e^{2t-st}dt+\\int_{0}^{\\infty}e^{-3t-st}dt=\\int_{0}^{\\infty}e^{-(s-2)t}dt+\\int_{0}^{\\infty}e^{-(s+3)t}dt=-\\frac{e^{-(s-2)t}}{s-2}|_{0}^{\\infty}-\\frac{e^{-(s+3)t}}{s+3}|_{0}^{\\infty}\n",
        "\\end{equation}\n",
        "\n",
        "Evaluando los limites se llega a:\n",
        "\\begin{equation}\n",
        "-\\frac{e^{-(s-2)t}}{s-2}|_{0}^{\\infty}-\\frac{e^{-(s+3)t}}{s+3}|_{0}^{\\infty}=\\frac{1}{s-2}+\\frac{1}{s-3}=\\frac{2s-1}{(s-2)(s+3)}\n",
        "\\end{equation}\n",
        "\n",
        "Así se llega a que:\n",
        "\n",
        "\\begin{equation}\n",
        "\\mathcal{L}\\{e^{2t}u(t)+e^{-3t}u(t)\\}=\\frac{2s-1}{(s-2)(s+3)}\n",
        "\\end{equation}\n",
        "\n",
        "Donde se encuentra que existe un cero en $\\frac{1}{2}$ y dos polos en $2$ y $-3$"
      ]
    },
    {
      "cell_type": "code",
      "metadata": {
        "id": "37CcWo5cQm6r",
        "colab": {
          "base_uri": "https://localhost:8080/",
          "height": 279
        },
        "outputId": "435f9b7f-ac2b-415c-ff54-f5d4064206a1"
      },
      "source": [
        "import numpy as np\n",
        "from matplotlib import pyplot as plt\n",
        "\n",
        "data = np.array([\n",
        "    [0, 2],\n",
        "    [0, -3],\n",
        "    [1/2, 0],\n",
        "])\n",
        "x, y = data.T\n",
        "\n",
        "plt.scatter(x,y)\n",
        "plt.xlabel('Re')\n",
        "plt.ylabel('Im[jw]')\n",
        "plt.grid()\n",
        "plt.show()\n"
      ],
      "execution_count": 2,
      "outputs": [
        {
          "output_type": "display_data",
          "data": {
            "image/png": "[encoded data removed]",
            "text/plain": [
              "<Figure size 432x288 with 1 Axes>"
            ]
          },
          "metadata": {
            "tags": [],
            "needs_background": "light"
          }
        }
      ]
    },
    {
      "cell_type": "markdown",
      "metadata": {
        "id": "_LpJvOQTQm6r"
      },
      "source": [
        "###### iii)  $\\mathcal{L}\\{e^{-a|t|}\\}$\n",
        "\n",
        "Se tiene que para que la transformada tenga sentido $a>0$, para que no se genere una indeterminación y por medio del valor absoluto con el cual cuenta $t$, la función cuenta con simetria, por lo tanto los limites de integración iniciaran desde cero y se multiplicarán por dos, así:\n",
        "\n",
        "\\begin{equation}\n",
        "\\mathcal{L}\\{e^{-a|t|}\\}=2\\int_{0}^{\\infty}e^{-at}e^{-st}dt=2\\int_{0}^{\\infty}e^{-(s+a)t}dt=-2\\frac{e^{-(s+a)t}}{s+a}|_{0}^{\\infty}\n",
        "\\end{equation}\n",
        "\n",
        "Evaluando los limites:\n",
        "\n",
        "\\begin{equation}\n",
        "-2\\frac{e^{-(s+a)t}}{s+a}|_{0}^{\\infty}=\\frac{2}\n",
        "{s+a}\n",
        "\\end{equation}\n",
        "\n",
        "Se encuentra un polo en $-a$ y ningun cero."
      ]
    },
    {
      "cell_type": "markdown",
      "metadata": {
        "id": "uWMHKHHVQm6r"
      },
      "source": [
        "###### iv) $\\mathcal{L}\\{e^{-2t}[u(t)-u(t-5)]\\}$\n",
        "\n",
        "Por los escalones, los limites cambiaran a $0$ y $5$, que es el espacio donde la señal se encuentra, así:\n",
        "\n",
        "\\begin{equation}\n",
        "\\mathcal{L}\\{e^{-2t}[u(t)-u(t-5)]\\}=\\int_{0}^{5}e^{-2t}e^{-st}dt=\\int_{0}^{5}e^{-2t-st}dt=\\int_{0}^{5}e^{-(s+2)t}dt=-\\frac{e^{-(s+2)t}}{s+2}|_{0}^{5}=-\\frac{e^{-(s+2)5}}{s+2}+\\frac{1}{s+2}=\\frac{1-e^{-(5s+10)}}{s+2}\n",
        "\\end{equation}\n",
        "\n",
        "Se encuentra un cero en $-2$ y un polo en $-2$"
      ]
    },
    {
      "cell_type": "code",
      "metadata": {
        "id": "2ArCK_65Qm6r",
        "colab": {
          "base_uri": "https://localhost:8080/",
          "height": 279
        },
        "outputId": "79b76d4b-5993-4a65-eb1d-c8693101a00d"
      },
      "source": [
        "import numpy as np\n",
        "from matplotlib import pyplot as plt\n",
        "\n",
        "data = np.array([\n",
        "    [0, -2],\n",
        "    [-2, 0],\n",
        "])\n",
        "x, y = data.T\n",
        "\n",
        "plt.scatter(x,y)\n",
        "plt.xlabel('Re')\n",
        "plt.ylabel('Im[jw]')\n",
        "plt.grid()\n",
        "plt.show()"
      ],
      "execution_count": 40,
      "outputs": [
        {
          "output_type": "display_data",
          "data": {
            "image/png": "[encoded data removed]",
            "text/plain": [
              "<Figure size 432x288 with 1 Axes>"
            ]
          },
          "metadata": {
            "tags": [],
            "needs_background": "light"
          }
        }
      ]
    },
    {
      "cell_type": "markdown",
      "metadata": {
        "id": "yZsnuu8yQm6s"
      },
      "source": [
        "#### 3.3. Encuentre la función de transferencia en lazo abierto para un circuito RLC serie (entrada de tensión de alimentación - salida de tensión en el capacitor) y un circuito RCL en paralelo (entrada tensión de alimentación - salida corriente en el inductor). \n",
        "NOTA: : tenga en cuenta las condiciones iniciales del sistema segun lo explicado en los cuadernos de Python de la sección 4 del repositorio del curso."
      ]
    },
    {
      "cell_type": "markdown",
      "metadata": {
        "id": "dgda_o1E-OmC"
      },
      "source": [
        "Serie \r\n",
        "![RLC en serie.jpg](data:image/jpeg;base64,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)"
      ]
    },
    {
      "cell_type": "markdown",
      "metadata": {
        "id": "FreIg3YHQm6s"
      },
      "source": [
        "\n",
        "\n",
        "\n",
        "Sabiendo que $i(t)=i_c(t)=\\dfrac{cdV_C(t)}{dt}$,  $v_L(t)=\\dfrac{Ldi(t)}{dt}=\\dfrac{LcdV_C(t)}{dt^{2}}$\n",
        "\n",
        "\\begin{equation}\n",
        "x(t)=V_R(t)+V_L(t)+V_C(t)\n",
        "\\\\x(t)=\\dfrac{RCdV_C(t)}{dt} + \\dfrac{LCd^2V_C(t)}{dt^2} + V_C(t)\n",
        "\\end{equation}\n",
        "\n",
        "Tomando $a_2=LC$, $a_1=RC$, $a_0=1$:\n",
        "\n",
        "\\begin{equation}\n",
        "x(t)=\\dfrac{a_2d^2V_C(t)}{dt^2} + \\dfrac{a_1dV_C(t)}{dt} + a_0V_C(t)\n",
        "\\end{equation}\n",
        "\n",
        "\\begin{equation}\n",
        "X(s)= a_2(s^2V_C(s) - sV_C(0) - V'_C(0)) + a_1(sV_C(s)-V(0)) + a_0V_C(s)\n",
        "\\end{equation}\n",
        "\n",
        "Según el Github $V_C(0)=-1$ por lo que es la unica que nos interesa, y la del inductor se descarta, y ademas por lo tanto la segunda derivada seria $V'_C(0)=0$\n",
        "\n",
        "Con este reemplazo encontraremos dos respuestas, una respuesta externa $x(t){ext}$, la cual solo depende de la entrada del sistema y una respuesta interna $x(t){int}$, la cual solo depende de las condiciones iniciales, juntas tendremos una respuesta total del sistema expresada como la funcion de transferencia por la entrada, sumandoce con las condiciones iniciales, esto se observara en el analicis a continuacion.\n",
        "\n",
        "\\begin{equation}\n",
        "X(s)=a_2s^2V_C(s) + a_2s + a_1sV_C(s) + a_1 + a_0V_C(s)\n",
        "\\\\X(s)=a_2s^2V_C(s) + (a_1V_C(s) - a_2)s + a_0V_C(s)\n",
        "\\\\X(s)=a_2s^2V_C(s) + a_1sV_C(s) + a_2s + a_0V_C(s) + a_1\n",
        "\\\\V_C(s)= \\dfrac{X(s) - a_2s - a_1}{a_2s^2 + a_1s + a_0}\n",
        "\\\\V_C(s)= \\dfrac{X(s)}{a_2s^2 + a_1s + a_0} - \\dfrac{a_2s + a_1}{a_2s^2 + a_1s + a_0}\n",
        "\\end{equation}\n",
        "\n",
        "Volviendo a reemplazar las variables con $a_2=LC$, $a_1=RC$ y $a_0=1$\n",
        "\n",
        "Podemos observar como nos queda expresada la funcion de transferencia multiplicada por la entrada y la suma del resultado de aplicar las condiciones iniciales segun explicdo en el repositorio del curso.\n",
        "\n",
        "\\begin{equation}\n",
        "V_C(s)= \\dfrac{X(s)}{LCs^2 + RCs + 1} - \\dfrac{LCs + RC}{LCs^2 + RCs + 1}\n",
        "\\end{equation}\n",
        "\n"
      ]
    },
    {
      "cell_type": "markdown",
      "metadata": {
        "id": "7Pac5iZO-b-m"
      },
      "source": [
        "*PARALELO*\r\n",
        "\r\n",
        "![RLC en paralelo.jpg](data:image/jpeg;base64,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)"
      ]
    },
    {
      "cell_type": "markdown",
      "metadata": {
        "id": "sAP_toQu-c_N"
      },
      "source": [
        "\r\n",
        "\r\n",
        "\\begin{equation}\r\n",
        "V_R(t)=V_C(t)=V_L(t)\r\n",
        "x(t)=i_R(t)+i_L(t)+i_C(t)\r\n",
        "\\\\x(t)=\\dfrac{Ldi_L(t)}{Rdt} + \\dfrac{CLd^2i_L(t)}{dt^2} + i_L(t)\r\n",
        "\\\\x(t)=\\dfrac{CLd^2i_L(t)}{dt^2} + \\dfrac{Ldi_L(t)}{Rdt} + i_L(t)\r\n",
        "\\\\x(t)=\\dfrac{a_2d^2i_L(t)}{dt^2} + \\dfrac{a_1di_L(t)}{dt} + \\dfrac{a_0iL(t)}{dt}\r\n",
        "\\end{equation}\r\n",
        "\r\n",
        "Con $i_L(+0)=0$ ya que es la unica que nos interesa por que la del condensador se descarta y tomando $a_2=LC$, $a_1=RC$, $a_0=1$ tendriamos que:\r\n",
        "\r\n",
        "\\begin{equation}\r\n",
        "X(s)= a_2(s^2I_L(s) - sI_L(0) - I_L(0)) + a_1(sI_L(s) - I_L(0)) + a_0I_L(s)\r\n",
        "\\\\X(s)= a_2s^2I_L(s) + a_1sI_L(s) + a_0I_L(s)\r\n",
        "\\\\I_L(s)= \\dfrac{X(s)}{a_2s^2 + a_1s + a_0^-}\r\n",
        "\\end{equation}\r\n",
        "\r\n",
        "Tendriamos ya solo que devolver nuestras variables que reemplazamos a las originales y tendriamos como resultado que nuestra funcion de transferencia estaria dada por:\r\n",
        "\r\n",
        "\\begin{equation}\r\n",
        "I_L(s)= \\frac{X(s)}{CLs^2 + \\frac{L}{R}s + 1}\r\n",
        "\\end{equation}\r\n",
        "\r\n",
        "y Gracias a que las condiciones iniciales fueron cero, se puede observar mejor que en el caso pasado teniendo como resultado:\r\n",
        "\\begin{equation}\r\n",
        "\\\\H(s)= \\dfrac{1}{CLs^2 + \\frac{L}{R}s + 1}\r\n",
        "\\end{equation}"
      ]
    },
    {
      "cell_type": "markdown",
      "metadata": {
        "id": "t7fQ0o-VQm6s"
      },
      "source": [
        "### 3.4. Para las funciones de transferencia encontradas en el punto anterior, encuentre la expresión de la salida en el tiempo, en función de R, L, C, y las condiciones iniciales, para las siguientes entradas: i) impulso, ii) escalón unitario, y iii) rampa. Compruebe los resultados en simulación sobre Python (utililzando sympy) y grafique la señal de salida para cada caso.\n",
        "\n",
        "con entrada $\\delta(t)$\n",
        "\n",
        "\\begin{equation}\n",
        "\\mathscr{L}\\{\\delta(t)\\} = \\mathscr{L^{-1}}\\{X(s)\\}\n",
        "\\\\V_C(s)=\\dfrac{1}{LCs^2 + RCs + 1} - \\dfrac{LCs + RC}{LCs^2 + RCs + 1}\n",
        "\\\\V_C(s)=\\dfrac{1}{LCs^2 + RCs + 1} - \\dfrac{LCs}{LCs^2 + RCs + 1} - \\dfrac{RC}{LCs^2 + RCs + 1}\n",
        "\\end{equation}\n",
        "al dividir la expresion, podremos encontrar la transformada inversa de cada una, y con eso tendriamos la transformada inversa total.\n",
        "\n",
        "empezaremos con la primera expresión\n",
        "\n",
        "\\begin{equation}\n",
        "\\\\\\mathscr{L^{-1}}\\{\\dfrac{1}{LCs^2 + RCs + 1}\\}=\n",
        "\\\\\\mathscr{L^{-1}}\\{\\dfrac{\\dfrac{1}{LC}}{s^2 + \\dfrac{Rs}{L} + \\dfrac{1}{LC}}\\}=\n",
        "\\end{equation}\n",
        "\n",
        "Con $\\dfrac{1}{LC}= a$, $\\dfrac{R}{L}=b$ y procedemos a completar cuadrados para poder resolver el problema\n",
        "\n",
        "\\begin{equation}\n",
        "\\mathscr{L^{-1}}\\{\\dfrac{a}{(s + \\dfrac{b}{2})^2 - a - \\dfrac{b^2}{4}}\\}\n",
        "\\end{equation}\n",
        "Y multiplicaremos y dividiremos por una constante para poder hacer la transformada inversa de acuerdo a las tablas de transformadas.\n",
        "\\begin{equation}\n",
        "\\mathscr{L^{-1}}\\{\\dfrac{a}{(s + \\dfrac{b}{2})^2 - a - \\dfrac{b^2}{4}}\\}\\frac{\\sqrt{a - \\dfrac{b^2}{4}}}{\\sqrt{a - \\dfrac{b^2}{4}}}=\n",
        "\\dfrac{asin(\\sqrt{a - \\dfrac{b^2}{4}})}{\\sqrt{a - \\dfrac{b^2}{4}}} e^{\\dfrac{b}{2}t}\\\\\n",
        "\\\\\n",
        "\\end{equation}\n",
        "\n",
        "Ahora procederemos a hacer la segunda parte de la transformada inversa.\n",
        "\\begin{equation}\n",
        "\\\\\\mathscr{L^{-1}}\\{\\dfrac{LCs}{LCs^2 + RCs + \\dfrac{1}{LC}}\\} = \\mathscr{L^{-1}}\\{\\dfrac{s}{s^2 + \\dfrac{R}{L}s + \\dfrac{1}{LC}}\\}\n",
        "\\end{equation}\n",
        "Con $b=\\dfrac{R}{L}$, $a=\\dfrac{1}{LC}$\n",
        "\\begin{equation}\n",
        "\\\\\\mathscr{L^{-1}}\\{\\dfrac{s}{(s + \\dfrac{b}{2})^2 + a - \\dfrac{b^2}{4}}\\}\\\\\n",
        "\\end{equation}\n",
        "\n",
        "y aplicando las tablas de transformadas, podremos encontrar esta transformada inversa con facilidad\n",
        "\n",
        "\\begin{equation}\n",
        "cos(\\sqrt{a - \\dfrac{b^2}{4}}t)e^{\\dfrac{b}{2}t}\n",
        "\\end{equation}\n",
        "\n",
        "Ahora se encontrara la transformada inversa de la ultima parte.\n",
        "\\begin{equation}\n",
        "\\\\\\mathscr{L^{-1}}\\{\\dfrac{RC}{LCs^2 + RCs + 1}\\} = \\mathscr{L^{-1}}\\{\\dfrac{\\dfrac{R}{L}}{s^2 + \\dfrac{R}{L}s + \\dfrac{1}{LC}}\\}\n",
        "\\\\\\mathscr{L^{-1}}\\{\\dfrac{b}{(s + \\dfrac{b}{2})^2 + a - \\dfrac{b^2}{4}}\\}\n",
        "\\end{equation}\n",
        "Y multiplicaremos y dividiremos por una constante para poder hacer la transformada inversa de acuerdo a las tablas de transformadas.\n",
        "\\begin{equation}\n",
        "\\\\= bsin(\\sqrt{a - \\dfrac{b^2}{4}}t) \\dfrac{e^{\\dfrac{b}{2}t}}{\\sqrt{a - \\dfrac{b^2}{4}}}\n",
        "\\end{equation}\n",
        "\n",
        "Ahora juntaremos todas las expresiones y luego de hacer esto, regresaremos las variables a su estado natural, y esto nos dara como respuesta la respuesta del circuito con entrada impulso.\n",
        "\\begin{equation}\n",
        "\\\\V_C(t)= \\dfrac{asin(\\sqrt{a - \\dfrac{b^2}{4}})e^{\\dfrac{b}{2}t}}{\\sqrt{a - \\dfrac{b^2}{4}}} + cos(\\sqrt{a - \\dfrac{b^2}{4}})e^{\\dfrac{b}{2}t} + \\dfrac{bsin(\\sqrt{a - \\dfrac{b^2}{4}})}{\\sqrt{a - \\dfrac{b^2}{4}}}\n",
        "\\\\V_C(t)= \\dfrac{(a + b)sin(\\sqrt{a - \\dfrac{b^2}{4}}t)e^{\\dfrac{b}{2}t}}{\\sqrt{a - \\dfrac{b^2}{4}}} + cos(\\sqrt{a - \\dfrac{b^2}{4}})e^{\\dfrac{b}{2}t}\n",
        "\\\\V_C(t)= \\dfrac{(\\dfrac{1}{LC} + \\dfrac{R}{L})sin(\\sqrt{\\dfrac{1}{LC} - \\dfrac{R^2}{4L^2}}t)e^{\\dfrac{R}{2L}t}}{\\sqrt{\\dfrac{1}{LC} - \\dfrac{R^2}{4L^2}}} + cos(\\sqrt{\\dfrac{1}{LC} - \\dfrac{R^2}{4L^2}}t)e^{\\dfrac{R}{2L}t}\n",
        "\\end{equation}\n",
        "\n",
        "Ahora si nos damos cuenta, la entrada solo va a afectar la primera parte de la expresion, por lo tanto la transformada de las otras dos se mantendran para los otros casos, así que tomaremos dicha parte y la guararemos en una variable para poder ser utilizada en las siguientes expresiones.\n",
        "\n",
        "\\begin{equation}\n",
        "\\\\B= \\dfrac{\\dfrac{R}{L}sin(\\sqrt{\\dfrac{1}{LC} - \\dfrac{R^2}{4L^2}}t)e^{\\dfrac{R}{2L}t}}{\\sqrt{\\dfrac{1}{LC} - \\dfrac{R^2}{4L^2}}} + cos(\\sqrt{\\dfrac{1}{LC} - \\dfrac{R^2}{4L^2}}t)e^{\\dfrac{R}{2L}t}\n",
        "\\end{equation}\n",
        "\n",
        "\n",
        "con entrada $u(t)$\n",
        "\n",
        "Analizaremos solo la parte que se ve afectada y luego completaremos la respuesta con lo encontrado en puntos anteriores:\n",
        "\n",
        "\\begin{equation}\n",
        "\\mathscr{L}\\{u(t)\\}= \\dfrac{1}{s}\n",
        "\\\\V_C(s)= \\dfrac{1}{LCs^2 + RCs + 1} \\dfrac{1}{s} - \\dfrac{LCs + RC}{LC^2 + RCs +1}\n",
        "\\\\\\mathscr{L^{-1}}\\{\\dfrac{1}{LCs^2 + RCs + 1}\\dfrac{1}{s}\\}\n",
        "\\end{equation}\n",
        "\n",
        "Aplicaremos la propiedad de la convolucion en la que tenemos que:\n",
        "\\begin{equation}\n",
        "\\\\\\mathscr{L^{-1}}\\{\\dfrac{1}{LCs^2 + RCs + 1} * \\mathscr{L^{-1}}\\{\\dfrac{1}{s}\\}\n",
        "\\end{equation}\n",
        "Y como ya conocemos la transformada inversa de la primera expresión gracias al punto pasado, tendriamos como resultado que:\n",
        "\\begin{equation}\n",
        "\\\\\\dfrac{sin(\\sqrt{\\dfrac{1}{LC} - \\dfrac{R^2}{4L^2}}t) e^{\\dfrac{R}{2L}t}}{LC \\sqrt{\\dfrac{1}{LC} - \\dfrac{R^2}{4L^2}}} * 1\n",
        "\\end{equation}\n",
        "Seguimos aplicando convolucion con lo que tendriamos como respuesta:\n",
        "\\begin{equation}\n",
        "\\\\= \\int_0^t \\dfrac{sin(\\sqrt{\\dfrac{1}{LC} - \\dfrac{R^2}{4L^2}}\\tau) e^{\\dfrac{R}{2L}\\tau}}{LC \\sqrt{\\dfrac{1}{LC} - \\dfrac{R^2}{4L^2}}} d\\tau\n",
        "\\\\a=\\sqrt{\\dfrac{1}{LC} - \\dfrac{R^2}{4L^2}}\n",
        "\\\\A =\\dfrac{\\dfrac{R}{2L}e^{\\dfrac{R}{2L}t} sin(at) - ae^{\\dfrac{R}{2L}t}cos(at) + a}{a((\\dfrac{R}{2L})^2 + a)}\n",
        "\\end{equation}\n",
        "Y la respuesta final estaria dada por la expresión con entrada escalon seria::\n",
        "\\begin{equation}\n",
        "\\\\V_C(t)= A + B\n",
        "\\\\V_C(t) = \\dfrac{\\dfrac{R}{2L}e^{\\dfrac{R}{2L}t} sin(at) - ae^{\\dfrac{R}{2L}t}cos(at) + a}{a((\\dfrac{R}{2L})^2 + a)} + \\dfrac{\\dfrac{R}{L}sin(\\sqrt{\\dfrac{1}{LC} - \\dfrac{R^2}{4L^2}}t)e^{\\dfrac{R}{2L}t}}{\\sqrt{\\dfrac{1}{LC} - \\dfrac{R^2}{4L^2}}} + cos(\\sqrt{\\dfrac{1}{LC} - \\dfrac{R^2}{4L^2}}t)e^{\\dfrac{R}{2L}t}\\\\\n",
        "\\end{equation}\n",
        "\n",
        "Con entrada $t$\n",
        "Analizaremos solo la parte que se ve afectada y luego completaremos la respuesta con lo encontrado en puntos anteriores:\n",
        "\\begin{equation}\n",
        "\\mathscr{L}\\{t\\} = \\dfrac{1}{s^2}\n",
        "\\\\V_C(s)= \\dfrac{1}{LCs^2 + RCs + 1} \\dfrac{1}{s^2} - \\dfrac{LCs + RC}{LC^2 + RCs + 1}\n",
        "\\\\\\mathscr{L^{-1}}\\{\\dfrac{1}{LCs^2 + RCs + 1} \\dfrac{1}{s^2}\\}\n",
        "\\end{equation}\n",
        "Aplicaremos la de nuevo la propiedad de convolucion:\n",
        "\\begin{equation}\n",
        "\\\\\\mathscr{L^{-1}}\\{\\dfrac{1}{LCs^2 + RCs + 1} * \\mathscr{L^{-1}}\\{\\dfrac{1}{s^2}\\}\n",
        "\\end{equation}\n",
        "Y como ya conocemos la primera transformada inversa gracias al primer punto resuelto, tendriamos comor esultado que:\n",
        "\\begin{equation}\n",
        "\\\\\\dfrac{sin(\\sqrt{\\dfrac{1}{LC} - \\dfrac{R^2}{4L^2}}t) e^{\\dfrac{R}{2L}t}}{LC \\sqrt{\\dfrac{1}{LC} - \\dfrac{R^2}{4L^2}}} * t\n",
        "\\end{equation}\n",
        "Continuamos aplicando convolucion:\n",
        "\\begin{equation}\n",
        "\\\\\\int_0^t \\dfrac{sin(\\sqrt{\\dfrac{1}{LC} - \\dfrac{R^2}{4L^2}} \\tau) e^{\\dfrac{R}{2L} \\tau}}{LC \\sqrt{\\dfrac{1}{LC} - \\dfrac{R^2}{4L^2}}} (t - \\tau) d\\tau\n",
        "\\\\a=\\sqrt{\\dfrac{1}{LC} - \\dfrac{R^2}{4L^2}}\n",
        "\\\\b = \\frac{R}{2L}\n",
        "\\\\C= \\dfrac{(b^2 - a^2)e^{bt} sin(at) - 2abe^{bt}cos(at) + (ab^2 + a^3)t + 2ab}{(ab^4 + 2a^3b^2 + a^5)LC}\n",
        "\\end{equation}\n",
        "\n",
        "Conociendo ya el valor de esta transformada inversa, la respuesta total con entrada rampa seria igual a:\n",
        "\n",
        "\\begin{equation}\n",
        "\\\\V_C(t)= C + B\n",
        "\\\\V_C(t) = \\dfrac{(b^2 - a^2)e^{bt} sin(at) - 2abe^{bt}cos(at) + (ab^2 + a^3)t + 2ab}{LC(ab^4 + 2a^3b^2 + a^5)} + \\dfrac{\\dfrac{R}{L}sin(\\sqrt{\\dfrac{1}{LC} - \\dfrac{R^2}{4L^2}}t)e^{\\dfrac{R}{2L}t}}{\\sqrt{\\dfrac{1}{LC} - \\dfrac{R^2}{4L^2}}} + cos(\\sqrt{\\dfrac{1}{LC} - \\dfrac{R^2}{4L^2}}t)e^{\\dfrac{R}{2L}t}\\\\\n",
        "\\end{equation}"
      ]
    },
    {
      "cell_type": "markdown",
      "metadata": {
        "id": "nKyRnMAkQm6s"
      },
      "source": [
        "Teniendo en cuenta la función de transferencia encontrada en el punto anterior para el circuito $RLC$ en paralelo:\n",
        "\n",
        "\\begin{equation}\n",
        "I_{l}(s)=\\frac{X(s)}{CLs^{2}+\\frac{L}{R}s+1}\n",
        "\\end{equation}\n",
        "\n",
        "En principio, para facilitar los calculos en el denominador se factoriza el $CL$, se tiene así:\n",
        "\n",
        "\\begin{equation}\n",
        "I_{l}(s)=\\frac{1}{CL}\\frac{X(s)}{s^{2}+\\frac{1}{RC}s+\\frac{1}{CL}}\n",
        "\\end{equation}\n",
        "\n",
        "Ahora, para cada una de las entradas:\n",
        "\n",
        "###### i) Impulso unitario:\n",
        "\n",
        "Entonces, se busca en un principio la transformada de esta función para realizar la entrada, entonces:\n",
        "\n",
        "\\begin{equation}\n",
        "X(s)=\\mathcal{L}\\{\\delta (t)\\}=1\n",
        "\\end{equation}\n",
        "\n",
        "Entonces se tiene para la función $I_{l}(t)$, reescribiendo la expresión inicial con el nuevo $X(s)$:\n",
        "\n",
        "\\begin{equation}\n",
        "I_{l}(s)=\\frac{1}{CL}\\frac{1}{s^{2}+\\frac{1}{RC}s+\\frac{1}{CL}}\n",
        "\\end{equation}\n",
        "\n",
        "Para llevar esta expresión a una transformada conocida, se procede a completar cuadrados en el denominador:\n",
        "\n",
        "\\begin{equation}\n",
        "I_{l}(s)=\\frac{1}{CL}\\frac{1}{s^{2}+\\frac{1}{RC}s+\\frac{1}{CL}}=(\\frac{1}{CL})\\frac{1}{s^{2}+\\frac{1}{RC}s+\\frac{1}{CL}+\\frac{1}{4R^{2}C^{2}}-\\frac{1}{4R^{2}C^{2}}}=(\\frac{1}{CL})\\frac{1}{(s+\\frac{1}{2RC})^{2}+(\\frac{1}{CL}-\\frac{1}{4R^{2}C^{2}})}\n",
        "\\end{equation}\n",
        "\n",
        "Esta ecuación viene tomando forma similar a la siguiente transformada conocida:\n",
        "\n",
        "\\begin{equation}\n",
        "\\mathcal{L}\\{e^{-at}\\sin(\\omega t)\\}=\\frac{\\omega}{(s+a)^{2}+\\omega^{2}}\n",
        "\\end{equation}\n",
        "\n",
        "Para llevar la expresión a la forma de esta transformada, se realiza:\n",
        "\n",
        "\\begin{equation}\n",
        "I_{l}(s)=(\\frac{1}{CL\\sqrt{\\frac{1}{CL}-\\frac{1}{4R^{2}C^{2}}}})\\frac{\\sqrt{\\frac{1}{CL}-\\frac{1}{4R^{2}C^{2}}}}{(s+\\frac{1}{2RC})^{2}+(\\frac{1}{CL}-\\frac{1}{4R^{2}C^{2}})}\n",
        "\\end{equation}\n",
        "\n",
        "Entonces:\n",
        "\n",
        "\\begin{equation}\n",
        "I_{l}(t)=(\\frac{1}{CL\\sqrt{\\frac{1}{CL}-\\frac{1}{4R^{2}C^{2}}}})e^{-\\frac{1}{2RC}t}\\sin(\\sqrt{\\frac{1}{CL}-\\frac{1}{4R^{2}C^{2}}}t)\n",
        "\\end{equation}\n",
        "\n",
        "\n"
      ]
    },
    {
      "cell_type": "markdown",
      "metadata": {
        "id": "N-s4zEzSX-Zq"
      },
      "source": [
        "Entrada impulso en serie "
      ]
    },
    {
      "cell_type": "code",
      "metadata": {
        "colab": {
          "base_uri": "https://localhost:8080/",
          "height": 545,
          "referenced_widgets": [
            "456c9df6fe0741d68eadfad873fb4e8a",
            "8a9a122316034d8e9412a5401c258f0f",
            "fdeab6d47eb14d359ac70187ef5de6ac",
            "e71f8289089f4b30947f688304d91367",
            "51619c230cc8488e8d6221d0882326e8",
            "483a3a91cdc846589587a02e9ddbc00f",
            "2c212fa99b0d43eb87e3fb0a4e100ef1",
            "d723acfe658848af9a4346690691e6f4",
            "8454bdf50f384f16af8b6e49142e4a76",
            "83fbe58cd6fc4693b0844471de358d16",
            "a5201937e8fa4ee19342333333d467d4",
            "c75b55e297dc44a986014460d35655eb",
            "bb0092ef5dbb434a97a7e30e2ad1e23f"
          ]
        },
        "id": "4AqMbDlsKkSQ",
        "outputId": "9aa1bdae-58de-480f-c3fa-ba83d683fe2a"
      },
      "source": [
        "\r\n",
        "s = sym.symbols('s', complex=True)\r\n",
        "t, R, L, C = sym.symbols('t R L C', positive=True)\r\n",
        "X = sym.Function('X')(s)\r\n",
        "def rnatural(r,l,c):  \r\n",
        "    RLC = { R: r, L: sym.Rational(l), C: sym.Rational(c)}\r\n",
        "    Yext = 1/(L*C*s**2 + R*C*s + 1) * X\r\n",
        "    yext = sym.inverse_laplace_transform(Yext.subs(RLC).subs(X, 1), s, t)\r\n",
        "    Yint = -(R*C + L*C*s) / (L*C*s**2 + R*C*s + 1) \r\n",
        "    yint = sym.inverse_laplace_transform(Yint.subs(RLC), s, t)\r\n",
        "    y = yext + yint\r\n",
        "    p1 = sym.plot(yext, (t, 0, 5), line_color='b', xlabel='$t$', ylabel='$y(t)$', show=False)\r\n",
        "    p2 = sym.plot(yint, (t, 0, 5), line_color='g', show=False)\r\n",
        "    p3 = sym.plot(y, (t, 0, 5), line_color='r', show=False)\r\n",
        "    p1.extend(p2)\r\n",
        "    p1.extend(p3)\r\n",
        "    p1.show()\r\n",
        "    print(\"Resultado transformada inversa\")\r\n",
        "    return sym.simplify(y)\r\n",
        "\r\n",
        "\r\n",
        "interact(rnatural,r=(1,10,1),l=(0.1,1,0.1),c=(0.1,1,0.1))"
      ],
      "execution_count": 41,
      "outputs": [
        {
          "output_type": "display_data",
          "data": {
            "application/vnd.jupyter.widget-view+json": {
              "model_id": "456c9df6fe0741d68eadfad873fb4e8a",
              "version_minor": 0,
              "version_major": 2
            },
            "text/plain": [
              "interactive(children=(IntSlider(value=5, description='r', max=10, min=1), FloatSlider(value=0.5, description='…"
            ]
          },
          "metadata": {
            "tags": []
          }
        },
        {
          "output_type": "execute_result",
          "data": {
            "text/plain": [
              "<function __main__.rnatural>"
            ]
          },
          "metadata": {
            "tags": []
          },
          "execution_count": 41
        }
      ]
    },
    {
      "cell_type": "markdown",
      "metadata": {
        "id": "ozlWSA5-YF-f"
      },
      "source": [
        "Entrada impulso en paralelo"
      ]
    },
    {
      "cell_type": "code",
      "metadata": {
        "colab": {
          "base_uri": "https://localhost:8080/",
          "height": 513,
          "referenced_widgets": [
            "a5d60d2aeb85421f825d26c93a94cd13",
            "39dcc42b0b4841a3a4fbe8e62a8f56a6",
            "7b7bd32444834e79ad7ac23de9b92921",
            "611d1076a65d482a8d7de97ee6095de8",
            "a482da3853454a59af7eca605978a266",
            "69c42dbbd84846a38ce6d2655c95fff4",
            "7b48e9c8aaf84981b89b901040062ad3",
            "41bcb7abc15b4002bcfaaba6a8992f1c",
            "74c0c6a68fbe441a8eb3e1bcda84f056",
            "0f88a230df3a43f88e10eeb61793c521",
            "6f01dd5ae2d94ad6b4abce359aad7e6c",
            "76f791e5e40b4abda7b31671e703420a",
            "ad84d3203829478cb43105554481f4d9"
          ]
        },
        "id": "7XU5Ytn6YMyx",
        "outputId": "6393eaf2-5f36-4a98-b4af-948abedba363"
      },
      "source": [
        "import sympy as sym\r\n",
        "from __future__ import print_function\r\n",
        "from ipywidgets import interact, interactive, fixed, interact_manual\r\n",
        "import ipywidgets as widgets\r\n",
        "s = sym.symbols('s', complex=True)\r\n",
        "t, R, L, C = sym.symbols('t R L C', positive=True)\r\n",
        "X = sym.Function('X')(s)\r\n",
        "def rnatural(r,l,c):  \r\n",
        "    RLC = { R: r, L: sym.Rational(l), C: sym.Rational(c)}\r\n",
        "    Y = 1/(L*C*s**2 + (L/R)*s + 1) * X\r\n",
        "    y = sym.inverse_laplace_transform(Y.subs(RLC).subs(X, 1), s, t)\r\n",
        "    p1 = sym.plot(y, (t, 0, 5), line_color='b', xlabel='$t$', ylabel='$y(t)$',ylim=[-3,3], show=False)\r\n",
        "    p2 = sym.plot(y, (t, 0, 5), line_color='r',ylim=[-3,3], show=False)\r\n",
        "    p1.extend(p2)\r\n",
        "    p1.show()\r\n",
        "    print(\"y la transformada inversa nos daria como resultado\")\r\n",
        "    return sym.simplify(y)\r\n",
        "\r\n",
        "\r\n",
        "interact(rnatural,r=(1,10,1),l=(0.1,1,0.1),c=(0.1,1,0.1))"
      ],
      "execution_count": 5,
      "outputs": [
        {
          "output_type": "display_data",
          "data": {
            "application/vnd.jupyter.widget-view+json": {
              "model_id": "a5d60d2aeb85421f825d26c93a94cd13",
              "version_minor": 0,
              "version_major": 2
            },
            "text/plain": [
              "interactive(children=(IntSlider(value=5, description='r', max=10, min=1), FloatSlider(value=0.5, description='…"
            ]
          },
          "metadata": {
            "tags": []
          }
        },
        {
          "output_type": "execute_result",
          "data": {
            "text/plain": [
              "<function __main__.rnatural>"
            ]
          },
          "metadata": {
            "tags": []
          },
          "execution_count": 5
        }
      ]
    },
    {
      "cell_type": "markdown",
      "metadata": {
        "id": "rMHBZaNjKkuQ"
      },
      "source": [
        "###### ii) Función escalón $u(t)$:\r\n",
        "\r\n",
        "Buscando la transformada de esta entrada:\r\n",
        "\r\n",
        "\\begin{equation}\r\n",
        "X(s)=\\mathcal{L}\\{u(t)\\}=\\frac{1}{s}\r\n",
        "\\end{equation}\r\n",
        "\r\n",
        "Se puede ahorrar trabajo al ya tener una expresión relacionada a una transformada del punto anterior, donde, al multiplicar por la transformada de la nueva entrada, se convierte en una convolusión:\r\n",
        "\r\n",
        "\\begin{equation}\r\n",
        "I_{l}(s)=\\frac{X(s)}{CL}\\frac{1}{s^{2}+\\frac{1}{RC}s+\\frac{1}{CL}}=(\\frac{1}{CL\\sqrt{\\frac{1}{CL}-\\frac{1}{4R^{2}C^{2}}}})\\frac{\\sqrt{\\frac{1}{CL}-\\frac{1}{4R^{2}C^{2}}}}{(s+\\frac{1}{2RC})^{2}+(\\frac{1}{CL}-\\frac{1}{4R^{2}C^{2}})}X(s)=(\\frac{1}{CL\\sqrt{\\frac{1}{CL}-\\frac{1}{4R^{2}C^{2}}}})\\frac{\\sqrt{\\frac{1}{CL}-\\frac{1}{4R^{2}C^{2}}}}{(s+\\frac{1}{2RC})^{2}+(\\frac{1}{CL}-\\frac{1}{4R^{2}C^{2}})}(\\frac{1}{s})\r\n",
        "\\end{equation}\r\n",
        "\r\n",
        "Se sabe entonces que:\r\n",
        "\r\n",
        "\\begin{equation}\r\n",
        "\\mathcal{L}^{-1}\\{X(s)Y(s)\\}=x(t)*y(t)=\\int_{0}^{t}x(\\tau)y(t-\\tau)d\\tau\r\n",
        "\\end{equation}\r\n",
        "\r\n",
        "Entonces así se tiene que:\r\n",
        "\r\n",
        "\\begin{equation}\r\n",
        "x(t)=1 \r\n",
        "\\end{equation}\r\n",
        "\\begin{equation}\r\n",
        "y(t)= e^{-\\frac{1}{2RC}t}\\sin(\\sqrt{\\frac{1}{CL}-\\frac{1}{4R^{2}C^{2}}}t)\r\n",
        "\\end{equation}\r\n",
        "\r\n",
        "Entonces la convolución para la señal será:\r\n",
        "\r\n",
        "\\begin{equation}\r\n",
        "I_{l}(t)=(\\frac{1}{CL\\sqrt{\\frac{1}{CL}-\\frac{1}{4R^{2}C^{2}}}})\\int_{0}^{t}e^{-\\frac{1}{2RC}\\tau}\\sin(\\sqrt{\\frac{1}{CL}-\\frac{1}{4R^{2}C^{2}}}\\tau)d\\tau\r\n",
        "\\end{equation}\r\n",
        "\r\n",
        "Resolviendo la integral:\r\n",
        "\r\n",
        "\\begin{equation}\r\n",
        "I_{l}(t)=(\\frac{1}{CL\\sqrt{\\frac{1}{CL}-\\frac{1}{4R^{2}C^{2}}}})(\\frac{L\\sqrt{\\frac{4R^{2}C-L}{L}}}{2R}-\\frac{e^{-\\frac{1}{2RC}t}(L\\sin(\\frac{\\sqrt{\\frac{4RC^{2}-L}{L}}t}{2RC})+L\\sqrt{\\frac{4RC^{2}-L}{L}}\\cos(\\frac{\\sqrt{\\frac{4RC^{2}-L}{L}}t}{2RC}))}{2R})\r\n",
        "\\end{equation}\r\n",
        "\r\n"
      ]
    },
    {
      "cell_type": "markdown",
      "metadata": {
        "id": "Z_eXcmhhYTQI"
      },
      "source": [
        "Escalon en serie "
      ]
    },
    {
      "cell_type": "code",
      "metadata": {
        "colab": {
          "base_uri": "https://localhost:8080/",
          "height": 513,
          "referenced_widgets": [
            "12d833c4c9e44a96847db578067788cd",
            "92068cf583d246dc8fb786189e97eb81",
            "2dc263d8753d43fa995be18d222eb05c",
            "f51370198131416d89c141b76e1586c6",
            "8e7c394b2fae44daa75be5615c3ac837",
            "67eeeb8b10ff458eafc16a64103a12b9",
            "448bff372b9f4794a00e4aed3d48d953",
            "8e51ab37b4c047ddab653169ebd69c9b",
            "a0fa52742e4d49a4a4e6a11848b7e24c",
            "cda39b53c14a4c34ae02ef8b52e64960",
            "88b54dc9d2fe424b94edd456d5d2790d",
            "21ddd0e5376e4daa9f329bfba4ea4f3c",
            "1dadb56cbf5744169810887eba15da10"
          ]
        },
        "id": "p78swbkqKmh0",
        "outputId": "55e9d3c8-9de0-4838-8341-4ab1d42253bc"
      },
      "source": [
        "s = sym.symbols('s', complex=True)\r\n",
        "t, R, L, C = sym.symbols('t R L C', positive=True)\r\n",
        "X = sym.Function('X')(s)\r\n",
        "def rnatural(r,l,c):  \r\n",
        "    RLC = { R: r, L: sym.Rational(l), C: sym.Rational(c)}\r\n",
        "    Yext = 1/(L*C*s**2 + R*C*s + 1) * X\r\n",
        "    yext = sym.inverse_laplace_transform(Yext.subs(RLC).subs(X, 1/s), s, t)\r\n",
        "    Yint = -(R*C + L*C*s) / (L*C*s**2 + R*C*s + 1) \r\n",
        "    yint = sym.inverse_laplace_transform(Yint.subs(RLC), s, t)\r\n",
        "    y = yext + yint\r\n",
        "    p1 = sym.plot(yext, (t, 0, 5), line_color='b', xlabel='$t$', ylabel='$y(t)$',ylim=[-3,3], show=False)\r\n",
        "    p2 = sym.plot(yint, (t, 0, 5), line_color='g',ylim=[-3,3], show=False)\r\n",
        "    p3 = sym.plot(y, (t, 0, 5), line_color='r',ylim=[-3,3], show=False)\r\n",
        "    p1.extend(p2)\r\n",
        "    p1.extend(p3)\r\n",
        "    p1.show()\r\n",
        "    print(\"Resultado transformada inversa\")\r\n",
        "    return sym.simplify(y)\r\n",
        "\r\n",
        "\r\n",
        "interact(rnatural,r=(1,10,1),l=(0.1,1,0.1),c=(0.1,1,0.1))"
      ],
      "execution_count": 8,
      "outputs": [
        {
          "output_type": "display_data",
          "data": {
            "application/vnd.jupyter.widget-view+json": {
              "model_id": "12d833c4c9e44a96847db578067788cd",
              "version_minor": 0,
              "version_major": 2
            },
            "text/plain": [
              "interactive(children=(IntSlider(value=5, description='r', max=10, min=1), FloatSlider(value=0.5, description='…"
            ]
          },
          "metadata": {
            "tags": []
          }
        },
        {
          "output_type": "execute_result",
          "data": {
            "text/plain": [
              "<function __main__.rnatural>"
            ]
          },
          "metadata": {
            "tags": []
          },
          "execution_count": 8
        }
      ]
    },
    {
      "cell_type": "markdown",
      "metadata": {
        "id": "ElIE3aYgYWJ6"
      },
      "source": [
        "Escalon en paralelo"
      ]
    },
    {
      "cell_type": "code",
      "metadata": {
        "colab": {
          "base_uri": "https://localhost:8080/",
          "height": 562,
          "referenced_widgets": [
            "0f533afd175d40adbf369ad29ce1bd9d",
            "57f4f5fe03964c06b66b1b5704f8eae9",
            "a22ef252392a4851ab5db21c7d9ec9dc",
            "06538fdf24d24f819da2c7d7d96af9a8",
            "745d8bffc4664836b0663146a91d329f",
            "cb2b7da3e4504406b048f88ad6eb1fb0",
            "ebbbc14e8c1342c586a51e22848c6213",
            "343845dafeb9448bbacdc29adf3866dc",
            "43b9d0719de94f3c9490d5de69cacc8f",
            "63ba051113954e58b67f0bfefe4b36e0",
            "8c2178c1f56544769fcb8eaf0c89c5cc",
            "06c873270000470980def4746d69a5df",
            "7bd0a2d5b5d2432d8379a8d5e81d697f"
          ]
        },
        "id": "6RiYKe5fYYBf",
        "outputId": "0272f439-7865-4de6-cf38-c0d1174e7347"
      },
      "source": [
        "s = sym.symbols('s', complex=True)\r\n",
        "t, R, L, C = sym.symbols('t R L C', positive=True)\r\n",
        "X = sym.Function('X')(s)\r\n",
        "def rnatural(r,l,c):  \r\n",
        "    RLC = { R: r, L: sym.Rational(l), C: sym.Rational(c)}\r\n",
        "    Y = 1/(L*C*s**2 + (L/R)*s + 1) * X\r\n",
        "    y = sym.inverse_laplace_transform(Y.subs(RLC).subs(X, 1/s), s, t)\r\n",
        "    p1 = sym.plot(y, (t, 0, 5), line_color='b', xlabel='$t$', ylabel='$y(t)$',ylim=[0,3], show=False)\r\n",
        "    p2 = sym.plot(y, (t, 0, 5), line_color='r',ylim=[0,3], show=False)\r\n",
        "    p1.extend(p2)\r\n",
        "    p1.show()\r\n",
        "    print(\"y la transformada inversa nos daria como resultado\")\r\n",
        "    return sym.simplify(y)\r\n",
        "\r\n",
        "\r\n",
        "interact(rnatural,r=(1,10,1),l=(0.1,1,0.1),c=(0.1,1,0.1))"
      ],
      "execution_count": 10,
      "outputs": [
        {
          "output_type": "display_data",
          "data": {
            "application/vnd.jupyter.widget-view+json": {
              "model_id": "0f533afd175d40adbf369ad29ce1bd9d",
              "version_minor": 0,
              "version_major": 2
            },
            "text/plain": [
              "interactive(children=(IntSlider(value=5, description='r', max=10, min=1), FloatSlider(value=0.5, description='…"
            ]
          },
          "metadata": {
            "tags": []
          }
        },
        {
          "output_type": "execute_result",
          "data": {
            "text/plain": [
              "<function __main__.rnatural>"
            ]
          },
          "metadata": {
            "tags": []
          },
          "execution_count": 10
        }
      ]
    },
    {
      "cell_type": "markdown",
      "metadata": {
        "id": "hJYPqJ_iKnEp"
      },
      "source": [
        "###### iii) Función rampa $x(t)=t$:\r\n",
        "\r\n",
        "La transformada de esta función viene dada por:\r\n",
        "\r\n",
        "\\begin{equation}\r\n",
        "X(s)=\\mathcal{L}\\{t\\}=\\frac{1}{s^{2}}\r\n",
        "\\end{equation}\r\n",
        "\r\n",
        "Se puede ahorrar trabajo al ya tener una expresión relacionada a una transformada del primer punto, donde, al multiplicar por la transformada de la nueva entrada, se convierte en una convolusión:\r\n",
        "\r\n",
        "\\begin{equation}\r\n",
        "I_{l}(s)=\\frac{X(s)}{CL}\\frac{1}{s^{2}+\\frac{1}{RC}s+\\frac{1}{CL}}=(\\frac{1}{CL\\sqrt{\\frac{1}{CL}-\\frac{1}{4R^{2}C^{2}}}})\\frac{\\sqrt{\\frac{1}{CL}-\\frac{1}{4R^{2}C^{2}}}}{(s+\\frac{1}{2RC})^{2}+(\\frac{1}{CL}-\\frac{1}{4R^{2}C^{2}})}X(s)=(\\frac{1}{CL\\sqrt{\\frac{1}{CL}-\\frac{1}{4R^{2}C^{2}}}})\\frac{\\sqrt{\\frac{1}{CL}-\\frac{1}{4R^{2}C^{2}}}}{(s+\\frac{1}{2RC})^{2}+(\\frac{1}{CL}-\\frac{1}{4R^{2}C^{2}})}(\\frac{1}{s^{2}})\r\n",
        "\\end{equation}\r\n",
        "\r\n",
        "E igual como en el anterior punto, se realiza la convolución, ya que se conocen las transformadas inversas de cada una de las dos funciones:\r\n",
        "\r\n",
        "\\begin{equation}\r\n",
        "x(t)=t \r\n",
        "\\end{equation}\r\n",
        "\\begin{equation}\r\n",
        "y(t)= e^{-\\frac{1}{2RC}t}\\sin(\\sqrt{\\frac{1}{CL}-\\frac{1}{4R^{2}C^{2}}}t)\r\n",
        "\\end{equation}\r\n",
        "\r\n",
        "Entonces la convolución para la señal será:\r\n",
        "\r\n",
        "\\begin{equation}\r\n",
        "I_{l}(t)=(\\frac{1}{CL\\sqrt{\\frac{1}{CL}-\\frac{1}{4R^{2}C^{2}}}})\\int_{0}^{t}e^{-\\frac{1}{2RC}\\tau}\\sin(\\sqrt{\\frac{1}{CL}-\\frac{1}{4R^{2}C^{2}}}\\tau)(t-\\tau)d\\tau\r\n",
        "\\end{equation}\r\n",
        "\r\n",
        "Realizando la integral se da que:\r\n",
        "\r\n",
        "\\begin{equation}\r\n",
        "I_{l}(t)=(\\frac{1}{CL\\sqrt{\\frac{1}{CL}-\\frac{1}{4R^{2}C^{2}}}})(-\\frac{e^{-(\\frac{1}{2RC})t}(((\\sqrt{\\frac{1}{CL}-\\frac{1}{4R^{2}C^{2}}})^{2}-(\\frac{1}{2RC})^{2})\\sin(\\sqrt{\\frac{1}{CL}-\\frac{1}{4R^{2}C^{2}}}t)-2(\\frac{1}{2RC})(\\sqrt{\\frac{1}{CL}-\\frac{1}{4R^{2}C^{2}}})\\cos(\\sqrt{\\frac{1}{CL}-\\frac{1}{4R^{2}C^{2}}}t)-te^{\\frac{1}{2RC}t}(\\sqrt{\\frac{1}{CL}-\\frac{1}{4R^{2}C^{2}}})^{3}+(\\frac{1}{RC}-(\\frac{1}{2RC})^{2}t)e^{\\frac{1}{2RC}t}\\sqrt{\\frac{1}{CL}-\\frac{1}{4R^{2}C^{2}}})}{(\\sqrt{\\frac{1}{CL}-\\frac{1}{4R^{2}C^{2}}})^{4}+2(\\frac{1}{2RC})^{2}(\\sqrt{\\frac{1}{CL}-\\frac{1}{4R^{2}C^{2}}})^{2}+(\\frac{1}{2RC})^{4}})\r\n",
        "\\end{equation}"
      ]
    },
    {
      "cell_type": "markdown",
      "metadata": {
        "id": "AyO1GSsuYcaY"
      },
      "source": [
        "Función rampa en serie"
      ]
    },
    {
      "cell_type": "code",
      "metadata": {
        "colab": {
          "base_uri": "https://localhost:8080/",
          "height": 148,
          "referenced_widgets": [
            "58ce4bfccd004ea5bb6b212907cfc9e3",
            "95ce888b1f134468bfb64b85ee38c671",
            "8378e36f32d843c39864f43829f4a11c",
            "32ce61f5642c4113aff6efd154e4901f",
            "ed35d2e07a784532bf36069c977d166d",
            "09325df14511428180ddbd93bba307d5",
            "a0488f05487640498426e6e59cfc2464",
            "c2a3ec935dc34d07b014bfea423d9ab7",
            "fe6735ef1502452eae1c497aeb26d54c",
            "5368a932ef9543d2807d9d6be248453d",
            "af7eeab5e0974ffb81f8714192adb4de",
            "d25044806f8e4f9b858dfb5a37bdb062",
            "f8ac1aa8582d47f49de3a8b990e8e096"
          ]
        },
        "id": "1xDMTf3OWdai",
        "outputId": "2bd9e05a-bd27-482e-cbe9-874c576ed652"
      },
      "source": [
        "s = sym.symbols('s', complex=True)\r\n",
        "t, R, L, C = sym.symbols('t R L C', positive=True)\r\n",
        "X = sym.Function('X')(s)\r\n",
        "def rnatural(r,l,c):  \r\n",
        "    RLC = { R: r, L: sym.Rational(l), C: sym.Rational(c)}\r\n",
        "    Yext = 1/(L*C*s**2 + R*C*s + 1) * X\r\n",
        "    yext = sym.inverse_laplace_transform(Yext.subs(RLC).subs(X, 1/s**2), s, t)\r\n",
        "    Yint = - (R*C + L*C*s) / (L*C*s**2 + R*C*s + 1) \r\n",
        "    yint = sym.inverse_laplace_transform(Yint.subs(RLC), s, t)\r\n",
        "    return yext\r\n",
        "\r\n",
        "\r\n",
        "interact(rnatural,r=(1,10,1),l=(0.1,1,0.1),c=(0.1,1,0.1))"
      ],
      "execution_count": 11,
      "outputs": [
        {
          "output_type": "display_data",
          "data": {
            "application/vnd.jupyter.widget-view+json": {
              "model_id": "58ce4bfccd004ea5bb6b212907cfc9e3",
              "version_minor": 0,
              "version_major": 2
            },
            "text/plain": [
              "interactive(children=(IntSlider(value=5, description='r', max=10, min=1), FloatSlider(value=0.5, description='…"
            ]
          },
          "metadata": {
            "tags": []
          }
        },
        {
          "output_type": "execute_result",
          "data": {
            "text/plain": [
              "<function __main__.rnatural>"
            ]
          },
          "metadata": {
            "tags": []
          },
          "execution_count": 11
        }
      ]
    },
    {
      "cell_type": "markdown",
      "metadata": {
        "id": "xwZhDVVXYgzM"
      },
      "source": [
        "Función rampa en paralelo"
      ]
    },
    {
      "cell_type": "code",
      "metadata": {
        "colab": {
          "base_uri": "https://localhost:8080/",
          "height": 148,
          "referenced_widgets": [
            "7da7f98290474f07972ee856688765c3",
            "fb35bc9336044fb1a5142f16653342e3",
            "76ab7761f56f45798a4953e19726f7e4",
            "5746557a2a8a457980daa8174bb86b01",
            "d63b943d8e004db6aeb208158e36fcb8",
            "7cc24557c43e4999b1e0904c3fcb33c2",
            "205691faa20f40afb99d1dafacb39bda",
            "2dcc79303b394d1ca59a95cead7ab748",
            "ffd2581a69c0405687223859e58a7f16",
            "daea98362836471cb46f920258f4eaa6",
            "544ad20f591b436688f74367ea9ad7fe",
            "686f889ea24f4d22ab2cd8ef1f9f0cdf",
            "2be83f761d414213ada14b3a546892a7"
          ]
        },
        "id": "lFcC9RmmYkIn",
        "outputId": "c57cae2d-cd25-47bb-f579-1ab13100c3f0"
      },
      "source": [
        "s = sym.symbols('s', complex=True)\r\n",
        "t, R, L, C = sym.symbols('t R L C', positive=True)\r\n",
        "X = sym.Function('X')(s)\r\n",
        "def rnatural(r,l,c):  \r\n",
        "    RLC = { R: r, L: sym.Rational(l), C: sym.Rational(c)}\r\n",
        "    Y = 1/(L*C*s**2 + (L/R)*s + 1) * X\r\n",
        "    y = sym.inverse_laplace_transform(Y.subs(RLC).subs(X, 1/(s**2)), s, t)\r\n",
        "    return y\r\n",
        "\r\n",
        "\r\n",
        "interact(rnatural,r=(1,10,1),l=(0.1,1,0.1),c=(0.1,1,0.1))"
      ],
      "execution_count": 12,
      "outputs": [
        {
          "output_type": "display_data",
          "data": {
            "application/vnd.jupyter.widget-view+json": {
              "model_id": "7da7f98290474f07972ee856688765c3",
              "version_minor": 0,
              "version_major": 2
            },
            "text/plain": [
              "interactive(children=(IntSlider(value=5, description='r', max=10, min=1), FloatSlider(value=0.5, description='…"
            ]
          },
          "metadata": {
            "tags": []
          }
        },
        {
          "output_type": "execute_result",
          "data": {
            "text/plain": [
              "<function __main__.rnatural>"
            ]
          },
          "metadata": {
            "tags": []
          },
          "execution_count": 12
        }
      ]
    },
    {
      "cell_type": "markdown",
      "metadata": {
        "id": "CtzH8-QYYm9Q"
      },
      "source": [
        "En este caso no podemos comprobarlo ya que sympy no es capáz de realizar la simulación"
      ]
    },
    {
      "cell_type": "markdown",
      "metadata": {
        "id": "Pi0Y6VYEQm6t"
      },
      "source": [
        "### 3.5. Consulte en qué consiste un sistema subamortiguado, sobre amortiguado y de amortiguamiento critico. Generé simulaciones para ejemplificar cada uno de los casos con los sistemas R, L, C serie y paralelo estudiados. \n",
        "NOTA: asuma condiciones iniciales cero.\n",
        "\n",
        "El tener la ecuación de un circuito RLC, en este caso en serie, se forma una ecuación diferencial de segundo orden de esta forma:\n",
        "\n",
        "\\begin{equation}\n",
        "L\\frac{d^{2}i(t)}{dt^{2}}+R\\frac{di(t)}{dt}+\\frac{1}{C}i(t)\n",
        "\\end{equation}\n",
        "\n",
        "Para facilitar la resolución de este ejercicio se deja la mayo derivada con coeficiente $1$, así:\n",
        "\n",
        "\\begin{equation}\n",
        "\\frac{d^{2}i(t)}{dt^{2}}+\\frac{R}{L}\\frac{di(t)}{dt}+\\frac{1}{LC}i(t)\n",
        "\\end{equation}\n",
        "\n",
        "Solucionando esta ecuación:\n",
        "\n",
        "\\begin{equation}\n",
        "s^{2}+\\frac{R}{L}s+\\frac{1}{LC}(1)\n",
        "\\end{equation}\n",
        "\n",
        "Solucionando mediante la ecuación general:\n",
        "\n",
        "\\begin{equation}\n",
        "s=\\frac{-R \\pm \\sqrt{R^{2}-\\frac{4L}{C}}}{2L}\n",
        "\\end{equation}\n",
        "\n",
        "Así se llega a una solución de 3 diferentes formas, en principio se tendrá que centrar en la ecuación $1$, donde se relacionan dos valores:\n",
        "\n",
        "$\\alpha=\\frac{R}{2L}$   \\\\    \\$\\omega_{o}=\\frac{1}{\\sqrt{LC}}$\n",
        "\n",
        "Si se quiere cambiar la ecuación general dada por eso, se tendrá que:\n",
        "\n",
        "\\begin{equation}\n",
        "s=-\\alpha \\pm \\sqrt{\\alpha^{2}-\\omega_{o}^{2}}\n",
        "\\end{equation}\n",
        "\n",
        "Teniendo en cuenta esto, esta establecido que los sistemas se rigen de acuerdo a la siguiente tabla:\n",
        "\n",
        "RELACIÓN |NATURALEZA DEL SISTEMA | SALIDA\n",
        ":--------: | :-------:|:-------:\n",
        "$\\alpha > \\omega_{o}$|Sobre amortiguado|2 exponenciales decrecientes\n",
        "$\\alpha=\\omega_{o}$ | Criticamente amortiguado|$t$ por una exponencial decreciente\n",
        "$\\alpha < \\omega_{o}$|Subamortiguado|Seno decreciente\n",
        "\n",
        "#### SOBRE AMORTIGUADO:\n",
        "\n",
        "Se dice que el circuito está sobreamortiguado porque las dos exponenciales superpuestas están llevando la corriente a cero. Un circuito estará sobreamortiguado si la resistencia es alta en relación a la frecuencia de resonancia.\n",
        "\n",
        "#### CRITICAMENTE AMORTIGUADO:\n",
        "\n",
        "En un sistema críticamente amortiguado, el sistema se encuentra en un estado estático.\n",
        "\n",
        "#### SUBAMORTIGUADO:\n",
        "\n",
        "\n",
        "En un sistema subamortiguado se presenta una oscilación variante de la corriente hasta el punto en que se llevara a cero.\n",
        "\n",
        "#### CRITICAMENTE AMORTIGUADO:\n",
        "\n",
        "En un sistema críticamente amortiguado, el sistema se encuentra en un estado estático."
      ]
    },
    {
      "cell_type": "code",
      "metadata": {
        "id": "72pjbgC4Qm6t",
        "colab": {
          "base_uri": "https://localhost:8080/",
          "height": 574,
          "referenced_widgets": [
            "8a13e0b8f40d4f988d430f8b302bbbde",
            "f76e038b53d74b3b82b880902b74d15e",
            "d64a5b89105c4e058c612139e864c3d9",
            "c9f7d5ed942f4601a03ce86c8f141f37",
            "8946ec8ebaee4a09bcdf9a07155e9bdc",
            "7130dc075fce4f6fa4e59df19bee096a",
            "26ead81b7d5e41b1b3ad5204b0d12d7c",
            "4db063b97cd94186b0d3a27748284be6",
            "9f5d232ef2954ea68e8fd3bac90c982e",
            "ab1dd5dfd2754498b8c953712401a853",
            "15967685b8ad47a8a3caab53c198d195",
            "1d2184ab4ee740a394eade818d9427d6",
            "40c66ec65ac4440ea6358246366ad698",
            "c9cdbcc76e6f4a5a82fac41873a5469a",
            "b08a026e554d4dc0acaef5645c0ca44b",
            "e6123ef1386f4dfcaa8143769252adbc"
          ]
        },
        "outputId": "6b3d0446-1659-4da6-ab05-1a51b0f50d8c"
      },
      "source": [
        "from __future__ import print_function\n",
        "from ipywidgets import interact, interactive, fixed, interact_manual\n",
        "import sympy as sym\n",
        "import ipywidgets as widgets\n",
        "\n",
        "def rnatural(R,L,C,K):\n",
        "    a,w, t=sym.symbols('a,w, t', real=True)\n",
        "    i=sym.Function('i')(t)\n",
        "    ode=sym.Eq(i.diff(t,2)+(R/L)*i.diff(t)+(1/L*C)*i,K)\n",
        "    a=R/(2*L)\n",
        "    w=(1/sym.sqrt(L*C)).evalf()\n",
        "    soeq= sym.dsolve(ode)\n",
        "    ic=sym.solve((soeq.rhs.limit(t,0,'-'), soeq.rhs.diff(t).limit(t,0,'-')),['C1','C2'])\n",
        "    it = soeq.subs(ic)\n",
        "    if a > w:\n",
        "        print(\"Sistema sobre amortiguado\")\n",
        "    if a == w:\n",
        "        print(\"Sistema criticamente amortiguado\")\n",
        "    if a < w :\n",
        "        print(\"Sistema subamortiguado\")\n",
        "    sym.plot((it.rhs), (t,0,10), ylabel=r'$I(t)$',lim=[-3,3])\n",
        "    return it\n",
        "interact(rnatural,R=(0,10,1),L=(0,10,1),C=(0,10,1),K=(0,10,1))"
      ],
      "execution_count": 2,
      "outputs": [
        {
          "output_type": "display_data",
          "data": {
            "application/vnd.jupyter.widget-view+json": {
              "model_id": "8a13e0b8f40d4f988d430f8b302bbbde",
              "version_minor": 0,
              "version_major": 2
            },
            "text/plain": [
              "interactive(children=(IntSlider(value=5, description='R', max=10), IntSlider(value=5, description='L', max=10)…"
            ]
          },
          "metadata": {
            "tags": []
          }
        },
        {
          "output_type": "execute_result",
          "data": {
            "text/plain": [
              "<function __main__.rnatural>"
            ]
          },
          "metadata": {
            "tags": []
          },
          "execution_count": 2
        }
      ]
    },
    {
      "cell_type": "markdown",
      "metadata": {
        "id": "VcYXoPsUQm6u"
      },
      "source": [
        "### 3.6.Para los sistemas del punto 3 encuentre las expresiones para el factor de amortiguamiento $\\xi$; la frecuencia natural no amortiguada $\\omega_n$, y la frecuencia naturual amortiguada $\\omega_d$ en función de R, L, y C. Nota: asuma condiciones iniciales cero.\n",
        "\n",
        "*SERIE*\n",
        "\n",
        "\n",
        "Sabiendo que $i(t)=i_c(t)=\\dfrac{cdV_C(t)}{dt}$,  $v_L(t)=\\dfrac{Ldi(t)}{dt}=\\dfrac{LcdV_C(t)}{dt^{2}}$\n",
        "\n",
        "\\begin{equation}\n",
        "x(t)=V_R(t)+V_L(t)+V_C(t)\n",
        "\\\\x(t)=\\dfrac{RCdV_C(t)}{dt} + \\dfrac{LCd^2V_C(t)}{dt^2} + V_C(t)\n",
        "\\end{equation}\n",
        "\n",
        "Tomando $a_2=LC$, $a_1=RC$, $a_0=1$:\n",
        "\n",
        "\\begin{equation}\n",
        "x(t)=\\dfrac{a_2d^2V_C(t)}{dt^2} + \\dfrac{a_1dV_C(t)}{dt} + a_0V_C(t)\n",
        "\\end{equation}\n",
        "\n",
        "Con condiciones iniciales 0:\n",
        "\n",
        "\\begin{equation}\n",
        "X(s)=a_0S^2V_C(s) + a_1sV_C(s) + V_C(s)\n",
        "\\\\H(s)=\\dfrac{V_C(s)}{X(s)} = \\dfrac{1}{a_2s^2 + a_1s + 1}\n",
        "\\\\H(s)=\\dfrac{kw_n^2}{s^2 + 2\\xi w_ns + w_n^2} = \\dfrac{\\dfrac{1}{a_0}\\dfrac{a_0}{a_2}}{s^2 + \\dfrac{a_1s}{a_2} + \\dfrac{a_0}{a_2}}\n",
        "\\end{equation}\n",
        "\n",
        "Teniendo esta igualacion clara, procederemos a encontrar lo pedido en el inciso del punto:\n",
        "\\begin{equation}\n",
        "k=\\dfrac{1}{a_0} = \\dfrac{1}{1}\\\\\n",
        "w_n^2=\\dfrac{a_0}{a_2}=\\dfrac{1}{LC} \\\\\n",
        "w_n=\\sqrt{\\dfrac{1}{LC}} \\\\\n",
        "\\xi=\\dfrac{a_1}{z\\sqrt{a_0a_2}}=\\dfrac{RC}{2\\sqrt{LC}}=\\dfrac{R}{2}\\sqrt{\\dfrac{C}{L}}\\\\\n",
        "w_d=w_n\\sqrt{1 - \\xi^2}=(\\dfrac{1}{LC}(1 - \\dfrac{R^2C}{4L}))^{1/2}\\\\\n",
        "\\end{equation}\n",
        "Con esto encontramos  las expresiones para el factor de amortiguamiento $\\xi$; la frecuencia natural no amortiguada $\\omega_n$, y la frecuencia naturual amortiguada $\\omega_d$ en función de R, L, y C. Nota: asuma condiciones iniciales cero, ahora para complementar el punto expresaremos la funcion de transferencia.\n",
        "\n",
        "\\begin{equation}\n",
        "H(s)=\\dfrac{Y(s)}{X(s)}, Y(s)=\\mathscr{L}\\{H(s)X(s)\\}\n",
        "\\\\H(s)=\\dfrac{\\dfrac{1}{LC}}{s^2 + R\\sqrt{\\dfrac{C}{L}}\\sqrt{\\dfrac{1}{LC}}s + \\dfrac{1}{LC}}\n",
        "\\\\H(s)=\\dfrac{\\dfrac{1}{LC}}{s^2 + \\dfrac{Rs}{L} + \\dfrac{1}{LC}}\n",
        "\\end{equation}\n",
        "\n",
        "*PARALELO*\n",
        "\n",
        "\n",
        "\\begin{equation}\n",
        "V_R(t)=V_C(t)=V_L(t)\n",
        "x(t)=i_R(t)+i_L(t)+i_C(t)\n",
        "\\\\x(t)=\\dfrac{Ldi_L(t)}{Rdt} + \\dfrac{CLd^2i_L(t)}{dt^2} + i_L(t)\n",
        "\\\\x(t)=\\dfrac{CLd^2i_L(t)}{dt^2} + \\dfrac{Ldi_L(t)}{Rdt} + i_L(t)\n",
        "\\\\x(t)=\\dfrac{a_2d^2i_L(t)}{dt^2} + \\dfrac{a_1di_L(t)}{dt} + \\dfrac{a_0iL(t)}{dt}\n",
        "\\end{equation}\n",
        "\n",
        "Condiciones iniciales cero\n",
        "\n",
        "\\begin{equation}\n",
        "X(s)= a_2s^2I(s) + a_1sI(s) + a_0I(s)\n",
        "\\\\H(s)=\\dfrac{I(s)}{X(s)} = \\dfrac{1}{a_2s^2 + a_1s + a_0}\n",
        "\\\\H(s)= \\dfrac{Kw_n^2}{s^2 + 2\\xi w_ns + w_n^2} = \\dfrac{\\dfrac{a_0}{a_0 a_2}}{s^2 + \\dfrac{a_1 s}{a_2} + \\dfrac{a_0}{a_2}}\n",
        "\\end{equation}\n",
        "Teniendo esta igualacion clara, procederemos a encontrar lo pedido en el inciso del punto:\n",
        "\\begin{equation}\n",
        "k=\\dfrac{1}{a_0}=1\\\\\n",
        "w_n^2=\\dfrac{a_0}{a_2}=\\dfrac{1}{LC}\\\\\n",
        "w_n=\\sqrt{\\dfrac{1}{LC}}\\\\\n",
        "\\xi= \\dfrac{a_1}{2\\sqrt{a_2a_0}} = \\dfrac{\\dfrac{L}{R}}{2\\sqrt{LC}} = \\dfrac{L}{2R\\sqrt{LC}} = \\dfrac{1}{2R}\\sqrt{\\dfrac{L}{C}}\\\\\n",
        "w_d=w_n\\sqrt{1 - \\xi^2}= (\\dfrac{1}{LC}(1 - \\dfrac{1}{4R^2LC}))^{1/2}\\\\\n",
        "\\end{equation}\n",
        "\n",
        "Con esto encontramos  las expresiones para el factor de amortiguamiento $\\xi$; la frecuencia natural no amortiguada $\\omega_n$, y la frecuencia naturual amortiguada $\\omega_d$ en función de R, L, y C. Nota: asuma condiciones iniciales cero, ahora para complementar el punto expresaremos la funcion de transferencia.\n",
        "\n",
        "\\begin{equation}\n",
        "\\\\H(s)=\\dfrac{\\dfrac{1}{LC}}{s^2 + \\dfrac{1}{R}\\sqrt{\\dfrac{L}{C}}\\sqrt{\\dfrac{1}{LC}}s + \\dfrac{1}{LC}}\n",
        "\\\\H(s)=\\dfrac{\\dfrac{1}{LC}}{s^2 + \\dfrac{s}{RC} + \\dfrac{1}{LC}}\n",
        "\\end{equation}"
      ]
    },
    {
      "cell_type": "markdown",
      "metadata": {
        "id": "YZIUgDWeQm6u"
      },
      "source": [
        "## 4. TRANSFORMADA Z\n",
        "\n"
      ]
    },
    {
      "cell_type": "markdown",
      "metadata": {
        "id": "cY-hjJYYQm6u"
      },
      "source": [
        "##### 4.1. Consulte en qué consiste la transformada Z. Explique las semejanzas y diferencias entre la serie de Fourier, transformada de Fourier en tiempo continuo y discreto, transformada de Laplace y la transformada Z.\n",
        "\n",
        "El motivo principal para tratar con la transformada Z consiste en que la transformada de Fourier no converge en todas las secuencias, esta transformada presenta la ventaja de que, en problemas analíticos el manejo de su notación, expresiones y álgebra es con frecuencia más conveniente. El empleo de la transformada Z en señales discretas tiene su equivalente en la transformada de Laplace para señales continuas.\n",
        "\n",
        "SERIE DE FOURIER |TRANSFORMADA DE FOURIER\n",
        ":--------: | :-------:\n",
        "Descomponen una función periódica en una suma de senos y cosenos con diferentes frecuencias y amplitudes. |Se denomina representación en el dominio de la frecuencia de una señal aperiódica.\n",
        "Expansión de la señal periódica como una combinación lineal de senos y cosenos. | Proceso o función utilizada para convertir las señales del dominio del tiempo al dominio de la frecuencia.\n",
        "Se define para señales periódicas. | Se puede aplicar a señales aperiódicas.\n",
        "Del $t$ continuo a frecuencia discreta. | De $t$ continuo a frecuencia continua.\n",
        "$t\\in (-\\frac{T}{2}, \\frac{T}{2})\\rightarrow$ $n \\in \\mathbb{Z}$ | $t\\in (-\\infty, \\infty)\\rightarrow$ $\\omega \\in(-\\infty, \\infty)$\n",
        "$\\hat{x}(t)=\\sum_{n=-\\infty}^{\\infty}C_{n}e^{j\\omega_{o}t}$ | $\\hat{x}(t)=\\frac{1}{2\\pi}\\int_{-\\infty}^{\\infty}x(\\omega)e^{j\\omega t}d\\omega \\rightarrow x(t)=F^{-1}${$x(\\omega)$}\n",
        "Se necesitan pesos para formar el espectro: $C_{n}=\\frac{1}{T}\\int_{-\\frac{T}{2}}^{\\frac{T}{2}}x(t)e^{-jn\\omega_{o}t}dt$ | El espectro es comprendido directamente por la transformada.\n",
        "$TC_{n}=x(\\omega_{n})=\\int_{-\\frac{T}{2}}^{\\frac{T}{2}}x(t)e^{-j\\omega_{n}t}dt$ | $x(\\omega)=\\int_{-\\infty}^{\\infty}x(t)e^{-j\\omega t}dt$\n",
        "\n",
        "\n",
        "\n",
        "TRANSFORMADA DE LAPLACE | TRANSFORMADA Z\n",
        ":--------: | :-------:\n",
        "Es un operador lineal que transforma ecuaciones lineales no homogéneas en ecuaciones algebráicas. | Convierte una señal real o compleja definida en el dominio del tiempo discreto en una representación en el dominio de la frecuencia compleja.\n",
        "Puede ser unilateral $F(s)=\\int_{0}^{\\infty}e^{-st}f(t)dt$ | Puede ser unilateral $X(Z)=\\sum_{n=0}^{\\infty}x[n]Z^{-n}$\n",
        "O bilateral $F_B(s)=\\int_{-\\infty}^{\\infty}e^{-st}f(t)dt$ | O bilateral $X(Z)=\\sum_{n=-\\infty}^{\\infty}x[n]Z^{-n}$\n",
        "\n",
        "Tiempo continuo. | Tiempo discreto.\n",
        "Cumple propiedades de linealidad, convolución, teoremas de valor inicial y final, desplazamiento temporal, dualidad, derivación, integración. | Cumple propiedades de linealidad, convolución, teoremas de valor inicial y final, desplazamiento temporal, diferenciación respecto a Z.\n",
        "\n",
        "\n",
        "La transformada Z es a las señales de tiempo discreto lo mismo que la transformada de Laplace a las señales de tiempo continuo."
      ]
    },
    {
      "cell_type": "markdown",
      "metadata": {
        "id": "scPbTltDQm6v"
      },
      "source": [
        "#### 4.2. Encuentre la transformada Z para la siguientes señales: i) $x[n]=-a^{n}u[-n-1]$; ii) $x[n]=a^{n}$ para $0\\leq n \\leq N-1$ y $a>0$; iii) $x[n]=\\{5,3,-2_{\\dagger}, 0, 4, -3\\}$, donde $n=0$ para $x[n]_{\\dagger}$\n",
        "\n",
        "###### i) $x[n]=-a^{n}u[-n-1]$\n",
        "\n",
        "Por definición se tiene que la transformada Z se elabora de la siguiente manera:\n",
        "\n",
        "\\begin{equation}\n",
        "X(z)=\\sum_{k=-\\infty}^{\\infty}x[n]z^{-k}\n",
        "\\end{equation}\n",
        "\n",
        "Para esta transformada se tiene en cuenta de forma primordial los puntos en donde se encendera el escalón $u[-n-1]$, este tomará el valor de 1 entre $(-\\infty , -1$], así de la misma manera cambiarán los limites de la sumatoria:\n",
        "\n",
        "\\begin{equation}\n",
        "X(z)=\\sum_{k=-\\infty}^{-1}-a^{k}z^{-k}=-\\sum_{k=-\\infty}^{-1}a^{k}z^{-k}=-\\sum_{k=-\\infty}^{-1}(\\frac{a}{z})^{k}\n",
        "\\end{equation}\n",
        "\n",
        "Se puede evidenciar una equivalencia con la serie geometrica, donde se tiene que:\n",
        "\n",
        "\\begin{equation}\n",
        "X(z)=\\sum_{k=a}^{b}r^{k}=\\frac{r^{a}-r^{b+1}}{1-r}\n",
        "\\end{equation}\n",
        "\n",
        "Siempre y cuando $r\\neq 1$ y se tengan en cuenta los limites si se tiende al infinito y las restricciones necesarias, teniendo esto en cuenta, se puede llegar a:\n",
        "\n",
        "\\begin{equation}\n",
        "-\\sum_{k=-\\infty}^{-1}(\\frac{a}{z})^{k}=-\\frac{(\\frac{a}{z})^{-\\infty}-(\\frac{a}{z})^{-1+1}}{1-az^{-1}}=-\\frac{(\\frac{z}{a})^{\\infty}-(\\frac{a}{z})^{0}}{1-az^{-1}}=-\\frac{(0)-(1)}{1-az^{-1}}=\\frac{1}{1-az^{-1}}\n",
        "\\end{equation}\n",
        "\n",
        "Esta transformada se puede dar, siempre y cuando $\\frac{|z|}{|a|}<1 \\rightarrow |z|<|a|$, ya que así el termino $(\\frac{z}{a})^{\\infty}$ tenderá a cero. El resultado final es:\n",
        "\n",
        "\\begin{equation}\n",
        "X(z)=\\frac{1}{1-az^{-1}}\n",
        "\\end{equation}\n",
        "\n",
        "###### ii)  $x[n]=a^{n}$ para $0\\leq n \\leq N-1$ y $a>0$\n",
        "\n",
        "Teniendo en cuenta la definición de la transformada Z y los limites asignados a la variable n ($0\\leq n \\leq N-1$), la sumatoria tomara la siguiente forma, con dichos limites:\n",
        "\n",
        "\\begin{equation}\n",
        "X(z)=\\sum_{k=0}^{N-1}a^{k}z^{-k}=\\sum_{k=0}^{N-1}(\\frac{a}{z})^{k}\n",
        "\\end{equation}\n",
        "\n",
        "De la misma manera que en el punto anterior, se tiene en cuenta la similitud con la serie geometrica, así:\n",
        "\n",
        "\\begin{equation}\n",
        "\\sum_{k=0}^{N-1}(\\frac{a}{z})^{k}=\\frac{(\\frac{a}{z})^{0}-(\\frac{a}{z})^{N-1+1}}{1-az^{-1}}=\\frac{1-(\\frac{a}{z})^{N}}{1-az^{-1}}\n",
        "\\end{equation}\n",
        "\n",
        "Si se implementa un limite para cuando $N$ tienda infinito, la expresión será de la siguiente manera, siempre y cuando se cumpla la condición que $\\frac{|a|}{|z|}<1 \\rightarrow |a|<|z|$ para que al realizar el limite de $(\\frac{a}{z})^{\\infty}$ tienda a cero, si eso se cumple, la transformada Z de la función será igual a:\n",
        "\n",
        "\\begin{equation}\n",
        "X(z)=\\frac{1}{1-az^{-1}}\n",
        "\\end{equation}\n",
        "\n",
        "Se quiere aclarar, que aunque el resultado de la transformada sea igual al del punto interior, se debe tener claro y en cuenta que las condiciones para $a$ y $z$ son diferentes, por lo cual, no son totalmente iguales\n",
        "\n",
        "###### iii) $x[n]=\\{5,3,-2_{\\dagger}, 0, 4, -3\\}$, donde $n=0$ para $x[n]_{\\dagger}$\n",
        "\n",
        "Se tiene en cuenta entonces que no se tiene una función como tal, sino, un vector de valores  donde se tiene un punto $n=0$, entonces la sumatoría se movera de acuerdo a los valores que se comprenden entre $-2\\leq n \\leq 3$, entonces se tiene que:\n",
        "\n",
        "\\begin{equation}\n",
        "X(z)=\\sum_{k=-2}^{3}x_k z^{-k}=5z^{2}+3z-2z^{0}+(0)z^{-1}+4z^{-2}-3z^{-3}\n",
        "\\end{equation}\n",
        "\n",
        "Así, se tiene una función en función de $z$ como valor de la transformada:\n",
        "\n",
        "\\begin{equation}\n",
        "X(z)=5z^{2}+3z-2+4z^{-2}-3z^{-3}\n",
        "\\end{equation}\n",
        "\n",
        "Teniendo la condición de que $z\\neq 0$ para que se mantenga coherente la expresión."
      ]
    },
    {
      "cell_type": "markdown",
      "metadata": {
        "id": "uPYVGE8dQm6v"
      },
      "source": [
        "#### 4.3. Consulte en que consiste los filtros de respuesta impulso finita (FIR) y los filtros de respuesta impulso infinita (IIR). Realice un paralelo entre los FIR, IIR y los sistemas con y sin realimentación.\n",
        "\n",
        "Ambos son filtros digitales que responden a una señal impulso, aunque con diseños y funciones distintas \n",
        "\n",
        "FIR |IIR|\n",
        ":--------: | :-------:\n",
        "La respuesta tendrá un número finito de puntos no nulos|La respuesta tendrá un número infinito de puntos no nulos, por lo que nunca vuelve al reposo \n",
        "No necesita una realimentación, ya que funciona con las entradas actuales | Se realimenta la salida para tener en cuenta las entradas actuales y pasadas\n",
        "$y[n]=\\sum_{k=0}^{N-1}b_{k}x_{n-k}$| $y[n]=b_{o}x_{n}+b_{1}x_{n-1}+...+b_{N}x_{N-1}-a_{1}y_{n-1}-a_{2}y_{n-2}-...-a_{M}y_{N-M}$\n",
        "$H(z)=\\sum_{k=0}^{N-1}h_{k}z^{-k}$ | $H(z)=\\frac{\\sum_{k=0}^{N}b_{k}z^{-k}}{1+\\sum_{k=1}^{M}a_{k}z^{-k}}$\n",
        "Tienen todos los polos en el origen, por lo que son estables.  Los ceros se presentan en pares de recíprocos si el filtro se diseña para tener fase lineal. | Cuando todos los ceros y polos están en el interior de la circunferencia unidad $\\rightarrow $ fase mínima y el sistema es estable y causal. Si todos los ceros están en el exterior $\\rightarrow $ fase máxima. Si algún polo está fuera de la circunferencia unidad el sistema es inestable.\n",
        "Se diseña por cuatro metodos: Metodo de las ventanas, muestreo en frecuencia, rizado constante, minimos cuadrados | Se diseña de forma directa (Aproximación de Padé, aproximación de mínimos cuadrados) e indirecta (Impulso invariante, aproximación de derivadas, transformación bilineal)\n",
        "Se pueden diseñar para ser de fase lineal | Pueden ser inestables \n",
        "Presenta propiedades de simetría en los coeficientes | Presenta menor carga computacional \n",
        "Necestian un orden mayor de filtros | Cumple las mismas condiciones pero con menor orden de filtro"
      ]
    }
  ]
}